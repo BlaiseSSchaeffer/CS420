{
 "cells": [
  {
   "cell_type": "markdown",
   "metadata": {},
   "source": [
    "# Linear Regression"
   ]
  },
  {
   "cell_type": "code",
   "execution_count": 5,
   "metadata": {
    "collapsed": false
   },
   "outputs": [
    {
     "name": "stdout",
     "output_type": "stream",
     "text": [
      "Step #1, avg. loss: 524.62097\n",
      "Step #6, avg. loss: 504.81964\n",
      "Step #11, avg. loss: 460.54428\n",
      "Step #16, avg. loss: 409.23657\n",
      "Step #21, avg. loss: 233.90898\n",
      "Step #26, avg. loss: 267.18927\n",
      "Step #31, avg. loss: 187.02361\n",
      "Step #36, avg. loss: 188.57602\n",
      "Step #41, avg. loss: 165.98906\n",
      "Step #46, avg. loss: 112.45754\n",
      "MSE: 92.852143\n"
     ]
    }
   ],
   "source": [
    "import skflow\n",
    "from sklearn import datasets, metrics, preprocessing\n",
    "\n",
    "boston = datasets.load_boston()\n",
    "X = preprocessing.StandardScaler().fit_transform(boston.data)\n",
    "regressor = skflow.TensorFlowLinearRegressor()\n",
    "regressor.fit(X, boston.target)\n",
    "score = metrics.mean_squared_error(regressor.predict(X), boston.target)\n",
    "print (\"MSE: %f\" % score)"
   ]
  },
  {
   "cell_type": "markdown",
   "metadata": {},
   "source": [
    "# Linear Classifier"
   ]
  },
  {
   "cell_type": "code",
   "execution_count": 3,
   "metadata": {
    "collapsed": false
   },
   "outputs": [
    {
     "name": "stdout",
     "output_type": "stream",
     "text": [
      "Step #1, avg. loss: 0.71340\n",
      "Step #6, avg. loss: 0.89313\n",
      "Step #11, avg. loss: 0.87603\n",
      "Step #16, avg. loss: 0.62073\n",
      "Step #21, avg. loss: 0.62762\n",
      "Step #26, avg. loss: 0.57839\n",
      "Step #31, avg. loss: 0.60019\n",
      "Step #36, avg. loss: 0.99521\n",
      "Step #41, avg. loss: 0.59674\n",
      "Step #46, avg. loss: 0.62729\n",
      "Accuracy: 0.813333\n"
     ]
    }
   ],
   "source": [
    "iris = datasets.load_iris()\n",
    "classifier = skflow.TensorFlowLinearClassifier(n_classes=3)\n",
    "classifier.fit(iris.data, iris.target)\n",
    "score = metrics.accuracy_score(classifier.predict(iris.data), iris.target)\n",
    "print(\"Accuracy: %f\" % score)"
   ]
  },
  {
   "cell_type": "markdown",
   "metadata": {},
   "source": [
    "# Deep Neural Network"
   ]
  },
  {
   "cell_type": "code",
   "execution_count": 6,
   "metadata": {
    "collapsed": false
   },
   "outputs": [
    {
     "name": "stdout",
     "output_type": "stream",
     "text": [
      "Step #1, avg. loss: 1.99559\n",
      "Step #6, avg. loss: 1.39925\n",
      "Step #11, avg. loss: 1.22465\n",
      "Step #16, avg. loss: 1.12217\n",
      "Step #21, avg. loss: 0.97817\n",
      "Step #26, avg. loss: 0.97034\n",
      "Step #31, avg. loss: 0.83284\n",
      "Step #36, avg. loss: 0.65938\n",
      "Step #41, avg. loss: 0.66487\n",
      "Step #46, avg. loss: 0.75516\n",
      "Accuracy: 0.666667\n"
     ]
    }
   ],
   "source": [
    "iris = datasets.load_iris()\n",
    "classifier = skflow.TensorFlowDNNClassifier(hidden_units=[10, 20, 10], n_classes=3)\n",
    "classifier.fit(iris.data, iris.target)\n",
    "score = metrics.accuracy_score(classifier.predict(iris.data), iris.target)\n",
    "print(\"Accuracy: %f\" % score)"
   ]
  },
  {
   "cell_type": "markdown",
   "metadata": {},
   "source": [
    "# Custom Model"
   ]
  },
  {
   "cell_type": "code",
   "execution_count": 7,
   "metadata": {
    "collapsed": false
   },
   "outputs": [
    {
     "name": "stdout",
     "output_type": "stream",
     "text": [
      "Step #1, avg. loss: 1.98297\n",
      "Step #6, avg. loss: 1.48288\n",
      "Step #11, avg. loss: 1.30813\n",
      "Step #16, avg. loss: 1.26694\n",
      "Step #21, avg. loss: 1.24345\n",
      "Step #26, avg. loss: 1.12301\n",
      "Step #31, avg. loss: 1.09329\n",
      "Step #36, avg. loss: 0.96108\n",
      "Step #41, avg. loss: 0.88401\n",
      "Step #46, avg. loss: 0.78633\n",
      "Accuracy: 0.540000\n"
     ]
    }
   ],
   "source": [
    "iris = datasets.load_iris()\n",
    "\n",
    "def my_model(X, y):\n",
    "    \"\"\"This is DNN with 10, 20, 10 hidden layers, and dropout of 0.5 probability.\"\"\"\n",
    "    layers = skflow.ops.dnn(X, [10, 20, 10], keep_prob=0.5)\n",
    "    return skflow.models.logistic_regression(layers, y)\n",
    "\n",
    "classifier = skflow.TensorFlowEstimator(model_fn=my_model, n_classes=3)\n",
    "classifier.fit(iris.data, iris.target)\n",
    "score = metrics.accuracy_score(classifier.predict(iris.data), iris.target)\n",
    "print(\"Accuracy: %f\" % score)"
   ]
  },
  {
   "cell_type": "markdown",
   "metadata": {},
   "source": [
    "# Spreading Across GPUs"
   ]
  },
  {
   "cell_type": "code",
   "execution_count": 2,
   "metadata": {
    "collapsed": true
   },
   "outputs": [],
   "source": [
    "# NOT SURE WHERE GPU DEVICE INFO IS...\n",
    "\n",
    "# import tensorflow as tf\n",
    "\n",
    "# def my_model(X, y):\n",
    "#     \"\"\"\n",
    "#     This is DNN with 10, 20, 10 hidden layers, and dropout of 0.5 probability.\n",
    "\n",
    "#     Note: If you want to run this example with multiple GPUs, Cuda Toolkit 7.0 and \n",
    "#     CUDNN 6.5 V2 from NVIDIA need to be installed beforehand. \n",
    "#     \"\"\"\n",
    "#     with tf.device('/gpu:1'):\n",
    "#         layers = skflow.ops.dnn(X, [10, 20, 10], keep_prob=0.5)\n",
    "#     with tf.device('/gpu:2'):\n",
    "#         return skflow.models.logistic_regression(layers, y)"
   ]
  }
 ],
 "metadata": {
  "kernelspec": {
   "display_name": "Python 2",
   "language": "python",
   "name": "python2"
  },
  "language_info": {
   "codemirror_mode": {
    "name": "ipython",
    "version": 2
   },
   "file_extension": ".py",
   "mimetype": "text/x-python",
   "name": "python",
   "nbconvert_exporter": "python",
   "pygments_lexer": "ipython2",
   "version": "2.7.10"
  }
 },
 "nbformat": 4,
 "nbformat_minor": 0
}
