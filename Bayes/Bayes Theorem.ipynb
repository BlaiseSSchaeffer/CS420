{
 "cells": [
  {
   "cell_type": "code",
   "execution_count": 34,
   "metadata": {
    "collapsed": true
   },
   "outputs": [],
   "source": [
    "# imports\n",
    "import sys\n",
    "import string\n",
    "\n",
    "from sklearn.datasets import load_files\n",
    "from sklearn.cross_validation import train_test_split\n",
    "from sklearn.naive_bayes import GaussianNB\n",
    "from sklearn.pipeline import Pipeline\n",
    "from sklearn.feature_extraction.text import TfidfVectorizer\n",
    "from sklearn.feature_extraction.stop_words import ENGLISH_STOP_WORDS as sw\n",
    "\n",
    "import pandas as pd\n",
    "\n",
    "import numpy as np\n",
    "\n",
    "import matplotlib.pyplot as plt\n",
    "%matplotlib inline\n",
    "\n",
    "import warnings\n",
    "warnings.filterwarnings(\"ignore\")"
   ]
  },
  {
   "cell_type": "code",
   "execution_count": 35,
   "metadata": {
    "collapsed": false
   },
   "outputs": [],
   "source": [
    "# # the training data folder must be passed as first argument\n",
    "# movie_review_data_folder = \"../scikit-learn/doc/tutorial/text_analytics/data/movie_reviews/txt_sentoken\"\n",
    "# dataset = load_files(movie_review_data_folder, shuffle = False)\n",
    "\n",
    "# print(\"n_samples: %d\" % len(dataset.data))"
   ]
  },
  {
   "cell_type": "code",
   "execution_count": 36,
   "metadata": {
    "collapsed": false
   },
   "outputs": [],
   "source": [
    "# # split the dataset in training and test set:\n",
    "# docs_train, docs_test, y_train, y_test = train_test_split(dataset.data, dataset.target, test_size=0.25, random_state=None)"
   ]
  },
  {
   "cell_type": "code",
   "execution_count": 37,
   "metadata": {
    "collapsed": false
   },
   "outputs": [],
   "source": [
    "# tfidf = TfidfVectorizer(min_df = 3, max_df = 0.95)\n",
    "# tfidf.fit_transform(docs_train, y_train)"
   ]
  },
  {
   "cell_type": "code",
   "execution_count": 38,
   "metadata": {
    "collapsed": false
   },
   "outputs": [],
   "source": [
    "# dataset.target_names"
   ]
  },
  {
   "cell_type": "code",
   "execution_count": 39,
   "metadata": {
    "collapsed": false
   },
   "outputs": [],
   "source": [
    "# tfidf"
   ]
  },
  {
   "cell_type": "markdown",
   "metadata": {
    "collapsed": false
   },
   "source": [
    "# Redo!"
   ]
  },
  {
   "cell_type": "code",
   "execution_count": 40,
   "metadata": {
    "collapsed": false
   },
   "outputs": [],
   "source": [
    "movie_review_data_folder = \"../../scikit-learn/doc/tutorial/text_analytics/data/movie_reviews/txt_sentoken\"\n",
    "dataset = load_files(movie_review_data_folder, shuffle=False)\n",
    "docs_train, docs_test, y_train, y_test = train_test_split(dataset.data, dataset.target, test_size=0.25, random_state=None)\n"
   ]
  },
  {
   "cell_type": "markdown",
   "metadata": {},
   "source": [
    "# Create the document dictionary"
   ]
  },
  {
   "cell_type": "code",
   "execution_count": 41,
   "metadata": {
    "collapsed": true
   },
   "outputs": [],
   "source": [
    "stop_words = list(sw)\n",
    "\n",
    "def term_freq(file):\n",
    "    file = str(file)\n",
    "    file = file.split()\n",
    "    \n",
    "    document_dict = set()\n",
    "    \n",
    "    for word in file:\n",
    "        word = word.lower()\n",
    "        \n",
    "        for char in string.punctuation:\n",
    "            word = word.replace(char, \"\")\n",
    "            \n",
    "        if word not in stop_words:\n",
    "            if word not in document_dict:\n",
    "                document_dict.add(word)\n",
    "                \n",
    "    return document_dict\n",
    "    "
   ]
  },
  {
   "cell_type": "markdown",
   "metadata": {},
   "source": [
    "# Count of every word in all movie reviews"
   ]
  },
  {
   "cell_type": "code",
   "execution_count": 42,
   "metadata": {
    "collapsed": false
   },
   "outputs": [],
   "source": [
    "word_counts = {}\n",
    "for i in docs_train:\n",
    "    current_dict = term_freq(i)\n",
    "    \n",
    "    for word in current_dict:\n",
    "        if word in word_counts:\n",
    "            word_counts[word] += 1\n",
    "        else:\n",
    "            word_counts[word] = 1"
   ]
  },
  {
   "cell_type": "markdown",
   "metadata": {},
   "source": [
    "# Build a list of positive and negative reviews"
   ]
  },
  {
   "cell_type": "code",
   "execution_count": 43,
   "metadata": {
    "collapsed": true
   },
   "outputs": [],
   "source": [
    "positive_reviews = []\n",
    "negative_reviews = []\n",
    "\n",
    "for idx in range(len(docs_train)):\n",
    "    if y_train[idx] == 1:\n",
    "        positive_reviews.append(docs_train[idx])\n",
    "    else:\n",
    "        negative_reviews.append(docs_train[idx])\n",
    "        "
   ]
  },
  {
   "cell_type": "markdown",
   "metadata": {},
   "source": [
    "# Count occurance of words in the positive reviews"
   ]
  },
  {
   "cell_type": "code",
   "execution_count": 44,
   "metadata": {
    "collapsed": true
   },
   "outputs": [],
   "source": [
    "positive_word_counts = {}\n",
    "\n",
    "for i in positive_reviews:\n",
    "    current_dict = term_freq(i)\n",
    "    \n",
    "    for word in current_dict:\n",
    "        if word in positive_word_counts:\n",
    "            positive_word_counts[word] += 1\n",
    "        else:\n",
    "            positive_word_counts[word] = 1"
   ]
  },
  {
   "cell_type": "markdown",
   "metadata": {},
   "source": [
    "# Count occurance of words in the negative reviews"
   ]
  },
  {
   "cell_type": "code",
   "execution_count": 45,
   "metadata": {
    "collapsed": true
   },
   "outputs": [],
   "source": [
    "negative_word_counts = {}\n",
    "\n",
    "for i in negative_reviews:\n",
    "    current_dict = term_freq(i)\n",
    "    \n",
    "    for word in current_dict:\n",
    "        if word in negative_word_counts:\n",
    "            negative_word_counts[word] += 1\n",
    "        else:\n",
    "            negative_word_counts[word] = 1"
   ]
  },
  {
   "cell_type": "markdown",
   "metadata": {},
   "source": [
    "# What is the total number of words in all of the reviews, just positive reviews, and just negative reviews?"
   ]
  },
  {
   "cell_type": "code",
   "execution_count": 46,
   "metadata": {
    "collapsed": false
   },
   "outputs": [
    {
     "name": "stdout",
     "output_type": "stream",
     "text": [
      "400372\n"
     ]
    }
   ],
   "source": [
    "total_words = 0\n",
    "for word in word_counts:\n",
    "    total_words += word_counts[word]\n",
    "    \n",
    "    \n",
    "total_words_positive = 0\n",
    "for word in positive_word_counts:\n",
    "    total_words_positive += positive_word_counts[word]\n",
    "    \n",
    "    \n",
    "total_words_negative = 0\n",
    "for word in negative_word_counts:\n",
    "    total_words_negative += negative_word_counts[word]\n",
    "    \n",
    "print(total_words)"
   ]
  },
  {
   "cell_type": "markdown",
   "metadata": {},
   "source": [
    "# Make the Baysean classifier"
   ]
  },
  {
   "cell_type": "code",
   "execution_count": 100,
   "metadata": {
    "collapsed": true
   },
   "outputs": [],
   "source": [
    "def Bayes(word):\n",
    "    positive_review_probability = 768/1500\n",
    "    negative_review_probability = 732/1500\n",
    "    \n",
    "    if word in word_counts and word in positive_word_counts and word in negative_word_counts:\n",
    "        word_probability = word_counts[word] / total_words\n",
    "        \n",
    "        positive_word_probability = positive_word_counts[word] / total_words_positive\n",
    "        negative_word_probability = negative_word_counts[word] / total_words_negative\n",
    "        \n",
    "        final_prbability_positive = (positive_review_probability * positive_word_probability) / word_probability\n",
    "        final_prbability_negative = (negative_review_probability * negative_word_probability) / word_probability\n",
    "        \n",
    "        return (final_prbability_positive, final_prbability_negative)\n",
    "#         return \"P(Positive | '\" + word + \"') = \" + str(final_prbability_positive) + \"\\nP(Negative | '\" + word + \"') = \" + str(final_prbability_negative) + \"\\n\"\n",
    "    else:\n",
    "        return (None, None)\n",
    "#         return \"The given word is not used in any of the reviews, therefore the probability cannot be defined\\n\""
   ]
  },
  {
   "cell_type": "code",
   "execution_count": 95,
   "metadata": {
    "collapsed": false
   },
   "outputs": [
    {
     "name": "stdout",
     "output_type": "stream",
     "text": [
      "P(Positive | 'explosion') = 0.47558833942346734\n",
      "P(Negative | 'explosion') = 0.5245062542067698\n",
      "\n",
      "P(Positive | 'tension') = 0.5739859268903916\n",
      "P(Negative | 'tension') = 0.4258530402493836\n",
      "\n",
      "P(Positive | 'mystery') = 0.46369863093788055\n",
      "P(Negative | 'mystery') = 0.5364268508932872\n",
      "\n",
      "P(Positive | 'scifi') = 0.5276338558132053\n",
      "P(Negative | 'scifi') = 0.47232552908842906\n",
      "\n",
      "P(Positive | 'action') = 0.4399493144945189\n",
      "P(Negative | 'action') = 0.5602378655405337\n",
      "\n",
      "P(Positive | 'elegant') = 0.7989884102314251\n",
      "P(Negative | 'elegant') = 0.2002660243334939\n",
      "\n",
      "P(Positive | 'mastery') = 0.5992413076735689\n",
      "P(Negative | 'mastery') = 0.4005320486669878\n",
      "\n",
      "P(Positive | 'fiction') = 0.6128604283025135\n",
      "P(Negative | 'fiction') = 0.3868775470078859\n",
      "\n"
     ]
    }
   ],
   "source": [
    "print(Bayes(\"explosion\"))\n",
    "print(Bayes(\"tension\"))\n",
    "print(Bayes(\"mystery\"))\n",
    "print(Bayes(\"scifi\"))\n",
    "print(Bayes(\"action\"))\n",
    "print(Bayes(\"elegant\"))\n",
    "print(Bayes(\"mastery\"))\n",
    "print(Bayes(\"fiction\"))"
   ]
  },
  {
   "cell_type": "markdown",
   "metadata": {},
   "source": [
    "# Probability of a review being positive of negative"
   ]
  },
  {
   "cell_type": "code",
   "execution_count": 106,
   "metadata": {
    "collapsed": true
   },
   "outputs": [],
   "source": [
    "def TypeProbability(review):\n",
    "    review = str(review).split()\n",
    "    \n",
    "    probability_positive_list = []\n",
    "    probability_negative_list = []\n",
    "    \n",
    "    for word in review:\n",
    "        positive_probability, negative_probability = Bayes(word)\n",
    "        \n",
    "        if positive_probability != None:\n",
    "            probability_positive_list.append(positive_probability)\n",
    "            probability_negative_list.append(negative_probability)\n",
    "            \n",
    "    probability_positive = 1\n",
    "    probability_not_positive = 1\n",
    "    for i in probability_positive_list:\n",
    "        probability_positive = probability_positive * i\n",
    "        probability_not_positive = probability_not_positive * (1 - i)\n",
    "        \n",
    "    final_probability_positive = probability_positive / (probability_positive + probability_not_positive)\n",
    "    \n",
    "    \n",
    "    probability_negative = 1\n",
    "    probability_not_negative = 1\n",
    "    for i in probability_negative_list:\n",
    "        probability_negative = probability_negative * i\n",
    "        probability_not_negative = probability_not_negative * (1 - i)\n",
    "        \n",
    "    final_probability_negative = probability_negative / (probability_negative + probability_not_negative)\n",
    "    \n",
    "    return \"P(Positive) = \" + str(final_probability_positive) + \"\\nP(Negative) = \" + str(final_probability_negative) + \"\\n\""
   ]
  },
  {
   "cell_type": "code",
   "execution_count": 115,
   "metadata": {
    "collapsed": false
   },
   "outputs": [
    {
     "name": "stdout",
     "output_type": "stream",
     "text": [
      "P(Positive) = 0.8331905225271645\n",
      "P(Negative) = 0.16612493461597555\n",
      "\n",
      "P(Positive) = 0.32338041359219083\n",
      "P(Negative) = 0.6779354313030018\n",
      "\n",
      "P(Positive) = 0.22559999529963995\n",
      "P(Negative) = 0.7753213621293825\n",
      "\n",
      "P(Positive) = 0.5\n",
      "P(Negative) = 0.5\n",
      "\n",
      "P(Positive) = 0.5\n",
      "P(Negative) = 0.5\n",
      "\n",
      "P(Positive) = 0.5959580637345812\n",
      "P(Negative) = 0.4038811464694796\n",
      "\n"
     ]
    }
   ],
   "source": [
    "print(TypeProbability(\"I really enjoyed that movie, it was well done and thought out in an elegant mannor\"))\n",
    "print(TypeProbability(\"This movie was a waste of my time. I would rather watch grass grow\"))\n",
    "print(TypeProbability(\"I am impartial to this movie. Not the worst movie I have seen, but also not the best movie I have seen\"))\n",
    "print(TypeProbability(\"Go see it!\"))\n",
    "print(TypeProbability(\"Don't go see it\"))\n",
    "print(TypeProbability(\"Best movie your eyes have ever witnessed\"))\n"
   ]
  },
  {
   "cell_type": "code",
   "execution_count": null,
   "metadata": {
    "collapsed": true
   },
   "outputs": [],
   "source": []
  },
  {
   "cell_type": "code",
   "execution_count": null,
   "metadata": {
    "collapsed": true
   },
   "outputs": [],
   "source": []
  },
  {
   "cell_type": "code",
   "execution_count": null,
   "metadata": {
    "collapsed": true
   },
   "outputs": [],
   "source": []
  },
  {
   "cell_type": "code",
   "execution_count": null,
   "metadata": {
    "collapsed": true
   },
   "outputs": [],
   "source": []
  },
  {
   "cell_type": "code",
   "execution_count": null,
   "metadata": {
    "collapsed": true
   },
   "outputs": [],
   "source": []
  },
  {
   "cell_type": "code",
   "execution_count": null,
   "metadata": {
    "collapsed": true
   },
   "outputs": [],
   "source": []
  },
  {
   "cell_type": "code",
   "execution_count": null,
   "metadata": {
    "collapsed": true
   },
   "outputs": [],
   "source": []
  },
  {
   "cell_type": "code",
   "execution_count": null,
   "metadata": {
    "collapsed": true
   },
   "outputs": [],
   "source": []
  },
  {
   "cell_type": "code",
   "execution_count": null,
   "metadata": {
    "collapsed": true
   },
   "outputs": [],
   "source": []
  },
  {
   "cell_type": "code",
   "execution_count": null,
   "metadata": {
    "collapsed": true
   },
   "outputs": [],
   "source": []
  },
  {
   "cell_type": "code",
   "execution_count": null,
   "metadata": {
    "collapsed": true
   },
   "outputs": [],
   "source": []
  }
 ],
 "metadata": {
  "kernelspec": {
   "display_name": "Python 3",
   "language": "python",
   "name": "python3"
  },
  "language_info": {
   "codemirror_mode": {
    "name": "ipython",
    "version": 3
   },
   "file_extension": ".py",
   "mimetype": "text/x-python",
   "name": "python",
   "nbconvert_exporter": "python",
   "pygments_lexer": "ipython3",
   "version": "3.4.2"
  }
 },
 "nbformat": 4,
 "nbformat_minor": 0
}
