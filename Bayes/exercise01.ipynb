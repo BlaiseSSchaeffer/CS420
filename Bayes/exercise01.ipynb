{
 "cells": [
  {
   "cell_type": "code",
   "execution_count": 1,
   "metadata": {
    "collapsed": false
   },
   "outputs": [],
   "source": [
    "\"\"\"Build a language detector model\n",
    "\n",
    "The goal of this exercise is to train a linear classifier on text features\n",
    "that represent sequences of up to 3 consecutive characters so as to be\n",
    "recognize natural languages by using the frequencies of short character\n",
    "sequences as 'fingerprints'.\n",
    "\n",
    "\"\"\"\n",
    "# Author: Olivier Grisel <olivier.grisel@ensta.org>\n",
    "# License: Simplified BSD\n",
    "\n",
    "import sys\n",
    "\n",
    "from sklearn.feature_extraction.text import TfidfVectorizer\n",
    "from sklearn.linear_model import Perceptron\n",
    "from sklearn.pipeline import Pipeline\n",
    "from sklearn.datasets import load_files\n",
    "from sklearn.cross_validation import train_test_split\n",
    "from sklearn import metrics\n",
    "\n",
    "%matplotlib inline\n",
    "\n",
    "\n",
    "# The training data folder must be passed as first argument\n",
    "languages_data_folder = \"../scikit-learn/doc/tutorial/text_analytics/data/languages/paragraphs\"\n",
    "dataset = load_files(languages_data_folder)\n",
    "\n",
    "# Split the dataset in training and test set:\n",
    "docs_train, docs_test, y_train, y_test = train_test_split(dataset.data, dataset.target, test_size=0.5)"
   ]
  },
  {
   "cell_type": "code",
   "execution_count": 2,
   "metadata": {
    "collapsed": false
   },
   "outputs": [],
   "source": [
    "# TASK: Build a an vectorizer that splits strings into sequence of 1 to 3\n",
    "# characters instead of word tokens\n",
    "tfidf_vectorizer = TfidfVectorizer(ngram_range = (1, 3), analyzer = \"char\", use_idf = False)"
   ]
  },
  {
   "cell_type": "code",
   "execution_count": 3,
   "metadata": {
    "collapsed": true
   },
   "outputs": [],
   "source": [
    "# TASK: Build a vectorizer / classifier pipeline using the previous analyzer\n",
    "# the pipeline instance should stored in a variable named clf\n",
    "clf = Pipeline([(\"vect\", tfidf_vectorizer),\n",
    "                (\"clf\", Perceptron())\n",
    "               ])"
   ]
  },
  {
   "cell_type": "code",
   "execution_count": 4,
   "metadata": {
    "collapsed": false
   },
   "outputs": [
    {
     "data": {
      "text/plain": [
       "Pipeline(steps=[('vect', TfidfVectorizer(analyzer='char', binary=False, decode_error='strict',\n",
       "        dtype=<class 'numpy.int64'>, encoding='utf-8', input='content',\n",
       "        lowercase=True, max_df=1.0, max_features=None, min_df=1,\n",
       "        ngram_range=(1, 3), norm='l2', preprocessor=None, smooth_idf=True,\n",
       "  ...n_iter=5, n_jobs=1, penalty=None, random_state=0, shuffle=True,\n",
       "      verbose=0, warm_start=False))])"
      ]
     },
     "execution_count": 4,
     "metadata": {},
     "output_type": "execute_result"
    }
   ],
   "source": [
    "# TASK: Fit the pipeline on the training set\n",
    "clf.fit(docs_train, y_train)"
   ]
  },
  {
   "cell_type": "code",
   "execution_count": 5,
   "metadata": {
    "collapsed": true
   },
   "outputs": [],
   "source": [
    "# TASK: Predict the outcone on the training set in a variable\n",
    "# named y_predicted\n",
    "y_predicted = clf.predict(docs_test)"
   ]
  },
  {
   "cell_type": "code",
   "execution_count": 7,
   "metadata": {
    "collapsed": false
   },
   "outputs": [
    {
     "name": "stdout",
     "output_type": "stream",
     "text": [
      "             precision    recall  f1-score   support\n",
      "\n",
      "         ar       1.00      1.00      1.00        10\n",
      "         de       1.00      0.98      0.99        52\n",
      "         en       0.99      1.00      0.99        73\n",
      "         es       0.98      0.96      0.97        57\n",
      "         fr       1.00      1.00      1.00        55\n",
      "         it       0.91      0.98      0.94        41\n",
      "         ja       0.97      1.00      0.99        37\n",
      "         nl       1.00      1.00      1.00        18\n",
      "         pl       0.86      1.00      0.93        19\n",
      "         pt       1.00      0.89      0.94        47\n",
      "         ru       1.00      0.97      0.98        33\n",
      "\n",
      "avg / total       0.98      0.98      0.98       442\n",
      "\n",
      "[[10  0  0  0  0  0  0  0  0  0  0]\n",
      " [ 0 51  0  0  0  0  0  0  1  0  0]\n",
      " [ 0  0 73  0  0  0  0  0  0  0  0]\n",
      " [ 0  0  0 55  0  1  1  0  0  0  0]\n",
      " [ 0  0  0  0 55  0  0  0  0  0  0]\n",
      " [ 0  0  0  0  0 40  0  0  1  0  0]\n",
      " [ 0  0  0  0  0  0 37  0  0  0  0]\n",
      " [ 0  0  0  0  0  0  0 18  0  0  0]\n",
      " [ 0  0  0  0  0  0  0  0 19  0  0]\n",
      " [ 0  0  0  1  0  3  0  0  1 42  0]\n",
      " [ 0  0  1  0  0  0  0  0  0  0 32]]\n"
     ]
    },
    {
     "data": {
      "image/png": "[encoded data removed]",
      "text/plain": [
       "<matplotlib.figure.Figure at 0x109a8e898>"
      ]
     },
     "metadata": {},
     "output_type": "display_data"
    },
    {
     "name": "stdout",
     "output_type": "stream",
     "text": [
      "The language of \"This is a language detection test.\" is \"en\"\n",
      "The language of \"Ceci est un test de détection de la langue.\" is \"fr\"\n",
      "The language of \"Dies ist ein Test, um die Sprache zu erkennen.\" is \"de\"\n"
     ]
    }
   ],
   "source": [
    "# Print the classification report\n",
    "print(metrics.classification_report(y_test, y_predicted,\n",
    "                                    target_names=dataset.target_names))\n",
    "\n",
    "# Plot the confusion matrix\n",
    "cm = metrics.confusion_matrix(y_test, y_predicted)\n",
    "print(cm)\n",
    "\n",
    "import pylab as pl\n",
    "pl.matshow(cm, cmap=pl.cm.jet)\n",
    "pl.show()\n",
    "\n",
    "# Predict the result on some short new sentences:\n",
    "sentences = [\n",
    "    u'This is a language detection test.',\n",
    "    u'Ceci est un test de d\\xe9tection de la langue.',\n",
    "    u'Dies ist ein Test, um die Sprache zu erkennen.',\n",
    "]\n",
    "predicted = clf.predict(sentences)\n",
    "\n",
    "for s, p in zip(sentences, predicted):\n",
    "    print(u'The language of \"%s\" is \"%s\"' % (s, dataset.target_names[p]))\n"
   ]
  }
 ],
 "metadata": {
  "kernelspec": {
   "display_name": "Python 3",
   "language": "python",
   "name": "python3"
  },
  "language_info": {
   "codemirror_mode": {
    "name": "ipython",
    "version": 3
   },
   "file_extension": ".py",
   "mimetype": "text/x-python",
   "name": "python",
   "nbconvert_exporter": "python",
   "pygments_lexer": "ipython3",
   "version": "3.4.2"
  }
 },
 "nbformat": 4,
 "nbformat_minor": 0
}
