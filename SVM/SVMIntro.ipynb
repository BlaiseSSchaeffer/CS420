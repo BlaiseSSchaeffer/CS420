{
 "cells": [
  {
   "cell_type": "markdown",
   "metadata": {},
   "source": [
    "# Support Vector Machine\n",
    "\n",
    "![http://docs.opencv.org/_images/optimal-hyperplane.png](http://docs.opencv.org/_images/optimal-hyperplane.png)\n",
    "\n"
   ]
  },
  {
   "cell_type": "markdown",
   "metadata": {},
   "source": [
    "They are an evolved form of the Perceptron.\n",
    "\n",
    "See this link:  http://www.tristanfletcher.co.uk/SVM%20Explained.pdf  for a nice paper (first 10 pages) that goes into the math.  Also here for the scikit-learn page:  http://scikit-learn.org/stable/modules/svm.html#kernel-functions\n",
    "\n",
    "\n"
   ]
  },
  {
   "cell_type": "code",
   "execution_count": 2,
   "metadata": {
    "collapsed": false
   },
   "outputs": [],
   "source": [
    "%matplotlib inline\n",
    "import pandas as pd\n",
    "import numpy as np\n",
    "import matplotlib.pyplot as plt\n",
    "\n",
    "from sklearn.linear_model import Perceptron\n",
    "from sklearn.svm import SVC\n",
    "from sklearn.cross_validation import train_test_split\n",
    "from sklearn.metrics import confusion_matrix, classification_report\n",
    "\n",
    "import warnings\n",
    "warnings.filterwarnings('ignore')"
   ]
  },
  {
   "cell_type": "code",
   "execution_count": 8,
   "metadata": {
    "collapsed": false
   },
   "outputs": [
    {
     "data": {
      "text/html": [
       "<style>body {\n",
       "    margin: 0;\n",
       "    font-family: Helvetica;\n",
       "}\n",
       "table.dataframe {\n",
       "    border-collapse: collapse;\n",
       "    border: none;\n",
       "}\n",
       "table.dataframe tr {\n",
       "    border: none;\n",
       "}\n",
       "table.dataframe td, table.dataframe th {\n",
       "    margin: 0;\n",
       "    border: 1px solid white;\n",
       "    padding-left: 0.25em;\n",
       "    padding-right: 0.25em;\n",
       "}\n",
       "table.dataframe th:not(:empty) {\n",
       "    background-color: #fec;\n",
       "    text-align: left;\n",
       "    font-weight: normal;\n",
       "}\n",
       "table.dataframe tr:nth-child(2) th:empty {\n",
       "    border-left: none;\n",
       "    border-right: 1px dashed #888;\n",
       "}\n",
       "table.dataframe td {\n",
       "    border: 2px solid #ccf;\n",
       "    background-color: #f4f4ff;\n",
       "}\n",
       "h3 {\n",
       "    color: white;\n",
       "    background-color: black;\n",
       "    padding: 0.5em;\n",
       "}\n",
       "</style>"
      ],
      "text/plain": [
       "<IPython.core.display.HTML object>"
      ]
     },
     "execution_count": 8,
     "metadata": {},
     "output_type": "execute_result"
    }
   ],
   "source": [
    "from IPython.core.display import HTML\n",
    "css = open('style-table.css').read() + open('style-notebook.css').read()\n",
    "HTML('<style>{}</style>'.format(css))"
   ]
  },
  {
   "cell_type": "code",
   "execution_count": 9,
   "metadata": {
    "collapsed": false
   },
   "outputs": [],
   "source": [
    "df = pd.read_csv('mystery.csv',header=None)\n",
    "mdata = df[[0,1]].values\n",
    "cats = df[2].values\n",
    "\n",
    "Xtrain, Xtest, Ctrain, Ctest = train_test_split(mdata, cats)"
   ]
  },
  {
   "cell_type": "code",
   "execution_count": 10,
   "metadata": {
    "collapsed": false
   },
   "outputs": [
    {
     "data": {
      "text/plain": [
       "SVC(C=1.0, cache_size=200, class_weight=None, coef0=0.0, degree=3, gamma=0.0,\n",
       "  kernel='rbf', max_iter=-1, probability=False, random_state=None,\n",
       "  shrinking=True, tol=0.001, verbose=False)"
      ]
     },
     "execution_count": 10,
     "metadata": {},
     "output_type": "execute_result"
    }
   ],
   "source": [
    "classifier = SVC()\n",
    "classifier.fit(Xtrain,Ctrain)"
   ]
  },
  {
   "cell_type": "code",
   "execution_count": 11,
   "metadata": {
    "collapsed": false
   },
   "outputs": [
    {
     "name": "stdout",
     "output_type": "stream",
     "text": [
      "             precision    recall  f1-score   support\n",
      "\n",
      "         -1       1.00      0.90      0.95        21\n",
      "          1       0.94      1.00      0.97        29\n",
      "\n",
      "avg / total       0.96      0.96      0.96        50\n",
      "\n"
     ]
    }
   ],
   "source": [
    "Cpred = classifier.predict(Xtest)\n",
    "print(classification_report(Ctest,Cpred))"
   ]
  },
  {
   "cell_type": "markdown",
   "metadata": {},
   "source": [
    "## Compare the performance of the Perceptron and the SVM on the iris and digits data"
   ]
  },
  {
   "cell_type": "code",
   "execution_count": 3,
   "metadata": {
    "collapsed": false
   },
   "outputs": [
    {
     "name": "stdout",
     "output_type": "stream",
     "text": [
      "Keys =  dict_keys(['DESCR', 'feature_names', 'data', 'target', 'target_names'])\n",
      "[2 2]\n",
      "['virginica' 'virginica']\n",
      "             precision    recall  f1-score   support\n",
      "\n",
      "     setosa       1.00      1.00      1.00        11\n",
      " versicolor       0.85      1.00      0.92        11\n",
      "  virginica       1.00      0.88      0.93        16\n",
      "\n",
      "avg / total       0.96      0.95      0.95        38\n",
      "\n"
     ]
    }
   ],
   "source": [
    "from sklearn import datasets\n",
    "\n",
    "iris = datasets.load_iris()\n",
    "print(\"Keys = \", iris.keys())\n",
    "X, y = iris.data, iris.target\n",
    "Xtrain, Xtest, ytrain, ytest = train_test_split(X, y)\n",
    "\n",
    "\n",
    "#create the model\n",
    "sss = SVC() #n_iter\n",
    "\n",
    "#fit the model\n",
    "sss.fit(Xtrain, ytrain)\n",
    "\n",
    "#What kind of iris has 3cm x 5cm sepal and 4cm x 2cm petal?\n",
    "#call the predict method:\n",
    "result = sss.predict([[3, 5, 4, 2], [2, 4, 5, 3]])\n",
    "print(result)\n",
    "print(iris.target_names[result])\n",
    "\n",
    "ypred = sss.predict(Xtest)\n",
    "print(classification_report(ytest, ypred, target_names = iris.target_names))"
   ]
  },
  {
   "cell_type": "code",
   "execution_count": null,
   "metadata": {
    "collapsed": false
   },
   "outputs": [],
   "source": []
  },
  {
   "cell_type": "code",
   "execution_count": 16,
   "metadata": {
    "collapsed": false
   },
   "outputs": [
    {
     "name": "stdout",
     "output_type": "stream",
     "text": [
      "[0 2]\n",
      "['setosa' 'virginica']\n",
      "             precision    recall  f1-score   support\n",
      "\n",
      "     setosa       0.55      1.00      0.71        11\n",
      " versicolor       0.00      0.00      0.00        14\n",
      "  virginica       0.72      1.00      0.84        13\n",
      "\n",
      "avg / total       0.41      0.63      0.49        38\n",
      "\n"
     ]
    }
   ],
   "source": [
    "#create the model\n",
    "sss = Perceptron() #n_iter\n",
    "\n",
    "#fit the model\n",
    "sss.fit(Xtrain, ytrain)\n",
    "\n",
    "#What kind of iris has 3cm x 5cm sepal and 4cm x 2cm petal?\n",
    "#call the predict method:\n",
    "result = sss.predict([[3, 5, 4, 2], [2, 4, 5, 3]])\n",
    "print(result)\n",
    "print(iris.target_names[result])\n",
    "\n",
    "ypred = sss.predict(Xtest)\n",
    "print(classification_report(ytest, ypred, target_names = iris.target_names))"
   ]
  },
  {
   "cell_type": "markdown",
   "metadata": {},
   "source": [
    "# Digits"
   ]
  },
  {
   "cell_type": "code",
   "execution_count": 23,
   "metadata": {
    "collapsed": false,
    "scrolled": true
   },
   "outputs": [
    {
     "name": "stdout",
     "output_type": "stream",
     "text": [
      "Keys =  dict_keys(['DESCR', 'target_names', 'target', 'images', 'data'])\n",
      "             precision    recall  f1-score   support\n",
      "\n",
      "          0       1.00      0.74      0.85        34\n",
      "          1       1.00      0.31      0.47        49\n",
      "          2       1.00      0.16      0.27        45\n",
      "          3       1.00      0.12      0.22        56\n",
      "          4       1.00      0.46      0.63        48\n",
      "          5       1.00      0.40      0.58        47\n",
      "          6       1.00      0.47      0.64        55\n",
      "          7       1.00      0.68      0.81        38\n",
      "          8       1.00      0.18      0.30        39\n",
      "          9       0.13      1.00      0.23        39\n",
      "\n",
      "avg / total       0.92      0.43      0.49       450\n",
      "\n"
     ]
    }
   ],
   "source": [
    "digits = datasets.load_digits()\n",
    "print(\"Keys = \", digits.keys())\n",
    "X, y = digits.data, digits.target\n",
    "Xtrain, Xtest, ytrain, ytest = train_test_split(X, y)\n",
    "\n",
    "\n",
    "#create the model\n",
    "sss = SVC() #n_iter\n",
    "\n",
    "#fit the model\n",
    "sss.fit(Xtrain, ytrain)\n",
    "\n",
    "#What kind of iris has 3cm x 5cm sepal and 4cm x 2cm petal?\n",
    "#call the predict method:\n",
    "# result = sss.predict([[3, 5, 4, 2], [2, 4, 5, 3]])\n",
    "# print(result)\n",
    "# print(digits.target_names[result])\n",
    "\n",
    "ypred = sss.predict(Xtest)\n",
    "print(classification_report(ytest, ypred))#, target_names = digits.target_names))"
   ]
  },
  {
   "cell_type": "code",
   "execution_count": 24,
   "metadata": {
    "collapsed": false
   },
   "outputs": [
    {
     "name": "stdout",
     "output_type": "stream",
     "text": [
      "             precision    recall  f1-score   support\n",
      "\n",
      "          0       1.00      0.97      0.99        34\n",
      "          1       1.00      0.67      0.80        49\n",
      "          2       0.90      0.98      0.94        45\n",
      "          3       0.98      0.93      0.95        56\n",
      "          4       1.00      0.90      0.95        48\n",
      "          5       0.97      0.77      0.86        47\n",
      "          6       1.00      0.91      0.95        55\n",
      "          7       0.90      1.00      0.95        38\n",
      "          8       0.55      1.00      0.71        39\n",
      "          9       0.92      0.92      0.92        39\n",
      "\n",
      "avg / total       0.93      0.90      0.90       450\n",
      "\n"
     ]
    }
   ],
   "source": [
    "#create the model\n",
    "sss = Perceptron() #n_iter\n",
    "\n",
    "#fit the model\n",
    "sss.fit(Xtrain, ytrain)\n",
    "\n",
    "#What kind of iris has 3cm x 5cm sepal and 4cm x 2cm petal?\n",
    "#call the predict method:\n",
    "# result = sss.predict([[3, 5, 4, 2], [2, 4, 5, 3]])\n",
    "# print(result)\n",
    "# print(digits.target_names[result])\n",
    "\n",
    "ypred = sss.predict(Xtest)\n",
    "print(classification_report(ytest, ypred))#, target_names = digits.target_names))"
   ]
  },
  {
   "cell_type": "markdown",
   "metadata": {},
   "source": [
    "# Letter Gifs"
   ]
  },
  {
   "cell_type": "code",
   "execution_count": 25,
   "metadata": {
    "collapsed": false
   },
   "outputs": [
    {
     "data": {
      "text/html": [
       "<div>\n",
       "<table border=\"1\" class=\"dataframe\">\n",
       "  <thead>\n",
       "    <tr style=\"text-align: right;\">\n",
       "      <th></th>\n",
       "      <th>0</th>\n",
       "      <th>1</th>\n",
       "      <th>2</th>\n",
       "      <th>3</th>\n",
       "      <th>4</th>\n",
       "      <th>5</th>\n",
       "      <th>6</th>\n",
       "      <th>7</th>\n",
       "      <th>8</th>\n",
       "      <th>9</th>\n",
       "      <th>...</th>\n",
       "      <th>391</th>\n",
       "      <th>392</th>\n",
       "      <th>393</th>\n",
       "      <th>394</th>\n",
       "      <th>395</th>\n",
       "      <th>396</th>\n",
       "      <th>397</th>\n",
       "      <th>398</th>\n",
       "      <th>399</th>\n",
       "      <th>400</th>\n",
       "    </tr>\n",
       "  </thead>\n",
       "  <tbody>\n",
       "    <tr>\n",
       "      <th>0</th>\n",
       "      <td>3</td>\n",
       "      <td>3</td>\n",
       "      <td>3</td>\n",
       "      <td>3</td>\n",
       "      <td>3</td>\n",
       "      <td>3</td>\n",
       "      <td>3</td>\n",
       "      <td>3</td>\n",
       "      <td>3</td>\n",
       "      <td>3</td>\n",
       "      <td>...</td>\n",
       "      <td>3</td>\n",
       "      <td>3</td>\n",
       "      <td>3</td>\n",
       "      <td>3</td>\n",
       "      <td>3</td>\n",
       "      <td>3</td>\n",
       "      <td>3</td>\n",
       "      <td>68</td>\n",
       "      <td>171</td>\n",
       "      <td>a</td>\n",
       "    </tr>\n",
       "    <tr>\n",
       "      <th>1</th>\n",
       "      <td>3</td>\n",
       "      <td>3</td>\n",
       "      <td>19</td>\n",
       "      <td>19</td>\n",
       "      <td>155</td>\n",
       "      <td>52</td>\n",
       "      <td>52</td>\n",
       "      <td>3</td>\n",
       "      <td>3</td>\n",
       "      <td>3</td>\n",
       "      <td>...</td>\n",
       "      <td>3</td>\n",
       "      <td>3</td>\n",
       "      <td>3</td>\n",
       "      <td>3</td>\n",
       "      <td>3</td>\n",
       "      <td>3</td>\n",
       "      <td>252</td>\n",
       "      <td>252</td>\n",
       "      <td>108</td>\n",
       "      <td>a</td>\n",
       "    </tr>\n",
       "    <tr>\n",
       "      <th>2</th>\n",
       "      <td>3</td>\n",
       "      <td>3</td>\n",
       "      <td>3</td>\n",
       "      <td>3</td>\n",
       "      <td>3</td>\n",
       "      <td>3</td>\n",
       "      <td>3</td>\n",
       "      <td>3</td>\n",
       "      <td>3</td>\n",
       "      <td>3</td>\n",
       "      <td>...</td>\n",
       "      <td>3</td>\n",
       "      <td>3</td>\n",
       "      <td>3</td>\n",
       "      <td>3</td>\n",
       "      <td>3</td>\n",
       "      <td>3</td>\n",
       "      <td>3</td>\n",
       "      <td>3</td>\n",
       "      <td>3</td>\n",
       "      <td>a</td>\n",
       "    </tr>\n",
       "    <tr>\n",
       "      <th>3</th>\n",
       "      <td>3</td>\n",
       "      <td>3</td>\n",
       "      <td>3</td>\n",
       "      <td>3</td>\n",
       "      <td>3</td>\n",
       "      <td>3</td>\n",
       "      <td>3</td>\n",
       "      <td>3</td>\n",
       "      <td>3</td>\n",
       "      <td>3</td>\n",
       "      <td>...</td>\n",
       "      <td>11</td>\n",
       "      <td>3</td>\n",
       "      <td>3</td>\n",
       "      <td>3</td>\n",
       "      <td>3</td>\n",
       "      <td>3</td>\n",
       "      <td>3</td>\n",
       "      <td>3</td>\n",
       "      <td>3</td>\n",
       "      <td>a</td>\n",
       "    </tr>\n",
       "    <tr>\n",
       "      <th>4</th>\n",
       "      <td>3</td>\n",
       "      <td>3</td>\n",
       "      <td>3</td>\n",
       "      <td>20</td>\n",
       "      <td>20</td>\n",
       "      <td>108</td>\n",
       "      <td>76</td>\n",
       "      <td>76</td>\n",
       "      <td>3</td>\n",
       "      <td>3</td>\n",
       "      <td>...</td>\n",
       "      <td>12</td>\n",
       "      <td>19</td>\n",
       "      <td>12</td>\n",
       "      <td>12</td>\n",
       "      <td>19</td>\n",
       "      <td>27</td>\n",
       "      <td>27</td>\n",
       "      <td>36</td>\n",
       "      <td>75</td>\n",
       "      <td>a</td>\n",
       "    </tr>\n",
       "  </tbody>\n",
       "</table>\n",
       "<p>5 rows × 401 columns</p>\n",
       "</div>"
      ],
      "text/plain": [
       "   0    1    2    3    4    5    6    7    8    9   ...   391  392  393  394  \\\n",
       "0    3    3    3    3    3    3    3    3    3    3 ...     3    3    3    3   \n",
       "1    3    3   19   19  155   52   52    3    3    3 ...     3    3    3    3   \n",
       "2    3    3    3    3    3    3    3    3    3    3 ...     3    3    3    3   \n",
       "3    3    3    3    3    3    3    3    3    3    3 ...    11    3    3    3   \n",
       "4    3    3    3   20   20  108   76   76    3    3 ...    12   19   12   12   \n",
       "\n",
       "   395  396  397  398  399  400  \n",
       "0    3    3    3   68  171    a  \n",
       "1    3    3  252  252  108    a  \n",
       "2    3    3    3    3    3    a  \n",
       "3    3    3    3    3    3    a  \n",
       "4   19   27   27   36   75    a  \n",
       "\n",
       "[5 rows x 401 columns]"
      ]
     },
     "execution_count": 25,
     "metadata": {},
     "output_type": "execute_result"
    }
   ],
   "source": [
    "letters = pd.read_csv('letterData.csv', header=None)\n",
    "letters.head()\n"
   ]
  },
  {
   "cell_type": "code",
   "execution_count": 26,
   "metadata": {
    "collapsed": false
   },
   "outputs": [],
   "source": [
    "X = letters[list(range(400))]\n",
    "y = letters[[400]]"
   ]
  },
  {
   "cell_type": "code",
   "execution_count": 30,
   "metadata": {
    "collapsed": false
   },
   "outputs": [
    {
     "name": "stdout",
     "output_type": "stream",
     "text": [
      "             precision    recall  f1-score   support\n",
      "\n",
      "          A       0.98      1.00      0.99        45\n",
      "          B       1.00      1.00      1.00        54\n",
      "          C       0.66      0.79      0.72        42\n",
      "          D       1.00      0.98      0.99        43\n",
      "          E       1.00      0.98      0.99        53\n",
      "          F       0.98      0.98      0.98        56\n",
      "          G       1.00      0.98      0.99        60\n",
      "          H       0.98      1.00      0.99        54\n",
      "          I       0.75      0.78      0.76        54\n",
      "          J       0.95      0.98      0.96        54\n",
      "          K       1.00      1.00      1.00        49\n",
      "          L       0.97      1.00      0.99        38\n",
      "          M       1.00      0.96      0.98        52\n",
      "          N       0.95      0.95      0.95        43\n",
      "          O       0.68      0.72      0.70        50\n",
      "          P       0.98      0.96      0.97        52\n",
      "          Q       1.00      1.00      1.00        49\n",
      "          R       1.00      0.96      0.98        49\n",
      "          S       0.69      0.75      0.72        36\n",
      "          T       1.00      0.98      0.99        52\n",
      "          U       0.94      1.00      0.97        45\n",
      "          V       0.69      0.73      0.71        60\n",
      "          W       0.73      0.67      0.70        48\n",
      "          X       0.57      0.60      0.59        45\n",
      "          Y       0.98      1.00      0.99        58\n",
      "          Z       0.83      0.81      0.82        54\n",
      "          a       1.00      0.97      0.98        66\n",
      "          b       0.98      0.98      0.98        59\n",
      "          c       0.78      0.69      0.73        52\n",
      "          d       1.00      1.00      1.00        45\n",
      "          e       0.98      0.98      0.98        66\n",
      "          f       0.98      1.00      0.99        54\n",
      "          g       0.96      0.92      0.94        52\n",
      "          h       0.98      1.00      0.99        43\n",
      "          i       0.00      0.00      0.00         1\n",
      "          j       0.00      0.00      0.00         1\n",
      "          k       0.96      1.00      0.98        50\n",
      "          l       0.71      0.71      0.71        48\n",
      "          m       1.00      1.00      1.00        54\n",
      "          n       0.96      0.94      0.95        50\n",
      "          o       0.68      0.64      0.66        47\n",
      "          p       0.96      0.94      0.95        49\n",
      "          q       0.94      1.00      0.97        47\n",
      "          r       0.93      0.98      0.95        43\n",
      "          s       0.84      0.76      0.80        54\n",
      "          t       0.95      0.98      0.97        43\n",
      "          u       0.94      0.94      0.94        33\n",
      "          v       0.72      0.66      0.69        62\n",
      "          w       0.72      0.78      0.75        54\n",
      "          x       0.59      0.55      0.57        47\n",
      "          y       1.00      0.96      0.98        50\n",
      "          z       0.76      0.76      0.76        38\n",
      "\n",
      "avg / total       0.90      0.89      0.89      2503\n",
      "\n"
     ]
    }
   ],
   "source": [
    "Xtrain, Xtest, ytrain, ytest = train_test_split(X, y)\n",
    "\n",
    "sss = SVC(kernel='linear')\n",
    "\n",
    "sss.fit(Xtrain, ytrain)\n",
    "\n",
    "ypred = sss.predict(Xtest)\n",
    "print(classification_report(ytest, ypred))"
   ]
  },
  {
   "cell_type": "code",
   "execution_count": 31,
   "metadata": {
    "collapsed": false
   },
   "outputs": [
    {
     "name": "stdout",
     "output_type": "stream",
     "text": [
      "             precision    recall  f1-score   support\n",
      "\n",
      "          A       1.00      0.04      0.09        45\n",
      "          B       0.00      0.00      0.00        54\n",
      "          C       1.00      0.05      0.09        42\n",
      "          D       1.00      0.12      0.21        43\n",
      "          E       0.00      0.00      0.00        53\n",
      "          F       1.00      0.02      0.04        56\n",
      "          G       1.00      0.02      0.03        60\n",
      "          H       0.00      0.00      0.00        54\n",
      "          I       0.32      0.11      0.16        54\n",
      "          J       0.00      0.00      0.00        54\n",
      "          K       0.00      0.00      0.00        49\n",
      "          L       0.00      0.00      0.00        38\n",
      "          M       0.00      0.00      0.00        52\n",
      "          N       1.00      0.02      0.05        43\n",
      "          O       1.00      0.04      0.08        50\n",
      "          P       0.00      0.00      0.00        52\n",
      "          Q       1.00      0.04      0.08        49\n",
      "          R       0.00      0.00      0.00        49\n",
      "          S       0.01      1.00      0.03        36\n",
      "          T       0.67      0.04      0.07        52\n",
      "          U       1.00      0.04      0.09        45\n",
      "          V       0.00      0.00      0.00        60\n",
      "          W       1.00      0.02      0.04        48\n",
      "          X       1.00      0.02      0.04        45\n",
      "          Y       1.00      0.03      0.07        58\n",
      "          Z       1.00      0.06      0.11        54\n",
      "          a       1.00      0.05      0.09        66\n",
      "          b       0.00      0.00      0.00        59\n",
      "          c       1.00      0.02      0.04        52\n",
      "          d       1.00      0.04      0.09        45\n",
      "          e       1.00      0.05      0.09        66\n",
      "          f       1.00      0.09      0.17        54\n",
      "          g       1.00      0.04      0.07        52\n",
      "          h       0.00      0.00      0.00        43\n",
      "          i       0.00      0.00      0.00         1\n",
      "          j       0.00      0.00      0.00         1\n",
      "          k       1.00      0.02      0.04        50\n",
      "          l       0.80      0.08      0.15        48\n",
      "          m       1.00      0.06      0.11        54\n",
      "          n       0.00      0.00      0.00        50\n",
      "          o       1.00      0.04      0.08        47\n",
      "          p       1.00      0.06      0.12        49\n",
      "          q       1.00      0.06      0.12        47\n",
      "          r       1.00      0.02      0.05        43\n",
      "          s       1.00      0.02      0.04        54\n",
      "          t       1.00      0.02      0.05        43\n",
      "          u       0.00      0.00      0.00        33\n",
      "          v       1.00      0.02      0.03        62\n",
      "          w       1.00      0.02      0.04        54\n",
      "          x       0.00      0.00      0.00        47\n",
      "          y       1.00      0.06      0.11        50\n",
      "          z       1.00      0.11      0.19        38\n",
      "\n",
      "avg / total       0.66      0.05      0.06      2503\n",
      "\n"
     ]
    }
   ],
   "source": [
    "sss = SVC(kernel='rbf')\n",
    "\n",
    "sss.fit(Xtrain, ytrain)\n",
    "\n",
    "ypred = sss.predict(Xtest)\n",
    "print(classification_report(ytest, ypred))"
   ]
  },
  {
   "cell_type": "code",
   "execution_count": 32,
   "metadata": {
    "collapsed": false
   },
   "outputs": [
    {
     "name": "stdout",
     "output_type": "stream",
     "text": [
      "             precision    recall  f1-score   support\n",
      "\n",
      "          A       0.86      0.98      0.92        45\n",
      "          B       1.00      0.76      0.86        54\n",
      "          C       0.57      0.93      0.70        42\n",
      "          D       0.97      0.86      0.91        43\n",
      "          E       0.96      0.94      0.95        53\n",
      "          F       0.93      0.96      0.95        56\n",
      "          G       0.97      0.98      0.98        60\n",
      "          H       0.91      0.94      0.93        54\n",
      "          I       0.58      0.35      0.44        54\n",
      "          J       0.91      0.91      0.91        54\n",
      "          K       0.86      0.98      0.91        49\n",
      "          L       0.97      0.95      0.96        38\n",
      "          M       0.96      0.90      0.93        52\n",
      "          N       0.86      0.98      0.91        43\n",
      "          O       0.55      0.92      0.69        50\n",
      "          P       0.98      0.87      0.92        52\n",
      "          Q       0.96      0.94      0.95        49\n",
      "          R       0.82      0.96      0.89        49\n",
      "          S       0.73      0.67      0.70        36\n",
      "          T       0.94      0.92      0.93        52\n",
      "          U       0.78      0.93      0.85        45\n",
      "          V       0.88      0.25      0.39        60\n",
      "          W       0.57      0.54      0.55        48\n",
      "          X       1.00      0.13      0.24        45\n",
      "          Y       0.98      0.98      0.98        58\n",
      "          Z       0.80      0.69      0.74        54\n",
      "          a       0.89      0.86      0.88        66\n",
      "          b       0.92      1.00      0.96        59\n",
      "          c       0.83      0.46      0.59        52\n",
      "          d       1.00      0.56      0.71        45\n",
      "          e       0.77      0.94      0.84        66\n",
      "          f       0.95      0.98      0.96        54\n",
      "          g       0.95      0.81      0.88        52\n",
      "          h       1.00      0.95      0.98        43\n",
      "          i       0.00      0.00      0.00         1\n",
      "          j       0.00      0.00      0.00         1\n",
      "          k       0.98      0.86      0.91        50\n",
      "          l       0.42      0.79      0.55        48\n",
      "          m       0.94      0.87      0.90        54\n",
      "          n       0.98      0.94      0.96        50\n",
      "          o       0.92      0.23      0.37        47\n",
      "          p       0.87      0.96      0.91        49\n",
      "          q       0.95      0.89      0.92        47\n",
      "          r       1.00      0.63      0.77        43\n",
      "          s       0.70      0.81      0.75        54\n",
      "          t       1.00      0.77      0.87        43\n",
      "          u       0.67      0.85      0.75        33\n",
      "          v       0.50      0.92      0.65        62\n",
      "          w       0.63      0.57      0.60        54\n",
      "          x       0.57      0.94      0.71        47\n",
      "          y       0.90      0.92      0.91        50\n",
      "          z       0.60      0.82      0.69        38\n",
      "\n",
      "avg / total       0.85      0.81      0.80      2503\n",
      "\n"
     ]
    }
   ],
   "source": [
    "sss = Perceptron()\n",
    "\n",
    "sss.fit(Xtrain, ytrain)\n",
    "\n",
    "ypred = sss.predict(Xtest)\n",
    "print(classification_report(ytest, ypred))"
   ]
  },
  {
   "cell_type": "code",
   "execution_count": null,
   "metadata": {
    "collapsed": true
   },
   "outputs": [],
   "source": []
  },
  {
   "cell_type": "code",
   "execution_count": null,
   "metadata": {
    "collapsed": true
   },
   "outputs": [],
   "source": []
  },
  {
   "cell_type": "code",
   "execution_count": null,
   "metadata": {
    "collapsed": true
   },
   "outputs": [],
   "source": []
  }
 ],
 "metadata": {
  "kernelspec": {
   "display_name": "Python 3",
   "language": "python",
   "name": "python3"
  },
  "language_info": {
   "codemirror_mode": {
    "name": "ipython",
    "version": 3
   },
   "file_extension": ".py",
   "mimetype": "text/x-python",
   "name": "python",
   "nbconvert_exporter": "python",
   "pygments_lexer": "ipython3",
   "version": "3.4.2"
  }
 },
 "nbformat": 4,
 "nbformat_minor": 0
}
