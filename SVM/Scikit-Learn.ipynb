{
 "cells": [
  {
   "cell_type": "code",
   "execution_count": 4,
   "metadata": {
    "collapsed": true
   },
   "outputs": [],
   "source": [
    "%matplotlib inline\n",
    "import numpy as np\n",
    "import random\n",
    "import pandas as pd\n",
    "import seaborn as sbn\n",
    "sbn.set()\n",
    "import matplotlib.pyplot as plt"
   ]
  },
  {
   "cell_type": "code",
   "execution_count": 2,
   "metadata": {
    "collapsed": false,
    "scrolled": false
   },
   "outputs": [
    {
     "name": "stdout",
     "output_type": "stream",
     "text": [
      "Keys =  dict_keys(['target', 'feature_names', 'target_names', 'data', 'DESCR'])\n",
      "[2 2]\n",
      "['virginica' 'virginica']\n",
      "             precision    recall  f1-score   support\n",
      "\n",
      "     setosa       1.00      1.00      1.00        15\n",
      " versicolor       0.61      1.00      0.76        11\n",
      "  virginica       1.00      0.42      0.59        12\n",
      "\n",
      "avg / total       0.89      0.82      0.80        38\n",
      "\n"
     ]
    }
   ],
   "source": [
    "from sklearn import datasets\n",
    "from sklearn.linear_model import Perceptron\n",
    "from sklearn.cross_validation import train_test_split\n",
    "from sklearn.metrics import confusion_matrix, classification_report\n",
    "\n",
    "iris = datasets.load_iris()\n",
    "print(\"Keys = \", iris.keys())\n",
    "X, y = iris.data, iris.target\n",
    "Xtrain, Xtest, ytrain, ytest = train_test_split(X, y)\n",
    "\n",
    "\n",
    "#create the model\n",
    "sss = Perceptron() #n_iter\n",
    "\n",
    "#fit the model\n",
    "sss.fit(Xtrain, ytrain)\n",
    "\n",
    "#What kind of iris has 3cm x 5cm sepal and 4cm x 2cm petal?\n",
    "#call the predict method:\n",
    "result = sss.predict([[3, 5, 4, 2], [2, 4, 5, 3]])\n",
    "print(result)\n",
    "print(iris.target_names[result])\n",
    "\n",
    "ypred = sss.predict(Xtest)\n",
    "print(classification_report(ytest, ypred, target_names = iris.target_names))"
   ]
  },
  {
   "cell_type": "markdown",
   "metadata": {},
   "source": [
    "<p>precision = true positives / (true positives + false positives) </p>\n",
    "<p>recall = true positives / (true positives + fales negatives)</p>"
   ]
  },
  {
   "cell_type": "code",
   "execution_count": 5,
   "metadata": {
    "collapsed": false
   },
   "outputs": [
    {
     "name": "stdout",
     "output_type": "stream",
     "text": [
      "[[15  0  0]\n",
      " [ 0 11  0]\n",
      " [ 0  7  5]]\n",
      "['setosa' 'versicolor' 'virginica']\n"
     ]
    },
    {
     "data": {
      "text/plain": [
       "<matplotlib.text.Text at 0x101eaea58>"
      ]
     },
     "execution_count": 5,
     "metadata": {},
     "output_type": "execute_result"
    },
    {
     "data": {
      "image/png": "[encoded data removed]",
      "text/plain": [
       "<matplotlib.figure.Figure at 0x101ec7550>"
      ]
     },
     "metadata": {},
     "output_type": "display_data"
    }
   ],
   "source": [
    "ypred = sss.predict(Xtest)\n",
    "print(confusion_matrix(ytest, ypred))\n",
    "print(iris.target_names)\n",
    "plt.imshow(np.log(confusion_matrix(ytest, ypred)), cmap=\"Blues\", interpolation=\"nearest\")\n",
    "plt.grid(False)\n",
    "plt.ylabel('true')\n",
    "plt.xlabel('predicted')"
   ]
  },
  {
   "cell_type": "code",
   "execution_count": null,
   "metadata": {
    "collapsed": false
   },
   "outputs": [],
   "source": []
  },
  {
   "cell_type": "code",
   "execution_count": 19,
   "metadata": {
    "collapsed": false,
    "scrolled": true
   },
   "outputs": [
    {
     "name": "stdout",
     "output_type": "stream",
     "text": [
      "             precision    recall  f1-score   support\n",
      "\n",
      "         -1       1.00      1.00      1.00        30\n",
      "          1       1.00      1.00      1.00        20\n",
      "\n",
      "avg / total       1.00      1.00      1.00        50\n",
      "\n"
     ]
    }
   ],
   "source": [
    "data = pd.read_csv(\"mystery.csv\", header=None)\n",
    "a = abs(data.iloc[0:199, [0,1]].values)\n",
    "b = data.iloc[0:199, 2].values\n",
    "atrain, atest, btrain, btest = train_test_split(a, b)\n",
    "mp = Perceptron()\n",
    "#fit the model\n",
    "mp.fit(atrain, btrain)\n",
    "\n",
    "bpred = mp.predict(atest)\n",
    "print(classification_report(btest, bpred))"
   ]
  },
  {
   "cell_type": "code",
   "execution_count": 29,
   "metadata": {
    "collapsed": false
   },
   "outputs": [],
   "source": [
    "# data.head()\n",
    "# a\n",
    "# b\n"
   ]
  },
  {
   "cell_type": "code",
   "execution_count": 32,
   "metadata": {
    "collapsed": false
   },
   "outputs": [
    {
     "name": "stdout",
     "output_type": "stream",
     "text": [
      "[[30  0]\n",
      " [ 0 20]]\n"
     ]
    },
    {
     "data": {
      "text/plain": [
       "<matplotlib.text.Text at 0x10d575940>"
      ]
     },
     "execution_count": 32,
     "metadata": {},
     "output_type": "execute_result"
    },
    {
     "data": {
      "image/png": "[encoded data removed]",
      "text/plain": [
       "<matplotlib.figure.Figure at 0x10d588a90>"
      ]
     },
     "metadata": {},
     "output_type": "display_data"
    }
   ],
   "source": [
    "bpred = mp.predict(atest)\n",
    "print(confusion_matrix(btest, bpred))\n",
    "plt.imshow(np.log(confusion_matrix(btest, bpred)), cmap=\"Blues\", interpolation=\"nearest\")\n",
    "plt.grid(False)\n",
    "plt.ylabel('true')\n",
    "plt.xlabel('predicted')"
   ]
  },
  {
   "cell_type": "code",
   "execution_count": 35,
   "metadata": {
    "collapsed": false
   },
   "outputs": [
    {
     "data": {
      "text/plain": [
       "<matplotlib.collections.PathCollection at 0x10da9e0b8>"
      ]
     },
     "execution_count": 35,
     "metadata": {},
     "output_type": "execute_result"
    },
    {
     "data": {
      "image/png": "[encoded data removed]",
      "text/plain": [
       "<matplotlib.figure.Figure at 0x10d96f710>"
      ]
     },
     "metadata": {},
     "output_type": "display_data"
    }
   ],
   "source": [
    "\n",
    "plt.scatter(abs(data[0]), abs(data[1]), c=data[2])#, alpha = .5)"
   ]
  },
  {
   "cell_type": "code",
   "execution_count": 11,
   "metadata": {
    "collapsed": false
   },
   "outputs": [
    {
     "name": "stdout",
     "output_type": "stream",
     "text": [
      "Keys =  dict_keys(['images', 'DESCR', 'target', 'target_names', 'data'])\n",
      "             precision    recall  f1-score   support\n",
      "\n",
      "          [       1.00      0.94      0.97        47\n",
      "          0       1.00      0.90      0.95        50\n",
      "                  0.95      0.98      0.96        42\n",
      "          1       0.95      0.98      0.96        53\n",
      "                  0.89      1.00      0.94        41\n",
      "          2       0.94      0.98      0.96        46\n",
      "                  0.95      1.00      0.98        40\n",
      "          3       1.00      0.92      0.96        39\n",
      "                  0.90      0.90      0.90        49\n",
      "          4       0.98      0.95      0.96        43\n",
      "\n",
      "avg / total       0.96      0.95      0.95       450\n",
      "\n"
     ]
    }
   ],
   "source": [
    "from sklearn import datasets\n",
    "digits = datasets.load_digits()\n",
    "\n",
    "keys = str(digits.keys())\n",
    "print(\"Keys = \", digits.keys())\n",
    "X, y = digits.data, digits.target\n",
    "Xtrain, Xtest, ytrain, ytest = train_test_split(X, y)\n",
    "\n",
    "\n",
    "#create the model\n",
    "sss = Perceptron() #n_iter\n",
    "\n",
    "#fit the model\n",
    "sss.fit(Xtrain, ytrain)\n",
    "\n",
    "ypred = sss.predict(Xtest)\n",
    "print(classification_report(ytest, ypred, target_names = str(digits.target_names)))\n"
   ]
  }
 ],
 "metadata": {
  "kernelspec": {
   "display_name": "Python 3",
   "language": "python",
   "name": "python3"
  },
  "language_info": {
   "codemirror_mode": {
    "name": "ipython",
    "version": 3
   },
   "file_extension": ".py",
   "mimetype": "text/x-python",
   "name": "python",
   "nbconvert_exporter": "python",
   "pygments_lexer": "ipython3",
   "version": "3.4.2"
  }
 },
 "nbformat": 4,
 "nbformat_minor": 0
}
