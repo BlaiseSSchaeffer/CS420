{
 "cells": [
  {
   "cell_type": "code",
   "execution_count": 1,
   "metadata": {
    "collapsed": false
   },
   "outputs": [],
   "source": [
    "%matplotlib inline\n",
    "\n",
    "import pandas as pd\n",
    "import seaborn as sbn\n",
    "import numpy as np\n",
    "sbn.set()\n",
    "import matplotlib as plt\n",
    "from sklearn.cross_validation import train_test_split\n",
    "from sklearn.svm import SVC\n",
    "from sklearn.linear_model import Perceptron\n",
    "from sklearn.metrics import confusion_matrix, classification_report\n",
    "from sklearn.linear_model import LinearRegression\n",
    "from sklearn.tree import DecisionTreeClassifier\n",
    "from sklearn.ensemble import RandomForestClassifier \n"
   ]
  },
  {
   "cell_type": "code",
   "execution_count": 2,
   "metadata": {
    "collapsed": false
   },
   "outputs": [
    {
     "data": {
      "text/html": [
       "<style>body {\n",
       "    margin: 0;\n",
       "    font-family: Helvetica;\n",
       "}\n",
       "table.dataframe {\n",
       "    border-collapse: collapse;\n",
       "    border: none;\n",
       "}\n",
       "table.dataframe tr {\n",
       "    border: none;\n",
       "}\n",
       "table.dataframe td, table.dataframe th {\n",
       "    margin: 0;\n",
       "    border: 1px solid white;\n",
       "    padding-left: 0.25em;\n",
       "    padding-right: 0.25em;\n",
       "}\n",
       "table.dataframe th:not(:empty) {\n",
       "    background-color: #fec;\n",
       "    text-align: left;\n",
       "    font-weight: normal;\n",
       "}\n",
       "table.dataframe tr:nth-child(2) th:empty {\n",
       "    border-left: none;\n",
       "    border-right: 1px dashed #888;\n",
       "}\n",
       "table.dataframe td {\n",
       "    border: 2px solid #ccf;\n",
       "    background-color: #f4f4ff;\n",
       "}\n",
       "h3 {\n",
       "    color: white;\n",
       "    background-color: black;\n",
       "    padding: 0.5em;\n",
       "}\n",
       "</style>"
      ],
      "text/plain": [
       "<IPython.core.display.HTML object>"
      ]
     },
     "execution_count": 2,
     "metadata": {},
     "output_type": "execute_result"
    }
   ],
   "source": [
    "from IPython.core.display import HTML\n",
    "css = open('style-table.css').read() + open('style-notebook.css').read()\n",
    "HTML('<style>{}</style>'.format(css))"
   ]
  },
  {
   "cell_type": "code",
   "execution_count": 3,
   "metadata": {
    "collapsed": false
   },
   "outputs": [],
   "source": [
    "# Read in the CSV\n",
    "BI = pd.DataFrame.from_csv('../../Data/body_image.csv', index_col=None, encoding = \"ISO-8859-1\")"
   ]
  },
  {
   "cell_type": "code",
   "execution_count": 4,
   "metadata": {
    "collapsed": false
   },
   "outputs": [
    {
     "data": {
      "text/html": [
       "<div>\n",
       "<table border=\"1\" class=\"dataframe\">\n",
       "  <thead>\n",
       "    <tr style=\"text-align: right;\">\n",
       "      <th></th>\n",
       "      <th>Gender</th>\n",
       "      <th>Height</th>\n",
       "      <th>GPA</th>\n",
       "      <th>HS_GPA</th>\n",
       "      <th>Seat</th>\n",
       "      <th>WtFeel</th>\n",
       "      <th>Cheat</th>\n",
       "    </tr>\n",
       "  </thead>\n",
       "  <tbody>\n",
       "    <tr>\n",
       "      <th>0</th>\n",
       "      <td>Female</td>\n",
       "      <td>64</td>\n",
       "      <td>2.60</td>\n",
       "      <td>2.63</td>\n",
       "      <td>M</td>\n",
       "      <td>AboutRt</td>\n",
       "      <td>No</td>\n",
       "    </tr>\n",
       "    <tr>\n",
       "      <th>1</th>\n",
       "      <td>Male</td>\n",
       "      <td>69</td>\n",
       "      <td>2.70</td>\n",
       "      <td>3.72</td>\n",
       "      <td>M</td>\n",
       "      <td>AboutRt</td>\n",
       "      <td>No</td>\n",
       "    </tr>\n",
       "    <tr>\n",
       "      <th>2</th>\n",
       "      <td>Female</td>\n",
       "      <td>66</td>\n",
       "      <td>3.00</td>\n",
       "      <td>3.44</td>\n",
       "      <td>F</td>\n",
       "      <td>AboutRt</td>\n",
       "      <td>No</td>\n",
       "    </tr>\n",
       "    <tr>\n",
       "      <th>3</th>\n",
       "      <td>Female</td>\n",
       "      <td>63</td>\n",
       "      <td>3.11</td>\n",
       "      <td>2.73</td>\n",
       "      <td>F</td>\n",
       "      <td>AboutRt</td>\n",
       "      <td>No</td>\n",
       "    </tr>\n",
       "    <tr>\n",
       "      <th>4</th>\n",
       "      <td>Male</td>\n",
       "      <td>72</td>\n",
       "      <td>3.40</td>\n",
       "      <td>2.35</td>\n",
       "      <td>B</td>\n",
       "      <td>OverWt</td>\n",
       "      <td>No</td>\n",
       "    </tr>\n",
       "    <tr>\n",
       "      <th>5</th>\n",
       "      <td>Female</td>\n",
       "      <td>67</td>\n",
       "      <td>3.43</td>\n",
       "      <td>3.84</td>\n",
       "      <td>M</td>\n",
       "      <td>AboutRt</td>\n",
       "      <td>No</td>\n",
       "    </tr>\n",
       "    <tr>\n",
       "      <th>6</th>\n",
       "      <td>Male</td>\n",
       "      <td>69</td>\n",
       "      <td>3.70</td>\n",
       "      <td>4.00</td>\n",
       "      <td>F</td>\n",
       "      <td>AboutRt</td>\n",
       "      <td>No</td>\n",
       "    </tr>\n",
       "    <tr>\n",
       "      <th>7</th>\n",
       "      <td>Male</td>\n",
       "      <td>74</td>\n",
       "      <td>3.70</td>\n",
       "      <td>3.92</td>\n",
       "      <td>B</td>\n",
       "      <td>AboutRt</td>\n",
       "      <td>No</td>\n",
       "    </tr>\n",
       "    <tr>\n",
       "      <th>8</th>\n",
       "      <td>Male</td>\n",
       "      <td>72</td>\n",
       "      <td>3.77</td>\n",
       "      <td>3.09</td>\n",
       "      <td>M</td>\n",
       "      <td>UnderWt</td>\n",
       "      <td>No</td>\n",
       "    </tr>\n",
       "    <tr>\n",
       "      <th>9</th>\n",
       "      <td>Female</td>\n",
       "      <td>63</td>\n",
       "      <td>3.50</td>\n",
       "      <td>4.00</td>\n",
       "      <td>F</td>\n",
       "      <td>AboutRt</td>\n",
       "      <td>No</td>\n",
       "    </tr>\n",
       "  </tbody>\n",
       "</table>\n",
       "</div>"
      ],
      "text/plain": [
       "   Gender  Height   GPA  HS_GPA Seat   WtFeel Cheat\n",
       "0  Female      64  2.60    2.63    M  AboutRt    No\n",
       "1    Male      69  2.70    3.72    M  AboutRt    No\n",
       "2  Female      66  3.00    3.44    F  AboutRt    No\n",
       "3  Female      63  3.11    2.73    F  AboutRt    No\n",
       "4    Male      72  3.40    2.35    B   OverWt    No\n",
       "5  Female      67  3.43    3.84    M  AboutRt    No\n",
       "6    Male      69  3.70    4.00    F  AboutRt    No\n",
       "7    Male      74  3.70    3.92    B  AboutRt    No\n",
       "8    Male      72  3.77    3.09    M  UnderWt    No\n",
       "9  Female      63  3.50    4.00    F  AboutRt    No"
      ]
     },
     "execution_count": 4,
     "metadata": {},
     "output_type": "execute_result"
    }
   ],
   "source": [
    "BI.head(10)"
   ]
  },
  {
   "cell_type": "code",
   "execution_count": 5,
   "metadata": {
    "collapsed": false
   },
   "outputs": [],
   "source": [
    "seats = []\n",
    "\n",
    "for idx, row in BI.iterrows():\n",
    "    if row[\"Seat\"] == \"B\":\n",
    "        seats.append(0)\n",
    "    elif row[\"Seat\"] == \"M\":\n",
    "        seats.append(.5)\n",
    "    else:\n",
    "        seats.append(1)\n",
    "        \n",
    "BI[\"SeatNum\"] = seats"
   ]
  },
  {
   "cell_type": "code",
   "execution_count": 6,
   "metadata": {
    "collapsed": true
   },
   "outputs": [],
   "source": [
    "wtFeels = []\n",
    "\n",
    "for idx, row in BI.iterrows():\n",
    "    if row[\"WtFeel\"] == \"AboutRt\":\n",
    "        wtFeels.append(0)\n",
    "    elif row[\"WtFeel\"] == \"OverWt\":\n",
    "        wtFeels.append(1)\n",
    "    else:\n",
    "        wtFeels.append(-1)\n",
    "        \n",
    "BI[\"WtFeelNum\"] = wtFeels"
   ]
  },
  {
   "cell_type": "code",
   "execution_count": 7,
   "metadata": {
    "collapsed": true
   },
   "outputs": [],
   "source": [
    "genders = []\n",
    "\n",
    "for idx, row in BI.iterrows():\n",
    "    if row[\"Gender\"] == \"Male\":\n",
    "        genders.append(1)\n",
    "    else:\n",
    "        genders.append(0)\n",
    "        \n",
    "BI[\"GenderNum\"] = genders"
   ]
  },
  {
   "cell_type": "code",
   "execution_count": 8,
   "metadata": {
    "collapsed": true
   },
   "outputs": [],
   "source": [
    "cheats = []\n",
    "\n",
    "for idx, row in BI.iterrows():\n",
    "    if row[\"Cheat\"] == \"Yes\":\n",
    "        cheats.append(1)\n",
    "    else:\n",
    "        cheats.append(0)\n",
    "        \n",
    "BI[\"CheatNum\"] = cheats"
   ]
  },
  {
   "cell_type": "code",
   "execution_count": 9,
   "metadata": {
    "collapsed": false
   },
   "outputs": [
    {
     "data": {
      "text/html": [
       "<div>\n",
       "<table border=\"1\" class=\"dataframe\">\n",
       "  <thead>\n",
       "    <tr style=\"text-align: right;\">\n",
       "      <th></th>\n",
       "      <th>Gender</th>\n",
       "      <th>Height</th>\n",
       "      <th>GPA</th>\n",
       "      <th>HS_GPA</th>\n",
       "      <th>Seat</th>\n",
       "      <th>WtFeel</th>\n",
       "      <th>Cheat</th>\n",
       "      <th>SeatNum</th>\n",
       "      <th>WtFeelNum</th>\n",
       "      <th>GenderNum</th>\n",
       "      <th>CheatNum</th>\n",
       "    </tr>\n",
       "  </thead>\n",
       "  <tbody>\n",
       "    <tr>\n",
       "      <th>0</th>\n",
       "      <td>Female</td>\n",
       "      <td>64.0</td>\n",
       "      <td>2.60</td>\n",
       "      <td>2.63</td>\n",
       "      <td>M</td>\n",
       "      <td>AboutRt</td>\n",
       "      <td>No</td>\n",
       "      <td>0.5</td>\n",
       "      <td>0</td>\n",
       "      <td>0</td>\n",
       "      <td>0</td>\n",
       "    </tr>\n",
       "    <tr>\n",
       "      <th>1</th>\n",
       "      <td>Male</td>\n",
       "      <td>69.0</td>\n",
       "      <td>2.70</td>\n",
       "      <td>3.72</td>\n",
       "      <td>M</td>\n",
       "      <td>AboutRt</td>\n",
       "      <td>No</td>\n",
       "      <td>0.5</td>\n",
       "      <td>0</td>\n",
       "      <td>1</td>\n",
       "      <td>0</td>\n",
       "    </tr>\n",
       "    <tr>\n",
       "      <th>2</th>\n",
       "      <td>Female</td>\n",
       "      <td>66.0</td>\n",
       "      <td>3.00</td>\n",
       "      <td>3.44</td>\n",
       "      <td>F</td>\n",
       "      <td>AboutRt</td>\n",
       "      <td>No</td>\n",
       "      <td>1.0</td>\n",
       "      <td>0</td>\n",
       "      <td>0</td>\n",
       "      <td>0</td>\n",
       "    </tr>\n",
       "    <tr>\n",
       "      <th>3</th>\n",
       "      <td>Female</td>\n",
       "      <td>63.0</td>\n",
       "      <td>3.11</td>\n",
       "      <td>2.73</td>\n",
       "      <td>F</td>\n",
       "      <td>AboutRt</td>\n",
       "      <td>No</td>\n",
       "      <td>1.0</td>\n",
       "      <td>0</td>\n",
       "      <td>0</td>\n",
       "      <td>0</td>\n",
       "    </tr>\n",
       "    <tr>\n",
       "      <th>4</th>\n",
       "      <td>Male</td>\n",
       "      <td>72.0</td>\n",
       "      <td>3.40</td>\n",
       "      <td>2.35</td>\n",
       "      <td>B</td>\n",
       "      <td>OverWt</td>\n",
       "      <td>No</td>\n",
       "      <td>0.0</td>\n",
       "      <td>1</td>\n",
       "      <td>1</td>\n",
       "      <td>0</td>\n",
       "    </tr>\n",
       "    <tr>\n",
       "      <th>5</th>\n",
       "      <td>Female</td>\n",
       "      <td>67.0</td>\n",
       "      <td>3.43</td>\n",
       "      <td>3.84</td>\n",
       "      <td>M</td>\n",
       "      <td>AboutRt</td>\n",
       "      <td>No</td>\n",
       "      <td>0.5</td>\n",
       "      <td>0</td>\n",
       "      <td>0</td>\n",
       "      <td>0</td>\n",
       "    </tr>\n",
       "    <tr>\n",
       "      <th>6</th>\n",
       "      <td>Male</td>\n",
       "      <td>69.0</td>\n",
       "      <td>3.70</td>\n",
       "      <td>4.00</td>\n",
       "      <td>F</td>\n",
       "      <td>AboutRt</td>\n",
       "      <td>No</td>\n",
       "      <td>1.0</td>\n",
       "      <td>0</td>\n",
       "      <td>1</td>\n",
       "      <td>0</td>\n",
       "    </tr>\n",
       "    <tr>\n",
       "      <th>7</th>\n",
       "      <td>Male</td>\n",
       "      <td>74.0</td>\n",
       "      <td>3.70</td>\n",
       "      <td>3.92</td>\n",
       "      <td>B</td>\n",
       "      <td>AboutRt</td>\n",
       "      <td>No</td>\n",
       "      <td>0.0</td>\n",
       "      <td>0</td>\n",
       "      <td>1</td>\n",
       "      <td>0</td>\n",
       "    </tr>\n",
       "    <tr>\n",
       "      <th>8</th>\n",
       "      <td>Male</td>\n",
       "      <td>72.0</td>\n",
       "      <td>3.77</td>\n",
       "      <td>3.09</td>\n",
       "      <td>M</td>\n",
       "      <td>UnderWt</td>\n",
       "      <td>No</td>\n",
       "      <td>0.5</td>\n",
       "      <td>-1</td>\n",
       "      <td>1</td>\n",
       "      <td>0</td>\n",
       "    </tr>\n",
       "    <tr>\n",
       "      <th>9</th>\n",
       "      <td>Female</td>\n",
       "      <td>63.0</td>\n",
       "      <td>3.50</td>\n",
       "      <td>4.00</td>\n",
       "      <td>F</td>\n",
       "      <td>AboutRt</td>\n",
       "      <td>No</td>\n",
       "      <td>1.0</td>\n",
       "      <td>0</td>\n",
       "      <td>0</td>\n",
       "      <td>0</td>\n",
       "    </tr>\n",
       "    <tr>\n",
       "      <th>10</th>\n",
       "      <td>Male</td>\n",
       "      <td>68.5</td>\n",
       "      <td>3.00</td>\n",
       "      <td>3.43</td>\n",
       "      <td>F</td>\n",
       "      <td>OverWt</td>\n",
       "      <td>No</td>\n",
       "      <td>1.0</td>\n",
       "      <td>1</td>\n",
       "      <td>1</td>\n",
       "      <td>0</td>\n",
       "    </tr>\n",
       "    <tr>\n",
       "      <th>11</th>\n",
       "      <td>Male</td>\n",
       "      <td>70.0</td>\n",
       "      <td>3.00</td>\n",
       "      <td>3.62</td>\n",
       "      <td>M</td>\n",
       "      <td>AboutRt</td>\n",
       "      <td>No</td>\n",
       "      <td>0.5</td>\n",
       "      <td>0</td>\n",
       "      <td>1</td>\n",
       "      <td>0</td>\n",
       "    </tr>\n",
       "    <tr>\n",
       "      <th>12</th>\n",
       "      <td>Male</td>\n",
       "      <td>71.0</td>\n",
       "      <td>3.50</td>\n",
       "      <td>3.49</td>\n",
       "      <td>F</td>\n",
       "      <td>AboutRt</td>\n",
       "      <td>No</td>\n",
       "      <td>1.0</td>\n",
       "      <td>0</td>\n",
       "      <td>1</td>\n",
       "      <td>0</td>\n",
       "    </tr>\n",
       "    <tr>\n",
       "      <th>13</th>\n",
       "      <td>Male</td>\n",
       "      <td>68.0</td>\n",
       "      <td>3.25</td>\n",
       "      <td>3.09</td>\n",
       "      <td>M</td>\n",
       "      <td>UnderWt</td>\n",
       "      <td>No</td>\n",
       "      <td>0.5</td>\n",
       "      <td>-1</td>\n",
       "      <td>1</td>\n",
       "      <td>0</td>\n",
       "    </tr>\n",
       "    <tr>\n",
       "      <th>14</th>\n",
       "      <td>Female</td>\n",
       "      <td>60.0</td>\n",
       "      <td>2.83</td>\n",
       "      <td>3.22</td>\n",
       "      <td>M</td>\n",
       "      <td>AboutRt</td>\n",
       "      <td>No</td>\n",
       "      <td>0.5</td>\n",
       "      <td>0</td>\n",
       "      <td>0</td>\n",
       "      <td>0</td>\n",
       "    </tr>\n",
       "    <tr>\n",
       "      <th>15</th>\n",
       "      <td>Male</td>\n",
       "      <td>71.0</td>\n",
       "      <td>2.62</td>\n",
       "      <td>2.52</td>\n",
       "      <td>F</td>\n",
       "      <td>OverWt</td>\n",
       "      <td>No</td>\n",
       "      <td>1.0</td>\n",
       "      <td>1</td>\n",
       "      <td>1</td>\n",
       "      <td>0</td>\n",
       "    </tr>\n",
       "    <tr>\n",
       "      <th>16</th>\n",
       "      <td>Female</td>\n",
       "      <td>68.0</td>\n",
       "      <td>3.15</td>\n",
       "      <td>2.36</td>\n",
       "      <td>M</td>\n",
       "      <td>AboutRt</td>\n",
       "      <td>No</td>\n",
       "      <td>0.5</td>\n",
       "      <td>0</td>\n",
       "      <td>0</td>\n",
       "      <td>0</td>\n",
       "    </tr>\n",
       "    <tr>\n",
       "      <th>17</th>\n",
       "      <td>Female</td>\n",
       "      <td>67.0</td>\n",
       "      <td>4.20</td>\n",
       "      <td>4.00</td>\n",
       "      <td>M</td>\n",
       "      <td>AboutRt</td>\n",
       "      <td>Yes</td>\n",
       "      <td>0.5</td>\n",
       "      <td>0</td>\n",
       "      <td>0</td>\n",
       "      <td>1</td>\n",
       "    </tr>\n",
       "    <tr>\n",
       "      <th>18</th>\n",
       "      <td>Female</td>\n",
       "      <td>66.0</td>\n",
       "      <td>3.70</td>\n",
       "      <td>4.00</td>\n",
       "      <td>F</td>\n",
       "      <td>OverWt</td>\n",
       "      <td>Yes</td>\n",
       "      <td>1.0</td>\n",
       "      <td>1</td>\n",
       "      <td>0</td>\n",
       "      <td>1</td>\n",
       "    </tr>\n",
       "    <tr>\n",
       "      <th>19</th>\n",
       "      <td>Male</td>\n",
       "      <td>69.0</td>\n",
       "      <td>4.38</td>\n",
       "      <td>4.00</td>\n",
       "      <td>M</td>\n",
       "      <td>UnderWt</td>\n",
       "      <td>No</td>\n",
       "      <td>0.5</td>\n",
       "      <td>-1</td>\n",
       "      <td>1</td>\n",
       "      <td>0</td>\n",
       "    </tr>\n",
       "  </tbody>\n",
       "</table>\n",
       "</div>"
      ],
      "text/plain": [
       "    Gender  Height   GPA  HS_GPA Seat   WtFeel Cheat  SeatNum  WtFeelNum  \\\n",
       "0   Female    64.0  2.60    2.63    M  AboutRt    No      0.5          0   \n",
       "1     Male    69.0  2.70    3.72    M  AboutRt    No      0.5          0   \n",
       "2   Female    66.0  3.00    3.44    F  AboutRt    No      1.0          0   \n",
       "3   Female    63.0  3.11    2.73    F  AboutRt    No      1.0          0   \n",
       "4     Male    72.0  3.40    2.35    B   OverWt    No      0.0          1   \n",
       "5   Female    67.0  3.43    3.84    M  AboutRt    No      0.5          0   \n",
       "6     Male    69.0  3.70    4.00    F  AboutRt    No      1.0          0   \n",
       "7     Male    74.0  3.70    3.92    B  AboutRt    No      0.0          0   \n",
       "8     Male    72.0  3.77    3.09    M  UnderWt    No      0.5         -1   \n",
       "9   Female    63.0  3.50    4.00    F  AboutRt    No      1.0          0   \n",
       "10    Male    68.5  3.00    3.43    F   OverWt    No      1.0          1   \n",
       "11    Male    70.0  3.00    3.62    M  AboutRt    No      0.5          0   \n",
       "12    Male    71.0  3.50    3.49    F  AboutRt    No      1.0          0   \n",
       "13    Male    68.0  3.25    3.09    M  UnderWt    No      0.5         -1   \n",
       "14  Female    60.0  2.83    3.22    M  AboutRt    No      0.5          0   \n",
       "15    Male    71.0  2.62    2.52    F   OverWt    No      1.0          1   \n",
       "16  Female    68.0  3.15    2.36    M  AboutRt    No      0.5          0   \n",
       "17  Female    67.0  4.20    4.00    M  AboutRt   Yes      0.5          0   \n",
       "18  Female    66.0  3.70    4.00    F   OverWt   Yes      1.0          1   \n",
       "19    Male    69.0  4.38    4.00    M  UnderWt    No      0.5         -1   \n",
       "\n",
       "    GenderNum  CheatNum  \n",
       "0           0         0  \n",
       "1           1         0  \n",
       "2           0         0  \n",
       "3           0         0  \n",
       "4           1         0  \n",
       "5           0         0  \n",
       "6           1         0  \n",
       "7           1         0  \n",
       "8           1         0  \n",
       "9           0         0  \n",
       "10          1         0  \n",
       "11          1         0  \n",
       "12          1         0  \n",
       "13          1         0  \n",
       "14          0         0  \n",
       "15          1         0  \n",
       "16          0         0  \n",
       "17          0         1  \n",
       "18          0         1  \n",
       "19          1         0  "
      ]
     },
     "execution_count": 9,
     "metadata": {},
     "output_type": "execute_result"
    }
   ],
   "source": [
    "BI.head(20)"
   ]
  },
  {
   "cell_type": "markdown",
   "metadata": {},
   "source": [
    "# Predicting if a peron will cheat\n",
    "## Based on:\n",
    "* Gender\n",
    "* Height\n",
    "* College GPA\n",
    "* HS GPA\n",
    "* Where they sit in class\n",
    "* How they feel about their weight"
   ]
  },
  {
   "cell_type": "markdown",
   "metadata": {},
   "source": [
    "# SVC"
   ]
  },
  {
   "cell_type": "code",
   "execution_count": 10,
   "metadata": {
    "collapsed": false
   },
   "outputs": [],
   "source": [
    "data = BI.as_matrix(columns=[\"GenderNum\",\"Height\",\"GPA\",\"HS_GPA\",\"SeatNum\",\"WtFeelNum\"])\n",
    "target = BI.as_matrix(columns=[\"CheatNum\"])\n"
   ]
  },
  {
   "cell_type": "code",
   "execution_count": 11,
   "metadata": {
    "collapsed": false,
    "scrolled": true
   },
   "outputs": [],
   "source": [
    "Xtrain, Xtest, ytrain, ytest = train_test_split(data, target, test_size = 0.3)"
   ]
  },
  {
   "cell_type": "code",
   "execution_count": 12,
   "metadata": {
    "collapsed": false
   },
   "outputs": [
    {
     "data": {
      "text/plain": [
       "SVC(C=1.0, cache_size=200, class_weight=None, coef0=0.0, degree=3, gamma=0.0,\n",
       "  kernel='rbf', max_iter=-1, probability=False, random_state=None,\n",
       "  shrinking=True, tol=0.001, verbose=False)"
      ]
     },
     "execution_count": 12,
     "metadata": {},
     "output_type": "execute_result"
    }
   ],
   "source": [
    "cls = SVC()\n",
    "cls.fit(Xtrain, ytrain.ravel())"
   ]
  },
  {
   "cell_type": "code",
   "execution_count": 13,
   "metadata": {
    "collapsed": false
   },
   "outputs": [
    {
     "name": "stdout",
     "output_type": "stream",
     "text": [
      "[0]\n"
     ]
    }
   ],
   "source": [
    "result = cls.predict([[1,71,3.8,3.67,1,1]])\n",
    "print(result)"
   ]
  },
  {
   "cell_type": "code",
   "execution_count": 14,
   "metadata": {
    "collapsed": false,
    "scrolled": true
   },
   "outputs": [
    {
     "name": "stdout",
     "output_type": "stream",
     "text": [
      "             precision    recall  f1-score   support\n",
      "\n",
      "          0       0.93      1.00      0.96        64\n",
      "          1       0.00      0.00      0.00         5\n",
      "\n",
      "avg / total       0.86      0.93      0.89        69\n",
      "\n"
     ]
    },
    {
     "name": "stderr",
     "output_type": "stream",
     "text": [
      "/Users/schabl01/.virtualenvs/Jupyter/lib/python3.4/site-packages/sklearn/metrics/classification.py:958: UndefinedMetricWarning: Precision and F-score are ill-defined and being set to 0.0 in labels with no predicted samples.\n",
      "  'precision', 'predicted', average, warn_for)\n"
     ]
    }
   ],
   "source": [
    "ypred = cls.predict(Xtest)\n",
    "print(classification_report(ytest, ypred))"
   ]
  },
  {
   "cell_type": "markdown",
   "metadata": {},
   "source": [
    "# Perceptron"
   ]
  },
  {
   "cell_type": "code",
   "execution_count": 15,
   "metadata": {
    "collapsed": false
   },
   "outputs": [
    {
     "name": "stdout",
     "output_type": "stream",
     "text": [
      "[0]\n"
     ]
    }
   ],
   "source": [
    "data = BI.as_matrix(columns=[\"GenderNum\",\"Height\",\"GPA\",\"HS_GPA\",\"SeatNum\",\"WtFeelNum\"])\n",
    "target = BI.as_matrix(columns=[\"CheatNum\"])\n",
    "\n",
    "Xtrain, Xtest, ytrain, ytest = train_test_split(data, target, test_size = 0.3)\n",
    "\n",
    "cls = Perceptron()\n",
    "cls.fit(Xtrain, ytrain.ravel())\n",
    "\n",
    "result = cls.predict([[1,71,3.8,3.67,1,1]])\n",
    "print(result)"
   ]
  },
  {
   "cell_type": "code",
   "execution_count": 16,
   "metadata": {
    "collapsed": false
   },
   "outputs": [
    {
     "name": "stdout",
     "output_type": "stream",
     "text": [
      "             precision    recall  f1-score   support\n",
      "\n",
      "          0       0.93      1.00      0.96        64\n",
      "          1       0.00      0.00      0.00         5\n",
      "\n",
      "avg / total       0.86      0.93      0.89        69\n",
      "\n"
     ]
    },
    {
     "name": "stderr",
     "output_type": "stream",
     "text": [
      "/Users/schabl01/.virtualenvs/Jupyter/lib/python3.4/site-packages/sklearn/metrics/classification.py:958: UndefinedMetricWarning: Precision and F-score are ill-defined and being set to 0.0 in labels with no predicted samples.\n",
      "  'precision', 'predicted', average, warn_for)\n"
     ]
    }
   ],
   "source": [
    "ypred = cls.predict(Xtest)\n",
    "print(classification_report(ytest, ypred))"
   ]
  },
  {
   "cell_type": "markdown",
   "metadata": {
    "collapsed": true
   },
   "source": [
    "# Linear Regression"
   ]
  },
  {
   "cell_type": "code",
   "execution_count": 17,
   "metadata": {
    "collapsed": false
   },
   "outputs": [
    {
     "name": "stdout",
     "output_type": "stream",
     "text": [
      "[ 0.16851186]\n"
     ]
    }
   ],
   "source": [
    "data = BI.as_matrix(columns=[\"GenderNum\",\"Height\",\"GPA\",\"HS_GPA\",\"SeatNum\",\"WtFeelNum\"])\n",
    "target = BI.as_matrix(columns=[\"CheatNum\"])\n",
    "\n",
    "Xtrain, Xtest, ytrain, ytest = train_test_split(data, target, test_size = 0.3)\n",
    "\n",
    "cls = LinearRegression()\n",
    "cls.fit(Xtrain, ytrain.ravel())\n",
    "\n",
    "result = cls.predict([[1,71,3.8,3.67,1,1]])\n",
    "print(result)"
   ]
  },
  {
   "cell_type": "code",
   "execution_count": 18,
   "metadata": {
    "collapsed": false
   },
   "outputs": [
    {
     "name": "stdout",
     "output_type": "stream",
     "text": [
      "-0.0652578058839\n"
     ]
    }
   ],
   "source": [
    "print (cls.score(Xtest,ytest))"
   ]
  },
  {
   "cell_type": "code",
   "execution_count": 19,
   "metadata": {
    "collapsed": false
   },
   "outputs": [
    {
     "name": "stdout",
     "output_type": "stream",
     "text": [
      "[-0.09949252  0.00965749  0.07577529 -0.05508191  0.15681352  0.02044626] -0.680733021795\n"
     ]
    }
   ],
   "source": [
    "print(cls.coef_,cls.intercept_)"
   ]
  },
  {
   "cell_type": "markdown",
   "metadata": {},
   "source": [
    "# Decision Tree"
   ]
  },
  {
   "cell_type": "code",
   "execution_count": 20,
   "metadata": {
    "collapsed": false,
    "scrolled": true
   },
   "outputs": [
    {
     "name": "stdout",
     "output_type": "stream",
     "text": [
      "[1]\n"
     ]
    }
   ],
   "source": [
    "data = BI.as_matrix(columns=[\"GenderNum\",\"Height\",\"GPA\",\"HS_GPA\",\"SeatNum\",\"WtFeelNum\"])\n",
    "target = BI.as_matrix(columns=[\"CheatNum\"])\n",
    "\n",
    "Xtrain, Xtest, ytrain, ytest = train_test_split(data, target, test_size = 0.3)\n",
    "\n",
    "cls = DecisionTreeClassifier()\n",
    "cls.fit(Xtrain, ytrain.ravel())\n",
    "\n",
    "result = cls.predict([[1,71,3.8,3.67,1,1]])\n",
    "print(result)"
   ]
  },
  {
   "cell_type": "code",
   "execution_count": 21,
   "metadata": {
    "collapsed": false
   },
   "outputs": [
    {
     "name": "stdout",
     "output_type": "stream",
     "text": [
      "             precision    recall  f1-score   support\n",
      "\n",
      "          0       0.95      0.88      0.91        65\n",
      "          1       0.11      0.25      0.15         4\n",
      "\n",
      "avg / total       0.90      0.84      0.87        69\n",
      "\n"
     ]
    }
   ],
   "source": [
    "ypred = cls.predict(Xtest)\n",
    "print(classification_report(ytest, ypred))"
   ]
  },
  {
   "cell_type": "markdown",
   "metadata": {},
   "source": [
    "# Random Forest"
   ]
  },
  {
   "cell_type": "code",
   "execution_count": 22,
   "metadata": {
    "collapsed": false
   },
   "outputs": [
    {
     "name": "stdout",
     "output_type": "stream",
     "text": [
      "[0]\n"
     ]
    }
   ],
   "source": [
    "data = BI.as_matrix(columns=[\"GenderNum\",\"Height\",\"GPA\",\"HS_GPA\",\"SeatNum\",\"WtFeelNum\"])\n",
    "target = BI.as_matrix(columns=[\"CheatNum\"])\n",
    "\n",
    "Xtrain, Xtest, ytrain, ytest = train_test_split(data, target, test_size = 0.3)\n",
    "\n",
    "cls = RandomForestClassifier()\n",
    "cls.fit(Xtrain, ytrain.ravel())\n",
    "\n",
    "result = cls.predict([[1,71,3.8,3.67,1,1]])\n",
    "print(result)"
   ]
  },
  {
   "cell_type": "code",
   "execution_count": 23,
   "metadata": {
    "collapsed": false
   },
   "outputs": [
    {
     "name": "stdout",
     "output_type": "stream",
     "text": [
      "             precision    recall  f1-score   support\n",
      "\n",
      "          0       0.94      1.00      0.97        65\n",
      "          1       0.00      0.00      0.00         4\n",
      "\n",
      "avg / total       0.89      0.94      0.91        69\n",
      "\n"
     ]
    },
    {
     "name": "stderr",
     "output_type": "stream",
     "text": [
      "/Users/schabl01/.virtualenvs/Jupyter/lib/python3.4/site-packages/sklearn/metrics/classification.py:958: UndefinedMetricWarning: Precision and F-score are ill-defined and being set to 0.0 in labels with no predicted samples.\n",
      "  'precision', 'predicted', average, warn_for)\n"
     ]
    }
   ],
   "source": [
    "ypred = cls.predict(Xtest)\n",
    "print(classification_report(ytest, ypred))"
   ]
  },
  {
   "cell_type": "markdown",
   "metadata": {
    "collapsed": true
   },
   "source": [
    "# Predicting male or female\n",
    "## Based on:\n",
    "* College GPA\n",
    "* HS GPA\n",
    "* Where they sit in class"
   ]
  },
  {
   "cell_type": "markdown",
   "metadata": {},
   "source": [
    "# SVC"
   ]
  },
  {
   "cell_type": "code",
   "execution_count": 24,
   "metadata": {
    "collapsed": false
   },
   "outputs": [
    {
     "name": "stdout",
     "output_type": "stream",
     "text": [
      "[0]\n"
     ]
    }
   ],
   "source": [
    "data = BI.as_matrix(columns=[\"GPA\",\"HS_GPA\",\"SeatNum\"])\n",
    "target = BI.as_matrix(columns=[\"GenderNum\"])\n",
    "\n",
    "Xtrain, Xtest, ytrain, ytest = train_test_split(data, target, test_size = 0.3)\n",
    "\n",
    "cls = SVC()\n",
    "cls.fit(Xtrain, ytrain.ravel())\n",
    "\n",
    "result = cls.predict([[3.8, 3.6, 1]])\n",
    "print(result)"
   ]
  },
  {
   "cell_type": "code",
   "execution_count": 25,
   "metadata": {
    "collapsed": false
   },
   "outputs": [
    {
     "name": "stdout",
     "output_type": "stream",
     "text": [
      "             precision    recall  f1-score   support\n",
      "\n",
      "          0       0.73      0.94      0.82        50\n",
      "          1       0.40      0.11      0.17        19\n",
      "\n",
      "avg / total       0.64      0.71      0.64        69\n",
      "\n"
     ]
    }
   ],
   "source": [
    "ypred = cls.predict(Xtest)\n",
    "print(classification_report(ytest, ypred))"
   ]
  },
  {
   "cell_type": "markdown",
   "metadata": {},
   "source": [
    "# Perceptron"
   ]
  },
  {
   "cell_type": "code",
   "execution_count": 26,
   "metadata": {
    "collapsed": false
   },
   "outputs": [
    {
     "name": "stdout",
     "output_type": "stream",
     "text": [
      "[1]\n"
     ]
    }
   ],
   "source": [
    "data = BI.as_matrix(columns=[\"GPA\",\"HS_GPA\",\"SeatNum\"])\n",
    "target = BI.as_matrix(columns=[\"GenderNum\"])\n",
    "\n",
    "Xtrain, Xtest, ytrain, ytest = train_test_split(data, target, test_size = 0.3)\n",
    "\n",
    "cls = Perceptron()\n",
    "cls.fit(Xtrain, ytrain.ravel())\n",
    "\n",
    "result = cls.predict([[3.8, 3.6, 1]])\n",
    "print(result)"
   ]
  },
  {
   "cell_type": "code",
   "execution_count": 27,
   "metadata": {
    "collapsed": false
   },
   "outputs": [
    {
     "name": "stdout",
     "output_type": "stream",
     "text": [
      "             precision    recall  f1-score   support\n",
      "\n",
      "          0       0.00      0.00      0.00        46\n",
      "          1       0.33      1.00      0.50        23\n",
      "\n",
      "avg / total       0.11      0.33      0.17        69\n",
      "\n"
     ]
    },
    {
     "name": "stderr",
     "output_type": "stream",
     "text": [
      "/Users/schabl01/.virtualenvs/Jupyter/lib/python3.4/site-packages/sklearn/metrics/classification.py:958: UndefinedMetricWarning: Precision and F-score are ill-defined and being set to 0.0 in labels with no predicted samples.\n",
      "  'precision', 'predicted', average, warn_for)\n"
     ]
    }
   ],
   "source": [
    "ypred = cls.predict(Xtest)\n",
    "print(classification_report(ytest, ypred))"
   ]
  },
  {
   "cell_type": "markdown",
   "metadata": {},
   "source": [
    "# Linear Regression"
   ]
  },
  {
   "cell_type": "code",
   "execution_count": 28,
   "metadata": {
    "collapsed": false
   },
   "outputs": [
    {
     "name": "stdout",
     "output_type": "stream",
     "text": [
      "[ 0.22764269]\n"
     ]
    }
   ],
   "source": [
    "data = BI.as_matrix(columns=[\"GPA\",\"HS_GPA\",\"SeatNum\"])\n",
    "target = BI.as_matrix(columns=[\"GenderNum\"])\n",
    "\n",
    "Xtrain, Xtest, ytrain, ytest = train_test_split(data, target, test_size = 0.3)\n",
    "\n",
    "cls = LinearRegression()\n",
    "cls.fit(Xtrain, ytrain.ravel())\n",
    "\n",
    "result = cls.predict([[3.8, 3.6, 1]])\n",
    "print(result)"
   ]
  },
  {
   "cell_type": "code",
   "execution_count": 29,
   "metadata": {
    "collapsed": false
   },
   "outputs": [
    {
     "name": "stdout",
     "output_type": "stream",
     "text": [
      "0.0412544524676\n",
      "[-0.04737569 -0.01949515 -0.19589184] 0.673744660627\n"
     ]
    }
   ],
   "source": [
    "print (cls.score(Xtest,ytest))\n",
    "print(cls.coef_,cls.intercept_)"
   ]
  },
  {
   "cell_type": "markdown",
   "metadata": {},
   "source": [
    "# Decison Tree"
   ]
  },
  {
   "cell_type": "code",
   "execution_count": 30,
   "metadata": {
    "collapsed": false
   },
   "outputs": [
    {
     "name": "stdout",
     "output_type": "stream",
     "text": [
      "[0]\n"
     ]
    }
   ],
   "source": [
    "data = BI.as_matrix(columns=[\"GPA\",\"HS_GPA\",\"SeatNum\"])\n",
    "target = BI.as_matrix(columns=[\"GenderNum\"])\n",
    "\n",
    "Xtrain, Xtest, ytrain, ytest = train_test_split(data, target, test_size = 0.3)\n",
    "\n",
    "cls = DecisionTreeClassifier()\n",
    "cls.fit(Xtrain, ytrain.ravel())\n",
    "\n",
    "result = cls.predict([[3.8, 3.6, 1]])\n",
    "print(result)"
   ]
  },
  {
   "cell_type": "code",
   "execution_count": 31,
   "metadata": {
    "collapsed": false
   },
   "outputs": [
    {
     "name": "stdout",
     "output_type": "stream",
     "text": [
      "             precision    recall  f1-score   support\n",
      "\n",
      "          0       0.69      0.72      0.70        46\n",
      "          1       0.38      0.35      0.36        23\n",
      "\n",
      "avg / total       0.59      0.59      0.59        69\n",
      "\n"
     ]
    }
   ],
   "source": [
    "ypred = cls.predict(Xtest)\n",
    "print(classification_report(ytest, ypred))"
   ]
  },
  {
   "cell_type": "markdown",
   "metadata": {},
   "source": [
    "# Random Forest"
   ]
  },
  {
   "cell_type": "code",
   "execution_count": 32,
   "metadata": {
    "collapsed": false
   },
   "outputs": [
    {
     "name": "stdout",
     "output_type": "stream",
     "text": [
      "[0]\n"
     ]
    }
   ],
   "source": [
    "data = BI.as_matrix(columns=[\"GPA\",\"HS_GPA\",\"SeatNum\"])\n",
    "target = BI.as_matrix(columns=[\"GenderNum\"])\n",
    "\n",
    "Xtrain, Xtest, ytrain, ytest = train_test_split(data, target, test_size = 0.3)\n",
    "\n",
    "cls = RandomForestClassifier()\n",
    "cls.fit(Xtrain, ytrain.ravel())\n",
    "\n",
    "result = cls.predict([[3.8, 3.6, 1]])\n",
    "print(result)"
   ]
  },
  {
   "cell_type": "code",
   "execution_count": 33,
   "metadata": {
    "collapsed": false
   },
   "outputs": [
    {
     "name": "stdout",
     "output_type": "stream",
     "text": [
      "             precision    recall  f1-score   support\n",
      "\n",
      "          0       0.60      0.73      0.66        44\n",
      "          1       0.25      0.16      0.20        25\n",
      "\n",
      "avg / total       0.48      0.52      0.49        69\n",
      "\n"
     ]
    }
   ],
   "source": [
    "ypred = cls.predict(Xtest)\n",
    "print(classification_report(ytest, ypred))"
   ]
  },
  {
   "cell_type": "markdown",
   "metadata": {},
   "source": [
    "# Predicting male or female\n",
    "## Based on:\n",
    "* College GPA\n",
    "* How they feel about their weight\n",
    "* Where they sit in class"
   ]
  },
  {
   "cell_type": "markdown",
   "metadata": {},
   "source": [
    "# SVC"
   ]
  },
  {
   "cell_type": "code",
   "execution_count": 34,
   "metadata": {
    "collapsed": false
   },
   "outputs": [
    {
     "name": "stdout",
     "output_type": "stream",
     "text": [
      "[0]\n"
     ]
    }
   ],
   "source": [
    "data = BI.as_matrix(columns=[\"GPA\",\"WtFeelNum\",\"SeatNum\"])\n",
    "target = BI.as_matrix(columns=[\"GenderNum\"])\n",
    "\n",
    "Xtrain, Xtest, ytrain, ytest = train_test_split(data, target, test_size = 0.3)\n",
    "\n",
    "cls = SVC()\n",
    "cls.fit(Xtrain, ytrain.ravel())\n",
    "\n",
    "result = cls.predict([[3.8, 0, 1]])\n",
    "print(result)"
   ]
  },
  {
   "cell_type": "code",
   "execution_count": 35,
   "metadata": {
    "collapsed": false
   },
   "outputs": [
    {
     "name": "stdout",
     "output_type": "stream",
     "text": [
      "             precision    recall  f1-score   support\n",
      "\n",
      "          0       0.67      0.95      0.79        44\n",
      "          1       0.67      0.16      0.26        25\n",
      "\n",
      "avg / total       0.67      0.67      0.59        69\n",
      "\n"
     ]
    }
   ],
   "source": [
    "ypred = cls.predict(Xtest)\n",
    "print(classification_report(ytest, ypred))"
   ]
  },
  {
   "cell_type": "markdown",
   "metadata": {},
   "source": [
    "# Perceptron"
   ]
  },
  {
   "cell_type": "code",
   "execution_count": 36,
   "metadata": {
    "collapsed": false
   },
   "outputs": [
    {
     "name": "stdout",
     "output_type": "stream",
     "text": [
      "[0]\n"
     ]
    }
   ],
   "source": [
    "data = BI.as_matrix(columns=[\"GPA\",\"WtFeelNum\",\"SeatNum\"])\n",
    "target = BI.as_matrix(columns=[\"GenderNum\"])\n",
    "\n",
    "Xtrain, Xtest, ytrain, ytest = train_test_split(data, target, test_size = 0.3)\n",
    "\n",
    "cls = Perceptron()\n",
    "cls.fit(Xtrain, ytrain.ravel())\n",
    "\n",
    "result = cls.predict([[3.8, 0, 1]])\n",
    "print(result)"
   ]
  },
  {
   "cell_type": "code",
   "execution_count": 37,
   "metadata": {
    "collapsed": false
   },
   "outputs": [
    {
     "name": "stdout",
     "output_type": "stream",
     "text": [
      "             precision    recall  f1-score   support\n",
      "\n",
      "          0       0.70      0.38      0.49        42\n",
      "          1       0.43      0.74      0.55        27\n",
      "\n",
      "avg / total       0.59      0.52      0.51        69\n",
      "\n"
     ]
    }
   ],
   "source": [
    "ypred = cls.predict(Xtest)\n",
    "print(classification_report(ytest, ypred))"
   ]
  },
  {
   "cell_type": "markdown",
   "metadata": {},
   "source": [
    "# Linear Regression"
   ]
  },
  {
   "cell_type": "code",
   "execution_count": 38,
   "metadata": {
    "collapsed": false
   },
   "outputs": [
    {
     "name": "stdout",
     "output_type": "stream",
     "text": [
      "[ 0.29773688]\n"
     ]
    }
   ],
   "source": [
    "data = BI.as_matrix(columns=[\"GPA\",\"WtFeelNum\",\"SeatNum\"])\n",
    "target = BI.as_matrix(columns=[\"GenderNum\"])\n",
    "\n",
    "Xtrain, Xtest, ytrain, ytest = train_test_split(data, target, test_size = 0.3)\n",
    "\n",
    "cls = LinearRegression()\n",
    "cls.fit(Xtrain, ytrain.ravel())\n",
    "\n",
    "result = cls.predict([[3.8, 0, 1]])\n",
    "print(result)"
   ]
  },
  {
   "cell_type": "code",
   "execution_count": 39,
   "metadata": {
    "collapsed": false
   },
   "outputs": [
    {
     "name": "stdout",
     "output_type": "stream",
     "text": [
      "0.0640663288101\n",
      "[-0.09579904 -0.09570782 -0.09797049] 0.759743725535\n"
     ]
    }
   ],
   "source": [
    "print (cls.score(Xtest,ytest))\n",
    "print(cls.coef_,cls.intercept_)"
   ]
  },
  {
   "cell_type": "markdown",
   "metadata": {},
   "source": [
    "# Decision Tree"
   ]
  },
  {
   "cell_type": "code",
   "execution_count": 40,
   "metadata": {
    "collapsed": false
   },
   "outputs": [
    {
     "name": "stdout",
     "output_type": "stream",
     "text": [
      "[0]\n"
     ]
    }
   ],
   "source": [
    "data = BI.as_matrix(columns=[\"GPA\",\"WtFeelNum\",\"SeatNum\"])\n",
    "target = BI.as_matrix(columns=[\"GenderNum\"])\n",
    "\n",
    "Xtrain, Xtest, ytrain, ytest = train_test_split(data, target, test_size = 0.3)\n",
    "\n",
    "cls = DecisionTreeClassifier()\n",
    "cls.fit(Xtrain, ytrain.ravel())\n",
    "\n",
    "result = cls.predict([[3.8, 0, 1]])\n",
    "print(result)"
   ]
  },
  {
   "cell_type": "code",
   "execution_count": 41,
   "metadata": {
    "collapsed": false
   },
   "outputs": [
    {
     "name": "stdout",
     "output_type": "stream",
     "text": [
      "             precision    recall  f1-score   support\n",
      "\n",
      "          0       0.61      0.83      0.70        41\n",
      "          1       0.46      0.21      0.29        28\n",
      "\n",
      "avg / total       0.55      0.58      0.54        69\n",
      "\n"
     ]
    }
   ],
   "source": [
    "ypred = cls.predict(Xtest)\n",
    "print(classification_report(ytest, ypred))"
   ]
  },
  {
   "cell_type": "markdown",
   "metadata": {},
   "source": [
    "# Random Forest"
   ]
  },
  {
   "cell_type": "code",
   "execution_count": 42,
   "metadata": {
    "collapsed": false
   },
   "outputs": [
    {
     "name": "stdout",
     "output_type": "stream",
     "text": [
      "[1]\n"
     ]
    }
   ],
   "source": [
    "data = BI.as_matrix(columns=[\"GPA\",\"WtFeelNum\",\"SeatNum\"])\n",
    "target = BI.as_matrix(columns=[\"GenderNum\"])\n",
    "\n",
    "Xtrain, Xtest, ytrain, ytest = train_test_split(data, target, test_size = 0.3)\n",
    "\n",
    "cls = RandomForestClassifier()\n",
    "cls.fit(Xtrain, ytrain.ravel())\n",
    "\n",
    "result = cls.predict([[3.8, 0, 1]])\n",
    "print(result)"
   ]
  },
  {
   "cell_type": "code",
   "execution_count": 43,
   "metadata": {
    "collapsed": false
   },
   "outputs": [
    {
     "name": "stdout",
     "output_type": "stream",
     "text": [
      "             precision    recall  f1-score   support\n",
      "\n",
      "          0       0.67      0.67      0.67        43\n",
      "          1       0.46      0.46      0.46        26\n",
      "\n",
      "avg / total       0.59      0.59      0.59        69\n",
      "\n"
     ]
    }
   ],
   "source": [
    "ypred = cls.predict(Xtest)\n",
    "print(classification_report(ytest, ypred))"
   ]
  },
  {
   "cell_type": "code",
   "execution_count": 44,
   "metadata": {
    "collapsed": false
   },
   "outputs": [
    {
     "data": {
      "text/html": [
       "<div>\n",
       "<table border=\"1\" class=\"dataframe\">\n",
       "  <thead>\n",
       "    <tr style=\"text-align: right;\">\n",
       "      <th></th>\n",
       "      <th>Gender</th>\n",
       "      <th>Height</th>\n",
       "      <th>GPA</th>\n",
       "      <th>HS_GPA</th>\n",
       "      <th>Seat</th>\n",
       "      <th>WtFeel</th>\n",
       "      <th>Cheat</th>\n",
       "      <th>SeatNum</th>\n",
       "      <th>WtFeelNum</th>\n",
       "      <th>GenderNum</th>\n",
       "      <th>CheatNum</th>\n",
       "    </tr>\n",
       "  </thead>\n",
       "  <tbody>\n",
       "    <tr>\n",
       "      <th>0</th>\n",
       "      <td>Female</td>\n",
       "      <td>64.0</td>\n",
       "      <td>2.60</td>\n",
       "      <td>2.63</td>\n",
       "      <td>M</td>\n",
       "      <td>AboutRt</td>\n",
       "      <td>No</td>\n",
       "      <td>0.5</td>\n",
       "      <td>0</td>\n",
       "      <td>0</td>\n",
       "      <td>0</td>\n",
       "    </tr>\n",
       "    <tr>\n",
       "      <th>1</th>\n",
       "      <td>Male</td>\n",
       "      <td>69.0</td>\n",
       "      <td>2.70</td>\n",
       "      <td>3.72</td>\n",
       "      <td>M</td>\n",
       "      <td>AboutRt</td>\n",
       "      <td>No</td>\n",
       "      <td>0.5</td>\n",
       "      <td>0</td>\n",
       "      <td>1</td>\n",
       "      <td>0</td>\n",
       "    </tr>\n",
       "    <tr>\n",
       "      <th>2</th>\n",
       "      <td>Female</td>\n",
       "      <td>66.0</td>\n",
       "      <td>3.00</td>\n",
       "      <td>3.44</td>\n",
       "      <td>F</td>\n",
       "      <td>AboutRt</td>\n",
       "      <td>No</td>\n",
       "      <td>1.0</td>\n",
       "      <td>0</td>\n",
       "      <td>0</td>\n",
       "      <td>0</td>\n",
       "    </tr>\n",
       "    <tr>\n",
       "      <th>3</th>\n",
       "      <td>Female</td>\n",
       "      <td>63.0</td>\n",
       "      <td>3.11</td>\n",
       "      <td>2.73</td>\n",
       "      <td>F</td>\n",
       "      <td>AboutRt</td>\n",
       "      <td>No</td>\n",
       "      <td>1.0</td>\n",
       "      <td>0</td>\n",
       "      <td>0</td>\n",
       "      <td>0</td>\n",
       "    </tr>\n",
       "    <tr>\n",
       "      <th>4</th>\n",
       "      <td>Male</td>\n",
       "      <td>72.0</td>\n",
       "      <td>3.40</td>\n",
       "      <td>2.35</td>\n",
       "      <td>B</td>\n",
       "      <td>OverWt</td>\n",
       "      <td>No</td>\n",
       "      <td>0.0</td>\n",
       "      <td>1</td>\n",
       "      <td>1</td>\n",
       "      <td>0</td>\n",
       "    </tr>\n",
       "    <tr>\n",
       "      <th>5</th>\n",
       "      <td>Female</td>\n",
       "      <td>67.0</td>\n",
       "      <td>3.43</td>\n",
       "      <td>3.84</td>\n",
       "      <td>M</td>\n",
       "      <td>AboutRt</td>\n",
       "      <td>No</td>\n",
       "      <td>0.5</td>\n",
       "      <td>0</td>\n",
       "      <td>0</td>\n",
       "      <td>0</td>\n",
       "    </tr>\n",
       "    <tr>\n",
       "      <th>6</th>\n",
       "      <td>Male</td>\n",
       "      <td>69.0</td>\n",
       "      <td>3.70</td>\n",
       "      <td>4.00</td>\n",
       "      <td>F</td>\n",
       "      <td>AboutRt</td>\n",
       "      <td>No</td>\n",
       "      <td>1.0</td>\n",
       "      <td>0</td>\n",
       "      <td>1</td>\n",
       "      <td>0</td>\n",
       "    </tr>\n",
       "    <tr>\n",
       "      <th>7</th>\n",
       "      <td>Male</td>\n",
       "      <td>74.0</td>\n",
       "      <td>3.70</td>\n",
       "      <td>3.92</td>\n",
       "      <td>B</td>\n",
       "      <td>AboutRt</td>\n",
       "      <td>No</td>\n",
       "      <td>0.0</td>\n",
       "      <td>0</td>\n",
       "      <td>1</td>\n",
       "      <td>0</td>\n",
       "    </tr>\n",
       "    <tr>\n",
       "      <th>8</th>\n",
       "      <td>Male</td>\n",
       "      <td>72.0</td>\n",
       "      <td>3.77</td>\n",
       "      <td>3.09</td>\n",
       "      <td>M</td>\n",
       "      <td>UnderWt</td>\n",
       "      <td>No</td>\n",
       "      <td>0.5</td>\n",
       "      <td>-1</td>\n",
       "      <td>1</td>\n",
       "      <td>0</td>\n",
       "    </tr>\n",
       "    <tr>\n",
       "      <th>9</th>\n",
       "      <td>Female</td>\n",
       "      <td>63.0</td>\n",
       "      <td>3.50</td>\n",
       "      <td>4.00</td>\n",
       "      <td>F</td>\n",
       "      <td>AboutRt</td>\n",
       "      <td>No</td>\n",
       "      <td>1.0</td>\n",
       "      <td>0</td>\n",
       "      <td>0</td>\n",
       "      <td>0</td>\n",
       "    </tr>\n",
       "    <tr>\n",
       "      <th>10</th>\n",
       "      <td>Male</td>\n",
       "      <td>68.5</td>\n",
       "      <td>3.00</td>\n",
       "      <td>3.43</td>\n",
       "      <td>F</td>\n",
       "      <td>OverWt</td>\n",
       "      <td>No</td>\n",
       "      <td>1.0</td>\n",
       "      <td>1</td>\n",
       "      <td>1</td>\n",
       "      <td>0</td>\n",
       "    </tr>\n",
       "    <tr>\n",
       "      <th>11</th>\n",
       "      <td>Male</td>\n",
       "      <td>70.0</td>\n",
       "      <td>3.00</td>\n",
       "      <td>3.62</td>\n",
       "      <td>M</td>\n",
       "      <td>AboutRt</td>\n",
       "      <td>No</td>\n",
       "      <td>0.5</td>\n",
       "      <td>0</td>\n",
       "      <td>1</td>\n",
       "      <td>0</td>\n",
       "    </tr>\n",
       "    <tr>\n",
       "      <th>12</th>\n",
       "      <td>Male</td>\n",
       "      <td>71.0</td>\n",
       "      <td>3.50</td>\n",
       "      <td>3.49</td>\n",
       "      <td>F</td>\n",
       "      <td>AboutRt</td>\n",
       "      <td>No</td>\n",
       "      <td>1.0</td>\n",
       "      <td>0</td>\n",
       "      <td>1</td>\n",
       "      <td>0</td>\n",
       "    </tr>\n",
       "    <tr>\n",
       "      <th>13</th>\n",
       "      <td>Male</td>\n",
       "      <td>68.0</td>\n",
       "      <td>3.25</td>\n",
       "      <td>3.09</td>\n",
       "      <td>M</td>\n",
       "      <td>UnderWt</td>\n",
       "      <td>No</td>\n",
       "      <td>0.5</td>\n",
       "      <td>-1</td>\n",
       "      <td>1</td>\n",
       "      <td>0</td>\n",
       "    </tr>\n",
       "    <tr>\n",
       "      <th>14</th>\n",
       "      <td>Female</td>\n",
       "      <td>60.0</td>\n",
       "      <td>2.83</td>\n",
       "      <td>3.22</td>\n",
       "      <td>M</td>\n",
       "      <td>AboutRt</td>\n",
       "      <td>No</td>\n",
       "      <td>0.5</td>\n",
       "      <td>0</td>\n",
       "      <td>0</td>\n",
       "      <td>0</td>\n",
       "    </tr>\n",
       "    <tr>\n",
       "      <th>15</th>\n",
       "      <td>Male</td>\n",
       "      <td>71.0</td>\n",
       "      <td>2.62</td>\n",
       "      <td>2.52</td>\n",
       "      <td>F</td>\n",
       "      <td>OverWt</td>\n",
       "      <td>No</td>\n",
       "      <td>1.0</td>\n",
       "      <td>1</td>\n",
       "      <td>1</td>\n",
       "      <td>0</td>\n",
       "    </tr>\n",
       "    <tr>\n",
       "      <th>16</th>\n",
       "      <td>Female</td>\n",
       "      <td>68.0</td>\n",
       "      <td>3.15</td>\n",
       "      <td>2.36</td>\n",
       "      <td>M</td>\n",
       "      <td>AboutRt</td>\n",
       "      <td>No</td>\n",
       "      <td>0.5</td>\n",
       "      <td>0</td>\n",
       "      <td>0</td>\n",
       "      <td>0</td>\n",
       "    </tr>\n",
       "    <tr>\n",
       "      <th>17</th>\n",
       "      <td>Female</td>\n",
       "      <td>67.0</td>\n",
       "      <td>4.20</td>\n",
       "      <td>4.00</td>\n",
       "      <td>M</td>\n",
       "      <td>AboutRt</td>\n",
       "      <td>Yes</td>\n",
       "      <td>0.5</td>\n",
       "      <td>0</td>\n",
       "      <td>0</td>\n",
       "      <td>1</td>\n",
       "    </tr>\n",
       "    <tr>\n",
       "      <th>18</th>\n",
       "      <td>Female</td>\n",
       "      <td>66.0</td>\n",
       "      <td>3.70</td>\n",
       "      <td>4.00</td>\n",
       "      <td>F</td>\n",
       "      <td>OverWt</td>\n",
       "      <td>Yes</td>\n",
       "      <td>1.0</td>\n",
       "      <td>1</td>\n",
       "      <td>0</td>\n",
       "      <td>1</td>\n",
       "    </tr>\n",
       "    <tr>\n",
       "      <th>19</th>\n",
       "      <td>Male</td>\n",
       "      <td>69.0</td>\n",
       "      <td>4.38</td>\n",
       "      <td>4.00</td>\n",
       "      <td>M</td>\n",
       "      <td>UnderWt</td>\n",
       "      <td>No</td>\n",
       "      <td>0.5</td>\n",
       "      <td>-1</td>\n",
       "      <td>1</td>\n",
       "      <td>0</td>\n",
       "    </tr>\n",
       "  </tbody>\n",
       "</table>\n",
       "</div>"
      ],
      "text/plain": [
       "    Gender  Height   GPA  HS_GPA Seat   WtFeel Cheat  SeatNum  WtFeelNum  \\\n",
       "0   Female    64.0  2.60    2.63    M  AboutRt    No      0.5          0   \n",
       "1     Male    69.0  2.70    3.72    M  AboutRt    No      0.5          0   \n",
       "2   Female    66.0  3.00    3.44    F  AboutRt    No      1.0          0   \n",
       "3   Female    63.0  3.11    2.73    F  AboutRt    No      1.0          0   \n",
       "4     Male    72.0  3.40    2.35    B   OverWt    No      0.0          1   \n",
       "5   Female    67.0  3.43    3.84    M  AboutRt    No      0.5          0   \n",
       "6     Male    69.0  3.70    4.00    F  AboutRt    No      1.0          0   \n",
       "7     Male    74.0  3.70    3.92    B  AboutRt    No      0.0          0   \n",
       "8     Male    72.0  3.77    3.09    M  UnderWt    No      0.5         -1   \n",
       "9   Female    63.0  3.50    4.00    F  AboutRt    No      1.0          0   \n",
       "10    Male    68.5  3.00    3.43    F   OverWt    No      1.0          1   \n",
       "11    Male    70.0  3.00    3.62    M  AboutRt    No      0.5          0   \n",
       "12    Male    71.0  3.50    3.49    F  AboutRt    No      1.0          0   \n",
       "13    Male    68.0  3.25    3.09    M  UnderWt    No      0.5         -1   \n",
       "14  Female    60.0  2.83    3.22    M  AboutRt    No      0.5          0   \n",
       "15    Male    71.0  2.62    2.52    F   OverWt    No      1.0          1   \n",
       "16  Female    68.0  3.15    2.36    M  AboutRt    No      0.5          0   \n",
       "17  Female    67.0  4.20    4.00    M  AboutRt   Yes      0.5          0   \n",
       "18  Female    66.0  3.70    4.00    F   OverWt   Yes      1.0          1   \n",
       "19    Male    69.0  4.38    4.00    M  UnderWt    No      0.5         -1   \n",
       "\n",
       "    GenderNum  CheatNum  \n",
       "0           0         0  \n",
       "1           1         0  \n",
       "2           0         0  \n",
       "3           0         0  \n",
       "4           1         0  \n",
       "5           0         0  \n",
       "6           1         0  \n",
       "7           1         0  \n",
       "8           1         0  \n",
       "9           0         0  \n",
       "10          1         0  \n",
       "11          1         0  \n",
       "12          1         0  \n",
       "13          1         0  \n",
       "14          0         0  \n",
       "15          1         0  \n",
       "16          0         0  \n",
       "17          0         1  \n",
       "18          0         1  \n",
       "19          1         0  "
      ]
     },
     "execution_count": 44,
     "metadata": {},
     "output_type": "execute_result"
    }
   ],
   "source": [
    "BI.head(20)"
   ]
  },
  {
   "cell_type": "code",
   "execution_count": null,
   "metadata": {
    "collapsed": false
   },
   "outputs": [],
   "source": []
  },
  {
   "cell_type": "code",
   "execution_count": null,
   "metadata": {
    "collapsed": false
   },
   "outputs": [],
   "source": []
  },
  {
   "cell_type": "code",
   "execution_count": null,
   "metadata": {
    "collapsed": true
   },
   "outputs": [],
   "source": []
  },
  {
   "cell_type": "code",
   "execution_count": null,
   "metadata": {
    "collapsed": true
   },
   "outputs": [],
   "source": []
  },
  {
   "cell_type": "code",
   "execution_count": null,
   "metadata": {
    "collapsed": true
   },
   "outputs": [],
   "source": []
  },
  {
   "cell_type": "code",
   "execution_count": null,
   "metadata": {
    "collapsed": true
   },
   "outputs": [],
   "source": []
  },
  {
   "cell_type": "code",
   "execution_count": null,
   "metadata": {
    "collapsed": true
   },
   "outputs": [],
   "source": []
  }
 ],
 "metadata": {
  "kernelspec": {
   "display_name": "Python 3",
   "language": "python",
   "name": "python3"
  },
  "language_info": {
   "codemirror_mode": {
    "name": "ipython",
    "version": 3
   },
   "file_extension": ".py",
   "mimetype": "text/x-python",
   "name": "python",
   "nbconvert_exporter": "python",
   "pygments_lexer": "ipython3",
   "version": "3.4.2"
  }
 },
 "nbformat": 4,
 "nbformat_minor": 0
}
