{
 "cells": [
  {
   "cell_type": "code",
   "execution_count": 54,
   "metadata": {
    "collapsed": false
   },
   "outputs": [],
   "source": [
    "%matplotlib inline\n",
    "\n",
    "import pandas as pd\n",
    "import seaborn as sbn\n",
    "import numpy as np\n",
    "sbn.set()\n",
    "import matplotlib.pyplot as plt\n",
    "from sklearn.cross_validation import train_test_split\n",
    "from sklearn.svm import SVC\n",
    "from sklearn.linear_model import Perceptron\n",
    "from sklearn.metrics import confusion_matrix, classification_report\n",
    "from sklearn.linear_model import LinearRegression\n",
    "from sklearn.tree import DecisionTreeClassifier\n",
    "from sklearn.ensemble import RandomForestClassifier \n"
   ]
  },
  {
   "cell_type": "code",
   "execution_count": 2,
   "metadata": {
    "collapsed": false
   },
   "outputs": [
    {
     "data": {
      "text/html": [
       "<style>body {\n",
       "    margin: 0;\n",
       "    font-family: Helvetica;\n",
       "}\n",
       "table.dataframe {\n",
       "    border-collapse: collapse;\n",
       "    border: none;\n",
       "}\n",
       "table.dataframe tr {\n",
       "    border: none;\n",
       "}\n",
       "table.dataframe td, table.dataframe th {\n",
       "    margin: 0;\n",
       "    border: 1px solid white;\n",
       "    padding-left: 0.25em;\n",
       "    padding-right: 0.25em;\n",
       "}\n",
       "table.dataframe th:not(:empty) {\n",
       "    background-color: #fec;\n",
       "    text-align: left;\n",
       "    font-weight: normal;\n",
       "}\n",
       "table.dataframe tr:nth-child(2) th:empty {\n",
       "    border-left: none;\n",
       "    border-right: 1px dashed #888;\n",
       "}\n",
       "table.dataframe td {\n",
       "    border: 2px solid #ccf;\n",
       "    background-color: #f4f4ff;\n",
       "}\n",
       "h3 {\n",
       "    color: white;\n",
       "    background-color: black;\n",
       "    padding: 0.5em;\n",
       "}\n",
       "</style>"
      ],
      "text/plain": [
       "<IPython.core.display.HTML object>"
      ]
     },
     "execution_count": 2,
     "metadata": {},
     "output_type": "execute_result"
    }
   ],
   "source": [
    "from IPython.core.display import HTML\n",
    "css = open('style-table.css').read() + open('style-notebook.css').read()\n",
    "HTML('<style>{}</style>'.format(css))"
   ]
  },
  {
   "cell_type": "code",
   "execution_count": 3,
   "metadata": {
    "collapsed": false
   },
   "outputs": [],
   "source": [
    "# Read in the CSV\n",
    "BI = pd.DataFrame.from_csv('../../Data/body_image.csv', index_col=None, encoding = \"ISO-8859-1\")"
   ]
  },
  {
   "cell_type": "code",
   "execution_count": 4,
   "metadata": {
    "collapsed": false
   },
   "outputs": [
    {
     "data": {
      "text/html": [
       "<div>\n",
       "<table border=\"1\" class=\"dataframe\">\n",
       "  <thead>\n",
       "    <tr style=\"text-align: right;\">\n",
       "      <th></th>\n",
       "      <th>Gender</th>\n",
       "      <th>Height</th>\n",
       "      <th>GPA</th>\n",
       "      <th>HS_GPA</th>\n",
       "      <th>Seat</th>\n",
       "      <th>WtFeel</th>\n",
       "      <th>Cheat</th>\n",
       "    </tr>\n",
       "  </thead>\n",
       "  <tbody>\n",
       "    <tr>\n",
       "      <th>0</th>\n",
       "      <td>Female</td>\n",
       "      <td>64</td>\n",
       "      <td>2.60</td>\n",
       "      <td>2.63</td>\n",
       "      <td>M</td>\n",
       "      <td>AboutRt</td>\n",
       "      <td>No</td>\n",
       "    </tr>\n",
       "    <tr>\n",
       "      <th>1</th>\n",
       "      <td>Male</td>\n",
       "      <td>69</td>\n",
       "      <td>2.70</td>\n",
       "      <td>3.72</td>\n",
       "      <td>M</td>\n",
       "      <td>AboutRt</td>\n",
       "      <td>No</td>\n",
       "    </tr>\n",
       "    <tr>\n",
       "      <th>2</th>\n",
       "      <td>Female</td>\n",
       "      <td>66</td>\n",
       "      <td>3.00</td>\n",
       "      <td>3.44</td>\n",
       "      <td>F</td>\n",
       "      <td>AboutRt</td>\n",
       "      <td>No</td>\n",
       "    </tr>\n",
       "    <tr>\n",
       "      <th>3</th>\n",
       "      <td>Female</td>\n",
       "      <td>63</td>\n",
       "      <td>3.11</td>\n",
       "      <td>2.73</td>\n",
       "      <td>F</td>\n",
       "      <td>AboutRt</td>\n",
       "      <td>No</td>\n",
       "    </tr>\n",
       "    <tr>\n",
       "      <th>4</th>\n",
       "      <td>Male</td>\n",
       "      <td>72</td>\n",
       "      <td>3.40</td>\n",
       "      <td>2.35</td>\n",
       "      <td>B</td>\n",
       "      <td>OverWt</td>\n",
       "      <td>No</td>\n",
       "    </tr>\n",
       "    <tr>\n",
       "      <th>5</th>\n",
       "      <td>Female</td>\n",
       "      <td>67</td>\n",
       "      <td>3.43</td>\n",
       "      <td>3.84</td>\n",
       "      <td>M</td>\n",
       "      <td>AboutRt</td>\n",
       "      <td>No</td>\n",
       "    </tr>\n",
       "    <tr>\n",
       "      <th>6</th>\n",
       "      <td>Male</td>\n",
       "      <td>69</td>\n",
       "      <td>3.70</td>\n",
       "      <td>4.00</td>\n",
       "      <td>F</td>\n",
       "      <td>AboutRt</td>\n",
       "      <td>No</td>\n",
       "    </tr>\n",
       "    <tr>\n",
       "      <th>7</th>\n",
       "      <td>Male</td>\n",
       "      <td>74</td>\n",
       "      <td>3.70</td>\n",
       "      <td>3.92</td>\n",
       "      <td>B</td>\n",
       "      <td>AboutRt</td>\n",
       "      <td>No</td>\n",
       "    </tr>\n",
       "    <tr>\n",
       "      <th>8</th>\n",
       "      <td>Male</td>\n",
       "      <td>72</td>\n",
       "      <td>3.77</td>\n",
       "      <td>3.09</td>\n",
       "      <td>M</td>\n",
       "      <td>UnderWt</td>\n",
       "      <td>No</td>\n",
       "    </tr>\n",
       "    <tr>\n",
       "      <th>9</th>\n",
       "      <td>Female</td>\n",
       "      <td>63</td>\n",
       "      <td>3.50</td>\n",
       "      <td>4.00</td>\n",
       "      <td>F</td>\n",
       "      <td>AboutRt</td>\n",
       "      <td>No</td>\n",
       "    </tr>\n",
       "  </tbody>\n",
       "</table>\n",
       "</div>"
      ],
      "text/plain": [
       "   Gender  Height   GPA  HS_GPA Seat   WtFeel Cheat\n",
       "0  Female      64  2.60    2.63    M  AboutRt    No\n",
       "1    Male      69  2.70    3.72    M  AboutRt    No\n",
       "2  Female      66  3.00    3.44    F  AboutRt    No\n",
       "3  Female      63  3.11    2.73    F  AboutRt    No\n",
       "4    Male      72  3.40    2.35    B   OverWt    No\n",
       "5  Female      67  3.43    3.84    M  AboutRt    No\n",
       "6    Male      69  3.70    4.00    F  AboutRt    No\n",
       "7    Male      74  3.70    3.92    B  AboutRt    No\n",
       "8    Male      72  3.77    3.09    M  UnderWt    No\n",
       "9  Female      63  3.50    4.00    F  AboutRt    No"
      ]
     },
     "execution_count": 4,
     "metadata": {},
     "output_type": "execute_result"
    }
   ],
   "source": [
    "BI.head(10)"
   ]
  },
  {
   "cell_type": "code",
   "execution_count": 5,
   "metadata": {
    "collapsed": false
   },
   "outputs": [],
   "source": [
    "seats = []\n",
    "\n",
    "for idx, row in BI.iterrows():\n",
    "    if row[\"Seat\"] == \"B\":\n",
    "        seats.append(0)\n",
    "    elif row[\"Seat\"] == \"M\":\n",
    "        seats.append(.5)\n",
    "    else:\n",
    "        seats.append(1)\n",
    "        \n",
    "BI[\"SeatNum\"] = seats"
   ]
  },
  {
   "cell_type": "code",
   "execution_count": 6,
   "metadata": {
    "collapsed": true
   },
   "outputs": [],
   "source": [
    "wtFeels = []\n",
    "\n",
    "for idx, row in BI.iterrows():\n",
    "    if row[\"WtFeel\"] == \"AboutRt\":\n",
    "        wtFeels.append(0)\n",
    "    elif row[\"WtFeel\"] == \"OverWt\":\n",
    "        wtFeels.append(1)\n",
    "    else:\n",
    "        wtFeels.append(-1)\n",
    "        \n",
    "BI[\"WtFeelNum\"] = wtFeels"
   ]
  },
  {
   "cell_type": "code",
   "execution_count": 7,
   "metadata": {
    "collapsed": true
   },
   "outputs": [],
   "source": [
    "genders = []\n",
    "\n",
    "for idx, row in BI.iterrows():\n",
    "    if row[\"Gender\"] == \"Male\":\n",
    "        genders.append(1)\n",
    "    else:\n",
    "        genders.append(0)\n",
    "        \n",
    "BI[\"GenderNum\"] = genders"
   ]
  },
  {
   "cell_type": "code",
   "execution_count": 8,
   "metadata": {
    "collapsed": true
   },
   "outputs": [],
   "source": [
    "cheats = []\n",
    "\n",
    "for idx, row in BI.iterrows():\n",
    "    if row[\"Cheat\"] == \"Yes\":\n",
    "        cheats.append(1)\n",
    "    else:\n",
    "        cheats.append(0)\n",
    "        \n",
    "BI[\"CheatNum\"] = cheats"
   ]
  },
  {
   "cell_type": "code",
   "execution_count": 9,
   "metadata": {
    "collapsed": false
   },
   "outputs": [
    {
     "data": {
      "text/html": [
       "<div>\n",
       "<table border=\"1\" class=\"dataframe\">\n",
       "  <thead>\n",
       "    <tr style=\"text-align: right;\">\n",
       "      <th></th>\n",
       "      <th>Gender</th>\n",
       "      <th>Height</th>\n",
       "      <th>GPA</th>\n",
       "      <th>HS_GPA</th>\n",
       "      <th>Seat</th>\n",
       "      <th>WtFeel</th>\n",
       "      <th>Cheat</th>\n",
       "      <th>SeatNum</th>\n",
       "      <th>WtFeelNum</th>\n",
       "      <th>GenderNum</th>\n",
       "      <th>CheatNum</th>\n",
       "    </tr>\n",
       "  </thead>\n",
       "  <tbody>\n",
       "    <tr>\n",
       "      <th>0</th>\n",
       "      <td>Female</td>\n",
       "      <td>64.0</td>\n",
       "      <td>2.60</td>\n",
       "      <td>2.63</td>\n",
       "      <td>M</td>\n",
       "      <td>AboutRt</td>\n",
       "      <td>No</td>\n",
       "      <td>0.5</td>\n",
       "      <td>0</td>\n",
       "      <td>0</td>\n",
       "      <td>0</td>\n",
       "    </tr>\n",
       "    <tr>\n",
       "      <th>1</th>\n",
       "      <td>Male</td>\n",
       "      <td>69.0</td>\n",
       "      <td>2.70</td>\n",
       "      <td>3.72</td>\n",
       "      <td>M</td>\n",
       "      <td>AboutRt</td>\n",
       "      <td>No</td>\n",
       "      <td>0.5</td>\n",
       "      <td>0</td>\n",
       "      <td>1</td>\n",
       "      <td>0</td>\n",
       "    </tr>\n",
       "    <tr>\n",
       "      <th>2</th>\n",
       "      <td>Female</td>\n",
       "      <td>66.0</td>\n",
       "      <td>3.00</td>\n",
       "      <td>3.44</td>\n",
       "      <td>F</td>\n",
       "      <td>AboutRt</td>\n",
       "      <td>No</td>\n",
       "      <td>1.0</td>\n",
       "      <td>0</td>\n",
       "      <td>0</td>\n",
       "      <td>0</td>\n",
       "    </tr>\n",
       "    <tr>\n",
       "      <th>3</th>\n",
       "      <td>Female</td>\n",
       "      <td>63.0</td>\n",
       "      <td>3.11</td>\n",
       "      <td>2.73</td>\n",
       "      <td>F</td>\n",
       "      <td>AboutRt</td>\n",
       "      <td>No</td>\n",
       "      <td>1.0</td>\n",
       "      <td>0</td>\n",
       "      <td>0</td>\n",
       "      <td>0</td>\n",
       "    </tr>\n",
       "    <tr>\n",
       "      <th>4</th>\n",
       "      <td>Male</td>\n",
       "      <td>72.0</td>\n",
       "      <td>3.40</td>\n",
       "      <td>2.35</td>\n",
       "      <td>B</td>\n",
       "      <td>OverWt</td>\n",
       "      <td>No</td>\n",
       "      <td>0.0</td>\n",
       "      <td>1</td>\n",
       "      <td>1</td>\n",
       "      <td>0</td>\n",
       "    </tr>\n",
       "    <tr>\n",
       "      <th>5</th>\n",
       "      <td>Female</td>\n",
       "      <td>67.0</td>\n",
       "      <td>3.43</td>\n",
       "      <td>3.84</td>\n",
       "      <td>M</td>\n",
       "      <td>AboutRt</td>\n",
       "      <td>No</td>\n",
       "      <td>0.5</td>\n",
       "      <td>0</td>\n",
       "      <td>0</td>\n",
       "      <td>0</td>\n",
       "    </tr>\n",
       "    <tr>\n",
       "      <th>6</th>\n",
       "      <td>Male</td>\n",
       "      <td>69.0</td>\n",
       "      <td>3.70</td>\n",
       "      <td>4.00</td>\n",
       "      <td>F</td>\n",
       "      <td>AboutRt</td>\n",
       "      <td>No</td>\n",
       "      <td>1.0</td>\n",
       "      <td>0</td>\n",
       "      <td>1</td>\n",
       "      <td>0</td>\n",
       "    </tr>\n",
       "    <tr>\n",
       "      <th>7</th>\n",
       "      <td>Male</td>\n",
       "      <td>74.0</td>\n",
       "      <td>3.70</td>\n",
       "      <td>3.92</td>\n",
       "      <td>B</td>\n",
       "      <td>AboutRt</td>\n",
       "      <td>No</td>\n",
       "      <td>0.0</td>\n",
       "      <td>0</td>\n",
       "      <td>1</td>\n",
       "      <td>0</td>\n",
       "    </tr>\n",
       "    <tr>\n",
       "      <th>8</th>\n",
       "      <td>Male</td>\n",
       "      <td>72.0</td>\n",
       "      <td>3.77</td>\n",
       "      <td>3.09</td>\n",
       "      <td>M</td>\n",
       "      <td>UnderWt</td>\n",
       "      <td>No</td>\n",
       "      <td>0.5</td>\n",
       "      <td>-1</td>\n",
       "      <td>1</td>\n",
       "      <td>0</td>\n",
       "    </tr>\n",
       "    <tr>\n",
       "      <th>9</th>\n",
       "      <td>Female</td>\n",
       "      <td>63.0</td>\n",
       "      <td>3.50</td>\n",
       "      <td>4.00</td>\n",
       "      <td>F</td>\n",
       "      <td>AboutRt</td>\n",
       "      <td>No</td>\n",
       "      <td>1.0</td>\n",
       "      <td>0</td>\n",
       "      <td>0</td>\n",
       "      <td>0</td>\n",
       "    </tr>\n",
       "    <tr>\n",
       "      <th>10</th>\n",
       "      <td>Male</td>\n",
       "      <td>68.5</td>\n",
       "      <td>3.00</td>\n",
       "      <td>3.43</td>\n",
       "      <td>F</td>\n",
       "      <td>OverWt</td>\n",
       "      <td>No</td>\n",
       "      <td>1.0</td>\n",
       "      <td>1</td>\n",
       "      <td>1</td>\n",
       "      <td>0</td>\n",
       "    </tr>\n",
       "    <tr>\n",
       "      <th>11</th>\n",
       "      <td>Male</td>\n",
       "      <td>70.0</td>\n",
       "      <td>3.00</td>\n",
       "      <td>3.62</td>\n",
       "      <td>M</td>\n",
       "      <td>AboutRt</td>\n",
       "      <td>No</td>\n",
       "      <td>0.5</td>\n",
       "      <td>0</td>\n",
       "      <td>1</td>\n",
       "      <td>0</td>\n",
       "    </tr>\n",
       "    <tr>\n",
       "      <th>12</th>\n",
       "      <td>Male</td>\n",
       "      <td>71.0</td>\n",
       "      <td>3.50</td>\n",
       "      <td>3.49</td>\n",
       "      <td>F</td>\n",
       "      <td>AboutRt</td>\n",
       "      <td>No</td>\n",
       "      <td>1.0</td>\n",
       "      <td>0</td>\n",
       "      <td>1</td>\n",
       "      <td>0</td>\n",
       "    </tr>\n",
       "    <tr>\n",
       "      <th>13</th>\n",
       "      <td>Male</td>\n",
       "      <td>68.0</td>\n",
       "      <td>3.25</td>\n",
       "      <td>3.09</td>\n",
       "      <td>M</td>\n",
       "      <td>UnderWt</td>\n",
       "      <td>No</td>\n",
       "      <td>0.5</td>\n",
       "      <td>-1</td>\n",
       "      <td>1</td>\n",
       "      <td>0</td>\n",
       "    </tr>\n",
       "    <tr>\n",
       "      <th>14</th>\n",
       "      <td>Female</td>\n",
       "      <td>60.0</td>\n",
       "      <td>2.83</td>\n",
       "      <td>3.22</td>\n",
       "      <td>M</td>\n",
       "      <td>AboutRt</td>\n",
       "      <td>No</td>\n",
       "      <td>0.5</td>\n",
       "      <td>0</td>\n",
       "      <td>0</td>\n",
       "      <td>0</td>\n",
       "    </tr>\n",
       "    <tr>\n",
       "      <th>15</th>\n",
       "      <td>Male</td>\n",
       "      <td>71.0</td>\n",
       "      <td>2.62</td>\n",
       "      <td>2.52</td>\n",
       "      <td>F</td>\n",
       "      <td>OverWt</td>\n",
       "      <td>No</td>\n",
       "      <td>1.0</td>\n",
       "      <td>1</td>\n",
       "      <td>1</td>\n",
       "      <td>0</td>\n",
       "    </tr>\n",
       "    <tr>\n",
       "      <th>16</th>\n",
       "      <td>Female</td>\n",
       "      <td>68.0</td>\n",
       "      <td>3.15</td>\n",
       "      <td>2.36</td>\n",
       "      <td>M</td>\n",
       "      <td>AboutRt</td>\n",
       "      <td>No</td>\n",
       "      <td>0.5</td>\n",
       "      <td>0</td>\n",
       "      <td>0</td>\n",
       "      <td>0</td>\n",
       "    </tr>\n",
       "    <tr>\n",
       "      <th>17</th>\n",
       "      <td>Female</td>\n",
       "      <td>67.0</td>\n",
       "      <td>4.20</td>\n",
       "      <td>4.00</td>\n",
       "      <td>M</td>\n",
       "      <td>AboutRt</td>\n",
       "      <td>Yes</td>\n",
       "      <td>0.5</td>\n",
       "      <td>0</td>\n",
       "      <td>0</td>\n",
       "      <td>1</td>\n",
       "    </tr>\n",
       "    <tr>\n",
       "      <th>18</th>\n",
       "      <td>Female</td>\n",
       "      <td>66.0</td>\n",
       "      <td>3.70</td>\n",
       "      <td>4.00</td>\n",
       "      <td>F</td>\n",
       "      <td>OverWt</td>\n",
       "      <td>Yes</td>\n",
       "      <td>1.0</td>\n",
       "      <td>1</td>\n",
       "      <td>0</td>\n",
       "      <td>1</td>\n",
       "    </tr>\n",
       "    <tr>\n",
       "      <th>19</th>\n",
       "      <td>Male</td>\n",
       "      <td>69.0</td>\n",
       "      <td>4.38</td>\n",
       "      <td>4.00</td>\n",
       "      <td>M</td>\n",
       "      <td>UnderWt</td>\n",
       "      <td>No</td>\n",
       "      <td>0.5</td>\n",
       "      <td>-1</td>\n",
       "      <td>1</td>\n",
       "      <td>0</td>\n",
       "    </tr>\n",
       "  </tbody>\n",
       "</table>\n",
       "</div>"
      ],
      "text/plain": [
       "    Gender  Height   GPA  HS_GPA Seat   WtFeel Cheat  SeatNum  WtFeelNum  \\\n",
       "0   Female    64.0  2.60    2.63    M  AboutRt    No      0.5          0   \n",
       "1     Male    69.0  2.70    3.72    M  AboutRt    No      0.5          0   \n",
       "2   Female    66.0  3.00    3.44    F  AboutRt    No      1.0          0   \n",
       "3   Female    63.0  3.11    2.73    F  AboutRt    No      1.0          0   \n",
       "4     Male    72.0  3.40    2.35    B   OverWt    No      0.0          1   \n",
       "5   Female    67.0  3.43    3.84    M  AboutRt    No      0.5          0   \n",
       "6     Male    69.0  3.70    4.00    F  AboutRt    No      1.0          0   \n",
       "7     Male    74.0  3.70    3.92    B  AboutRt    No      0.0          0   \n",
       "8     Male    72.0  3.77    3.09    M  UnderWt    No      0.5         -1   \n",
       "9   Female    63.0  3.50    4.00    F  AboutRt    No      1.0          0   \n",
       "10    Male    68.5  3.00    3.43    F   OverWt    No      1.0          1   \n",
       "11    Male    70.0  3.00    3.62    M  AboutRt    No      0.5          0   \n",
       "12    Male    71.0  3.50    3.49    F  AboutRt    No      1.0          0   \n",
       "13    Male    68.0  3.25    3.09    M  UnderWt    No      0.5         -1   \n",
       "14  Female    60.0  2.83    3.22    M  AboutRt    No      0.5          0   \n",
       "15    Male    71.0  2.62    2.52    F   OverWt    No      1.0          1   \n",
       "16  Female    68.0  3.15    2.36    M  AboutRt    No      0.5          0   \n",
       "17  Female    67.0  4.20    4.00    M  AboutRt   Yes      0.5          0   \n",
       "18  Female    66.0  3.70    4.00    F   OverWt   Yes      1.0          1   \n",
       "19    Male    69.0  4.38    4.00    M  UnderWt    No      0.5         -1   \n",
       "\n",
       "    GenderNum  CheatNum  \n",
       "0           0         0  \n",
       "1           1         0  \n",
       "2           0         0  \n",
       "3           0         0  \n",
       "4           1         0  \n",
       "5           0         0  \n",
       "6           1         0  \n",
       "7           1         0  \n",
       "8           1         0  \n",
       "9           0         0  \n",
       "10          1         0  \n",
       "11          1         0  \n",
       "12          1         0  \n",
       "13          1         0  \n",
       "14          0         0  \n",
       "15          1         0  \n",
       "16          0         0  \n",
       "17          0         1  \n",
       "18          0         1  \n",
       "19          1         0  "
      ]
     },
     "execution_count": 9,
     "metadata": {},
     "output_type": "execute_result"
    }
   ],
   "source": [
    "BI.head(20)"
   ]
  },
  {
   "cell_type": "markdown",
   "metadata": {},
   "source": [
    "# Predicting if a peron will cheat\n",
    "## Based on:\n",
    "* Gender\n",
    "* Height\n",
    "* College GPA\n",
    "* HS GPA\n",
    "* Where they sit in class\n",
    "* How they feel about their weight"
   ]
  },
  {
   "cell_type": "markdown",
   "metadata": {},
   "source": [
    "# SVC"
   ]
  },
  {
   "cell_type": "code",
   "execution_count": 58,
   "metadata": {
    "collapsed": false
   },
   "outputs": [],
   "source": [
    "data = BI.as_matrix(columns=[\"GenderNum\",\"Height\",\"GPA\",\"HS_GPA\",\"SeatNum\",\"WtFeelNum\"])\n",
    "target = BI.as_matrix(columns=[\"CheatNum\"])\n"
   ]
  },
  {
   "cell_type": "code",
   "execution_count": 59,
   "metadata": {
    "collapsed": false,
    "scrolled": true
   },
   "outputs": [],
   "source": [
    "Xtrain, Xtest, ytrain, ytest = train_test_split(data, target, test_size = 0.3)"
   ]
  },
  {
   "cell_type": "code",
   "execution_count": 60,
   "metadata": {
    "collapsed": false
   },
   "outputs": [
    {
     "data": {
      "text/plain": [
       "SVC(C=1.0, cache_size=200, class_weight=None, coef0=0.0, degree=3, gamma=0.0,\n",
       "  kernel='rbf', max_iter=-1, probability=False, random_state=None,\n",
       "  shrinking=True, tol=0.001, verbose=False)"
      ]
     },
     "execution_count": 60,
     "metadata": {},
     "output_type": "execute_result"
    }
   ],
   "source": [
    "cls = SVC()\n",
    "cls.fit(Xtrain, ytrain.ravel())"
   ]
  },
  {
   "cell_type": "code",
   "execution_count": 61,
   "metadata": {
    "collapsed": false
   },
   "outputs": [
    {
     "name": "stdout",
     "output_type": "stream",
     "text": [
      "[0]\n"
     ]
    }
   ],
   "source": [
    "result = cls.predict([[1,71,3.8,3.67,1,1]])\n",
    "print(result)"
   ]
  },
  {
   "cell_type": "code",
   "execution_count": 62,
   "metadata": {
    "collapsed": false,
    "scrolled": true
   },
   "outputs": [
    {
     "name": "stdout",
     "output_type": "stream",
     "text": [
      "             precision    recall  f1-score   support\n",
      "\n",
      "          0       0.90      1.00      0.95        62\n",
      "          1       0.00      0.00      0.00         7\n",
      "\n",
      "avg / total       0.81      0.90      0.85        69\n",
      "\n"
     ]
    },
    {
     "name": "stderr",
     "output_type": "stream",
     "text": [
      "/Users/schabl01/.virtualenvs/Jupyter/lib/python3.4/site-packages/sklearn/metrics/classification.py:958: UndefinedMetricWarning: Precision and F-score are ill-defined and being set to 0.0 in labels with no predicted samples.\n",
      "  'precision', 'predicted', average, warn_for)\n"
     ]
    }
   ],
   "source": [
    "ypred = cls.predict(Xtest)\n",
    "print(classification_report(ytest, ypred))"
   ]
  },
  {
   "cell_type": "code",
   "execution_count": 63,
   "metadata": {
    "collapsed": false
   },
   "outputs": [
    {
     "name": "stdout",
     "output_type": "stream",
     "text": [
      "[[62  0]\n",
      " [ 7  0]]\n"
     ]
    },
    {
     "data": {
      "text/plain": [
       "<matplotlib.text.Text at 0x10b3b0550>"
      ]
     },
     "execution_count": 63,
     "metadata": {},
     "output_type": "execute_result"
    },
    {
     "data": {
      "image/png": "[encoded data removed]",
      "text/plain": [
       "<matplotlib.figure.Figure at 0x10b1d0fd0>"
      ]
     },
     "metadata": {},
     "output_type": "display_data"
    }
   ],
   "source": [
    "print(confusion_matrix(ytest, ypred))\n",
    "plt.imshow(np.log(confusion_matrix(ytest, ypred)), cmap=\"Blues\")\n",
    "plt.grid(False)\n",
    "plt.ylabel('true')\n",
    "plt.xlabel('predicted')"
   ]
  },
  {
   "cell_type": "markdown",
   "metadata": {},
   "source": [
    "# Perceptron"
   ]
  },
  {
   "cell_type": "code",
   "execution_count": 64,
   "metadata": {
    "collapsed": false
   },
   "outputs": [
    {
     "name": "stdout",
     "output_type": "stream",
     "text": [
      "[0]\n"
     ]
    }
   ],
   "source": [
    "data = BI.as_matrix(columns=[\"GenderNum\",\"Height\",\"GPA\",\"HS_GPA\",\"SeatNum\",\"WtFeelNum\"])\n",
    "target = BI.as_matrix(columns=[\"CheatNum\"])\n",
    "\n",
    "Xtrain, Xtest, ytrain, ytest = train_test_split(data, target, test_size = 0.3)\n",
    "\n",
    "cls = Perceptron()\n",
    "cls.fit(Xtrain, ytrain.ravel())\n",
    "\n",
    "result = cls.predict([[1,71,3.8,3.67,1,1]])\n",
    "print(result)"
   ]
  },
  {
   "cell_type": "code",
   "execution_count": 65,
   "metadata": {
    "collapsed": false
   },
   "outputs": [
    {
     "name": "stdout",
     "output_type": "stream",
     "text": [
      "             precision    recall  f1-score   support\n",
      "\n",
      "          0       0.96      1.00      0.98        66\n",
      "          1       0.00      0.00      0.00         3\n",
      "\n",
      "avg / total       0.91      0.96      0.94        69\n",
      "\n"
     ]
    },
    {
     "name": "stderr",
     "output_type": "stream",
     "text": [
      "/Users/schabl01/.virtualenvs/Jupyter/lib/python3.4/site-packages/sklearn/metrics/classification.py:958: UndefinedMetricWarning: Precision and F-score are ill-defined and being set to 0.0 in labels with no predicted samples.\n",
      "  'precision', 'predicted', average, warn_for)\n"
     ]
    }
   ],
   "source": [
    "ypred = cls.predict(Xtest)\n",
    "print(classification_report(ytest, ypred))"
   ]
  },
  {
   "cell_type": "code",
   "execution_count": 66,
   "metadata": {
    "collapsed": false
   },
   "outputs": [
    {
     "name": "stdout",
     "output_type": "stream",
     "text": [
      "[[66  0]\n",
      " [ 3  0]]\n"
     ]
    },
    {
     "data": {
      "text/plain": [
       "<matplotlib.text.Text at 0x10b52ef28>"
      ]
     },
     "execution_count": 66,
     "metadata": {},
     "output_type": "execute_result"
    },
    {
     "data": {
      "image/png": "[encoded data removed]",
      "text/plain": [
       "<matplotlib.figure.Figure at 0x10b3f2748>"
      ]
     },
     "metadata": {},
     "output_type": "display_data"
    }
   ],
   "source": [
    "print(confusion_matrix(ytest, ypred))\n",
    "plt.imshow(np.log(confusion_matrix(ytest, ypred)), cmap=\"Blues\", interpolation = \"nearest\")\n",
    "plt.grid(False)\n",
    "plt.ylabel('true')\n",
    "plt.xlabel('predicted')"
   ]
  },
  {
   "cell_type": "code",
   "execution_count": 67,
   "metadata": {
    "collapsed": false
   },
   "outputs": [
    {
     "name": "stdout",
     "output_type": "stream",
     "text": [
      "[[66  0]\n",
      " [ 3  0]]\n"
     ]
    },
    {
     "data": {
      "text/plain": [
       "<matplotlib.text.Text at 0x10b4185f8>"
      ]
     },
     "execution_count": 67,
     "metadata": {},
     "output_type": "execute_result"
    },
    {
     "data": {
      "image/png": "[encoded data removed]",
      "text/plain": [
       "<matplotlib.figure.Figure at 0x10b5be2b0>"
      ]
     },
     "metadata": {},
     "output_type": "display_data"
    }
   ],
   "source": [
    "print(confusion_matrix(ytest, ypred))\n",
    "plt.imshow(np.log(confusion_matrix(ytest, ypred)), cmap=\"Blues\")\n",
    "plt.grid(False)\n",
    "plt.ylabel('true')\n",
    "plt.xlabel('predicted')"
   ]
  },
  {
   "cell_type": "markdown",
   "metadata": {
    "collapsed": true
   },
   "source": [
    "# Linear Regression"
   ]
  },
  {
   "cell_type": "code",
   "execution_count": 70,
   "metadata": {
    "collapsed": false
   },
   "outputs": [
    {
     "name": "stdout",
     "output_type": "stream",
     "text": [
      "[ 0.16664884]\n"
     ]
    }
   ],
   "source": [
    "data = BI.as_matrix(columns=[\"GenderNum\",\"Height\",\"GPA\",\"HS_GPA\",\"SeatNum\",\"WtFeelNum\"])\n",
    "target = BI.as_matrix(columns=[\"CheatNum\"])\n",
    "\n",
    "Xtrain, Xtest, ytrain, ytest = train_test_split(data, target, test_size = 0.3)\n",
    "\n",
    "cls = LinearRegression()\n",
    "cls.fit(Xtrain, ytrain.ravel())\n",
    "\n",
    "result = cls.predict([[1,71,3.8,3.67,1,1]])\n",
    "print(result)"
   ]
  },
  {
   "cell_type": "code",
   "execution_count": 71,
   "metadata": {
    "collapsed": false
   },
   "outputs": [
    {
     "name": "stdout",
     "output_type": "stream",
     "text": [
      "0.00577127947031\n"
     ]
    }
   ],
   "source": [
    "print (cls.score(Xtest,ytest))"
   ]
  },
  {
   "cell_type": "code",
   "execution_count": 72,
   "metadata": {
    "collapsed": false
   },
   "outputs": [
    {
     "name": "stdout",
     "output_type": "stream",
     "text": [
      "[-0.0299635  -0.00174542  0.09881529 -0.02355758  0.09066535  0.02240086] -0.08157083377\n"
     ]
    }
   ],
   "source": [
    "print(cls.coef_,cls.intercept_)"
   ]
  },
  {
   "cell_type": "code",
   "execution_count": 73,
   "metadata": {
    "collapsed": false
   },
   "outputs": [
    {
     "name": "stdout",
     "output_type": "stream",
     "text": [
      "[[63  0]\n",
      " [ 6  0]]\n"
     ]
    },
    {
     "data": {
      "text/plain": [
       "<matplotlib.text.Text at 0x10b5b7710>"
      ]
     },
     "execution_count": 73,
     "metadata": {},
     "output_type": "execute_result"
    },
    {
     "data": {
      "image/png": "[encoded data removed]",
      "text/plain": [
       "<matplotlib.figure.Figure at 0x10b8d15f8>"
      ]
     },
     "metadata": {},
     "output_type": "display_data"
    }
   ],
   "source": [
    "print(confusion_matrix(ytest, ypred))\n",
    "plt.imshow(np.log(confusion_matrix(ytest, ypred)), cmap=\"Blues\")\n",
    "plt.grid(False)\n",
    "plt.ylabel('true')\n",
    "plt.xlabel('predicted')"
   ]
  },
  {
   "cell_type": "markdown",
   "metadata": {},
   "source": [
    "# Decision Tree"
   ]
  },
  {
   "cell_type": "code",
   "execution_count": 78,
   "metadata": {
    "collapsed": false,
    "scrolled": true
   },
   "outputs": [
    {
     "name": "stdout",
     "output_type": "stream",
     "text": [
      "[0]\n"
     ]
    }
   ],
   "source": [
    "data = BI.as_matrix(columns=[\"GenderNum\",\"Height\",\"GPA\",\"HS_GPA\",\"SeatNum\",\"WtFeelNum\"])\n",
    "target = BI.as_matrix(columns=[\"CheatNum\"])\n",
    "\n",
    "Xtrain, Xtest, ytrain, ytest = train_test_split(data, target, test_size = 0.3)\n",
    "\n",
    "cls = DecisionTreeClassifier()\n",
    "cls.fit(Xtrain, ytrain.ravel())\n",
    "\n",
    "result = cls.predict([[1,71,3.8,3.67,1,1]])\n",
    "print(result)"
   ]
  },
  {
   "cell_type": "code",
   "execution_count": 79,
   "metadata": {
    "collapsed": false
   },
   "outputs": [
    {
     "name": "stdout",
     "output_type": "stream",
     "text": [
      "             precision    recall  f1-score   support\n",
      "\n",
      "          0       1.00      0.82      0.90        68\n",
      "          1       0.08      1.00      0.14         1\n",
      "\n",
      "avg / total       0.99      0.83      0.89        69\n",
      "\n"
     ]
    }
   ],
   "source": [
    "ypred = cls.predict(Xtest)\n",
    "print(classification_report(ytest, ypred))"
   ]
  },
  {
   "cell_type": "code",
   "execution_count": 80,
   "metadata": {
    "collapsed": false
   },
   "outputs": [
    {
     "name": "stdout",
     "output_type": "stream",
     "text": [
      "[[56 12]\n",
      " [ 0  1]]\n"
     ]
    },
    {
     "data": {
      "text/plain": [
       "<matplotlib.text.Text at 0x10b8d5dd8>"
      ]
     },
     "execution_count": 80,
     "metadata": {},
     "output_type": "execute_result"
    },
    {
     "data": {
      "image/png": "[encoded data removed]",
      "text/plain": [
       "<matplotlib.figure.Figure at 0x10b59d2b0>"
      ]
     },
     "metadata": {},
     "output_type": "display_data"
    }
   ],
   "source": [
    "print(confusion_matrix(ytest, ypred))\n",
    "plt.imshow(np.log(confusion_matrix(ytest, ypred)), cmap=\"Blues\")\n",
    "plt.grid(False)\n",
    "plt.ylabel('true')\n",
    "plt.xlabel('predicted')"
   ]
  },
  {
   "cell_type": "code",
   "execution_count": 81,
   "metadata": {
    "collapsed": false
   },
   "outputs": [
    {
     "name": "stdout",
     "output_type": "stream",
     "text": [
      "[[56 12]\n",
      " [ 0  1]]\n"
     ]
    },
    {
     "data": {
      "text/plain": [
       "<matplotlib.text.Text at 0x10bb3fa20>"
      ]
     },
     "execution_count": 81,
     "metadata": {},
     "output_type": "execute_result"
    },
    {
     "data": {
      "image/png": "[encoded data removed]",
      "text/plain": [
       "<matplotlib.figure.Figure at 0x10ba285c0>"
      ]
     },
     "metadata": {},
     "output_type": "display_data"
    }
   ],
   "source": [
    "print(confusion_matrix(ytest, ypred))\n",
    "plt.imshow(np.log(confusion_matrix(ytest, ypred)), cmap=\"Blues\", interpolation=\"nearest\")\n",
    "plt.grid(False)\n",
    "plt.ylabel('true')\n",
    "plt.xlabel('predicted')"
   ]
  },
  {
   "cell_type": "markdown",
   "metadata": {},
   "source": [
    "# Random Forest"
   ]
  },
  {
   "cell_type": "code",
   "execution_count": 90,
   "metadata": {
    "collapsed": false
   },
   "outputs": [
    {
     "name": "stdout",
     "output_type": "stream",
     "text": [
      "[0]\n"
     ]
    }
   ],
   "source": [
    "data = BI.as_matrix(columns=[\"GenderNum\",\"Height\",\"GPA\",\"HS_GPA\",\"SeatNum\",\"WtFeelNum\"])\n",
    "target = BI.as_matrix(columns=[\"CheatNum\"])\n",
    "\n",
    "Xtrain, Xtest, ytrain, ytest = train_test_split(data, target, test_size = 0.3)\n",
    "\n",
    "cls = RandomForestClassifier()\n",
    "cls.fit(Xtrain, ytrain.ravel())\n",
    "\n",
    "result = cls.predict([[1,71,3.8,3.67,1,1]])\n",
    "print(result)"
   ]
  },
  {
   "cell_type": "code",
   "execution_count": 91,
   "metadata": {
    "collapsed": false
   },
   "outputs": [
    {
     "name": "stdout",
     "output_type": "stream",
     "text": [
      "             precision    recall  f1-score   support\n",
      "\n",
      "          0       0.97      0.92      0.94        65\n",
      "          1       0.29      0.50      0.36         4\n",
      "\n",
      "avg / total       0.93      0.90      0.91        69\n",
      "\n"
     ]
    }
   ],
   "source": [
    "ypred = cls.predict(Xtest)\n",
    "print(classification_report(ytest, ypred))"
   ]
  },
  {
   "cell_type": "code",
   "execution_count": 92,
   "metadata": {
    "collapsed": false
   },
   "outputs": [
    {
     "name": "stdout",
     "output_type": "stream",
     "text": [
      "[[60  5]\n",
      " [ 2  2]]\n"
     ]
    },
    {
     "data": {
      "text/plain": [
       "<matplotlib.text.Text at 0x10bc64550>"
      ]
     },
     "execution_count": 92,
     "metadata": {},
     "output_type": "execute_result"
    },
    {
     "data": {
      "image/png": "[encoded data removed]",
      "text/plain": [
       "<matplotlib.figure.Figure at 0x10bb39588>"
      ]
     },
     "metadata": {},
     "output_type": "display_data"
    }
   ],
   "source": [
    "print(confusion_matrix(ytest, ypred))\n",
    "plt.imshow(np.log(confusion_matrix(ytest, ypred)), cmap=\"Blues\")\n",
    "plt.grid(False)\n",
    "plt.ylabel('true')\n",
    "plt.xlabel('predicted')"
   ]
  },
  {
   "cell_type": "code",
   "execution_count": 93,
   "metadata": {
    "collapsed": false
   },
   "outputs": [
    {
     "name": "stdout",
     "output_type": "stream",
     "text": [
      "[[60  5]\n",
      " [ 2  2]]\n"
     ]
    },
    {
     "data": {
      "text/plain": [
       "<matplotlib.text.Text at 0x10bd9bba8>"
      ]
     },
     "execution_count": 93,
     "metadata": {},
     "output_type": "execute_result"
    },
    {
     "data": {
      "image/png": "[encoded data removed]",
      "text/plain": [
       "<matplotlib.figure.Figure at 0x10b7a82e8>"
      ]
     },
     "metadata": {},
     "output_type": "display_data"
    }
   ],
   "source": [
    "print(confusion_matrix(ytest, ypred))\n",
    "plt.imshow(np.log(confusion_matrix(ytest, ypred)), cmap=\"Blues\", interpolation=\"nearest\")\n",
    "plt.grid(False)\n",
    "plt.ylabel('true')\n",
    "plt.xlabel('predicted')"
   ]
  },
  {
   "cell_type": "code",
   "execution_count": 24,
   "metadata": {
    "collapsed": false
   },
   "outputs": [],
   "source": [
    "# for base in range(1,4):\n",
    "#     for point in range(10):\n",
    "#         GPA = float(str(base) + \".\" + str(point))\n",
    "#         for base2 in range(1,4):\n",
    "#             for point2 in range(10):\n",
    "#                 HSGPA = float(str(base2) + \".\" + str(point2))\n",
    "#                 for height in range(55,81):\n",
    "#                     for seat in range(3):\n",
    "#                         seatNum = seat/2\n",
    "#                         for wtFeel in range(-1,2,1):\n",
    "#                             for gender in range(2):\n",
    "#                                 res = cls.predict([gender, height, GPA, HSGPA, seatNum, wtFeel])\n",
    "#                                 print(gender, height, GPA, HSGPA, seatNum, wtFeel, res)\n",
    "                "
   ]
  },
  {
   "cell_type": "code",
   "execution_count": null,
   "metadata": {
    "collapsed": false
   },
   "outputs": [],
   "source": []
  },
  {
   "cell_type": "markdown",
   "metadata": {
    "collapsed": true
   },
   "source": [
    "# Predicting male or female\n",
    "## Based on:\n",
    "* College GPA\n",
    "* HS GPA\n",
    "* Where they sit in class"
   ]
  },
  {
   "cell_type": "markdown",
   "metadata": {},
   "source": [
    "# SVC"
   ]
  },
  {
   "cell_type": "code",
   "execution_count": 118,
   "metadata": {
    "collapsed": false
   },
   "outputs": [
    {
     "name": "stdout",
     "output_type": "stream",
     "text": [
      "[0]\n"
     ]
    }
   ],
   "source": [
    "data = BI.as_matrix(columns=[\"GPA\",\"HS_GPA\",\"SeatNum\"])\n",
    "target = BI.as_matrix(columns=[\"GenderNum\"])\n",
    "\n",
    "Xtrain, Xtest, ytrain, ytest = train_test_split(data, target, test_size = 0.3)\n",
    "\n",
    "cls = SVC()\n",
    "cls.fit(Xtrain, ytrain.ravel())\n",
    "\n",
    "result = cls.predict([[3.8, 3.6, 1]])\n",
    "print(result)"
   ]
  },
  {
   "cell_type": "code",
   "execution_count": 119,
   "metadata": {
    "collapsed": false
   },
   "outputs": [
    {
     "name": "stdout",
     "output_type": "stream",
     "text": [
      "             precision    recall  f1-score   support\n",
      "\n",
      "          0       0.73      0.98      0.84        48\n",
      "          1       0.80      0.19      0.31        21\n",
      "\n",
      "avg / total       0.75      0.74      0.68        69\n",
      "\n"
     ]
    }
   ],
   "source": [
    "ypred = cls.predict(Xtest)\n",
    "print(classification_report(ytest, ypred))"
   ]
  },
  {
   "cell_type": "code",
   "execution_count": 120,
   "metadata": {
    "collapsed": false
   },
   "outputs": [
    {
     "name": "stdout",
     "output_type": "stream",
     "text": [
      "[[47  1]\n",
      " [17  4]]\n"
     ]
    },
    {
     "data": {
      "text/plain": [
       "<matplotlib.text.Text at 0x10bc3d4e0>"
      ]
     },
     "execution_count": 120,
     "metadata": {},
     "output_type": "execute_result"
    },
    {
     "data": {
      "image/png": "[encoded data removed]",
      "text/plain": [
       "<matplotlib.figure.Figure at 0x10bdb8f60>"
      ]
     },
     "metadata": {},
     "output_type": "display_data"
    }
   ],
   "source": [
    "print(confusion_matrix(ytest, ypred))\n",
    "plt.imshow(np.log(confusion_matrix(ytest, ypred)), cmap=\"Blues\")\n",
    "plt.grid(False)\n",
    "plt.ylabel('true')\n",
    "plt.xlabel('predicted')"
   ]
  },
  {
   "cell_type": "code",
   "execution_count": 123,
   "metadata": {
    "collapsed": false
   },
   "outputs": [
    {
     "name": "stdout",
     "output_type": "stream",
     "text": [
      "[[47  1]\n",
      " [17  4]]\n"
     ]
    },
    {
     "data": {
      "text/plain": [
       "<matplotlib.text.Text at 0x10bb36eb8>"
      ]
     },
     "execution_count": 123,
     "metadata": {},
     "output_type": "execute_result"
    },
    {
     "data": {
      "image/png": "[encoded data removed]",
      "text/plain": [
       "<matplotlib.figure.Figure at 0x10c279be0>"
      ]
     },
     "metadata": {},
     "output_type": "display_data"
    }
   ],
   "source": [
    "print(confusion_matrix(ytest, ypred))\n",
    "plt.imshow(np.log(confusion_matrix(ytest, ypred)), cmap=\"Blues\", interpolation=\"nearest\")\n",
    "plt.grid(False)\n",
    "plt.ylabel('true')\n",
    "plt.xlabel('predicted')"
   ]
  },
  {
   "cell_type": "markdown",
   "metadata": {},
   "source": [
    "# Perceptron"
   ]
  },
  {
   "cell_type": "code",
   "execution_count": 134,
   "metadata": {
    "collapsed": false
   },
   "outputs": [
    {
     "name": "stdout",
     "output_type": "stream",
     "text": [
      "[0]\n"
     ]
    }
   ],
   "source": [
    "data = BI.as_matrix(columns=[\"GPA\",\"HS_GPA\",\"SeatNum\"])\n",
    "target = BI.as_matrix(columns=[\"GenderNum\"])\n",
    "\n",
    "Xtrain, Xtest, ytrain, ytest = train_test_split(data, target, test_size = 0.3)\n",
    "\n",
    "cls = Perceptron()\n",
    "cls.fit(Xtrain, ytrain.ravel())\n",
    "\n",
    "result = cls.predict([[3.8, 3.6, 1]])\n",
    "print(result)"
   ]
  },
  {
   "cell_type": "code",
   "execution_count": 135,
   "metadata": {
    "collapsed": false
   },
   "outputs": [
    {
     "name": "stdout",
     "output_type": "stream",
     "text": [
      "             precision    recall  f1-score   support\n",
      "\n",
      "          0       0.65      1.00      0.79        44\n",
      "          1       1.00      0.04      0.08        25\n",
      "\n",
      "avg / total       0.77      0.65      0.53        69\n",
      "\n"
     ]
    }
   ],
   "source": [
    "ypred = cls.predict(Xtest)\n",
    "print(classification_report(ytest, ypred))"
   ]
  },
  {
   "cell_type": "code",
   "execution_count": 136,
   "metadata": {
    "collapsed": false
   },
   "outputs": [
    {
     "name": "stdout",
     "output_type": "stream",
     "text": [
      "[[44  0]\n",
      " [24  1]]\n"
     ]
    },
    {
     "data": {
      "text/plain": [
       "<matplotlib.text.Text at 0x10c351b70>"
      ]
     },
     "execution_count": 136,
     "metadata": {},
     "output_type": "execute_result"
    },
    {
     "data": {
      "image/png": "[encoded data removed]",
      "text/plain": [
       "<matplotlib.figure.Figure at 0x10c502390>"
      ]
     },
     "metadata": {},
     "output_type": "display_data"
    }
   ],
   "source": [
    "print(confusion_matrix(ytest, ypred))\n",
    "plt.imshow(np.log(confusion_matrix(ytest, ypred)), cmap=\"Blues\")\n",
    "plt.grid(False)\n",
    "plt.ylabel('true')\n",
    "plt.xlabel('predicted')"
   ]
  },
  {
   "cell_type": "markdown",
   "metadata": {},
   "source": [
    "# Linear Regression"
   ]
  },
  {
   "cell_type": "code",
   "execution_count": 141,
   "metadata": {
    "collapsed": false
   },
   "outputs": [
    {
     "name": "stdout",
     "output_type": "stream",
     "text": [
      "[ 0.22037622]\n"
     ]
    }
   ],
   "source": [
    "data = BI.as_matrix(columns=[\"GPA\",\"HS_GPA\",\"SeatNum\"])\n",
    "target = BI.as_matrix(columns=[\"GenderNum\"])\n",
    "\n",
    "Xtrain, Xtest, ytrain, ytest = train_test_split(data, target, test_size = 0.3)\n",
    "\n",
    "cls = LinearRegression()\n",
    "cls.fit(Xtrain, ytrain.ravel())\n",
    "\n",
    "result = cls.predict([[3.8, 3.6, 1]])\n",
    "print(result)"
   ]
  },
  {
   "cell_type": "code",
   "execution_count": 142,
   "metadata": {
    "collapsed": false
   },
   "outputs": [
    {
     "name": "stdout",
     "output_type": "stream",
     "text": [
      "-0.0131254923787\n",
      "[-0.12703723 -0.02963116 -0.11107471] 0.920864585104\n"
     ]
    }
   ],
   "source": [
    "print (cls.score(Xtest,ytest))\n",
    "print(cls.coef_,cls.intercept_)"
   ]
  },
  {
   "cell_type": "code",
   "execution_count": 143,
   "metadata": {
    "collapsed": false
   },
   "outputs": [
    {
     "name": "stdout",
     "output_type": "stream",
     "text": [
      "[[43  1]\n",
      " [25  0]]\n"
     ]
    },
    {
     "data": {
      "text/plain": [
       "<matplotlib.text.Text at 0x10c6686a0>"
      ]
     },
     "execution_count": 143,
     "metadata": {},
     "output_type": "execute_result"
    },
    {
     "data": {
      "image/png": "[encoded data removed]",
      "text/plain": [
       "<matplotlib.figure.Figure at 0x10c5ae128>"
      ]
     },
     "metadata": {},
     "output_type": "display_data"
    }
   ],
   "source": [
    "print(confusion_matrix(ytest, ypred))\n",
    "plt.imshow(np.log(confusion_matrix(ytest, ypred)), cmap=\"Blues\")\n",
    "plt.grid(False)\n",
    "plt.ylabel('true')\n",
    "plt.xlabel('predicted')"
   ]
  },
  {
   "cell_type": "markdown",
   "metadata": {},
   "source": [
    "# Decison Tree"
   ]
  },
  {
   "cell_type": "code",
   "execution_count": 156,
   "metadata": {
    "collapsed": false
   },
   "outputs": [
    {
     "name": "stdout",
     "output_type": "stream",
     "text": [
      "[1]\n"
     ]
    }
   ],
   "source": [
    "data = BI.as_matrix(columns=[\"GPA\",\"HS_GPA\",\"SeatNum\"])\n",
    "target = BI.as_matrix(columns=[\"GenderNum\"])\n",
    "\n",
    "Xtrain, Xtest, ytrain, ytest = train_test_split(data, target, test_size = 0.3)\n",
    "\n",
    "cls = DecisionTreeClassifier()\n",
    "cls.fit(Xtrain, ytrain.ravel())\n",
    "\n",
    "result = cls.predict([[3.8, 3.6, 1]])\n",
    "print(result)"
   ]
  },
  {
   "cell_type": "code",
   "execution_count": 157,
   "metadata": {
    "collapsed": false
   },
   "outputs": [
    {
     "name": "stdout",
     "output_type": "stream",
     "text": [
      "             precision    recall  f1-score   support\n",
      "\n",
      "          0       0.68      0.71      0.70        45\n",
      "          1       0.41      0.38      0.39        24\n",
      "\n",
      "avg / total       0.59      0.59      0.59        69\n",
      "\n"
     ]
    }
   ],
   "source": [
    "ypred = cls.predict(Xtest)\n",
    "print(classification_report(ytest, ypred))"
   ]
  },
  {
   "cell_type": "code",
   "execution_count": 158,
   "metadata": {
    "collapsed": false
   },
   "outputs": [
    {
     "name": "stdout",
     "output_type": "stream",
     "text": [
      "[[32 13]\n",
      " [15  9]]\n"
     ]
    },
    {
     "data": {
      "text/plain": [
       "<matplotlib.text.Text at 0x10c89e550>"
      ]
     },
     "execution_count": 158,
     "metadata": {},
     "output_type": "execute_result"
    },
    {
     "data": {
      "image/png": "[encoded data removed]",
      "text/plain": [
       "<matplotlib.figure.Figure at 0x10c5024a8>"
      ]
     },
     "metadata": {},
     "output_type": "display_data"
    }
   ],
   "source": [
    "print(confusion_matrix(ytest, ypred))\n",
    "plt.imshow(np.log(confusion_matrix(ytest, ypred)), cmap=\"Blues\")\n",
    "plt.grid(False)\n",
    "plt.ylabel('true')\n",
    "plt.xlabel('predicted')"
   ]
  },
  {
   "cell_type": "markdown",
   "metadata": {},
   "source": [
    "# Random Forest"
   ]
  },
  {
   "cell_type": "code",
   "execution_count": 165,
   "metadata": {
    "collapsed": false
   },
   "outputs": [
    {
     "name": "stdout",
     "output_type": "stream",
     "text": [
      "[1]\n"
     ]
    }
   ],
   "source": [
    "data = BI.as_matrix(columns=[\"GPA\",\"HS_GPA\",\"SeatNum\"])\n",
    "target = BI.as_matrix(columns=[\"GenderNum\"])\n",
    "\n",
    "Xtrain, Xtest, ytrain, ytest = train_test_split(data, target, test_size = 0.3)\n",
    "\n",
    "cls = RandomForestClassifier()\n",
    "cls.fit(Xtrain, ytrain.ravel())\n",
    "\n",
    "result = cls.predict([[3.8, 3.6, 1]])\n",
    "print(result)"
   ]
  },
  {
   "cell_type": "code",
   "execution_count": 166,
   "metadata": {
    "collapsed": false
   },
   "outputs": [
    {
     "name": "stdout",
     "output_type": "stream",
     "text": [
      "             precision    recall  f1-score   support\n",
      "\n",
      "          0       0.71      0.69      0.70        51\n",
      "          1       0.20      0.22      0.21        18\n",
      "\n",
      "avg / total       0.58      0.57      0.57        69\n",
      "\n"
     ]
    }
   ],
   "source": [
    "ypred = cls.predict(Xtest)\n",
    "print(classification_report(ytest, ypred))"
   ]
  },
  {
   "cell_type": "code",
   "execution_count": 167,
   "metadata": {
    "collapsed": false
   },
   "outputs": [
    {
     "name": "stdout",
     "output_type": "stream",
     "text": [
      "[[35 16]\n",
      " [14  4]]\n"
     ]
    },
    {
     "data": {
      "text/plain": [
       "<matplotlib.text.Text at 0x10c9ec6a0>"
      ]
     },
     "execution_count": 167,
     "metadata": {},
     "output_type": "execute_result"
    },
    {
     "data": {
      "image/png": "[encoded data removed]",
      "text/plain": [
       "<matplotlib.figure.Figure at 0x10c99f7f0>"
      ]
     },
     "metadata": {},
     "output_type": "display_data"
    }
   ],
   "source": [
    "print(confusion_matrix(ytest, ypred))\n",
    "plt.imshow(np.log(confusion_matrix(ytest, ypred)), cmap=\"Blues\")\n",
    "plt.grid(False)\n",
    "plt.ylabel('true')\n",
    "plt.xlabel('predicted')"
   ]
  },
  {
   "cell_type": "markdown",
   "metadata": {},
   "source": [
    "# Predicting male or female\n",
    "## Based on:\n",
    "* College GPA\n",
    "* How they feel about their weight\n",
    "* Where they sit in class"
   ]
  },
  {
   "cell_type": "markdown",
   "metadata": {},
   "source": [
    "# SVC"
   ]
  },
  {
   "cell_type": "code",
   "execution_count": 174,
   "metadata": {
    "collapsed": false
   },
   "outputs": [
    {
     "name": "stdout",
     "output_type": "stream",
     "text": [
      "[0]\n"
     ]
    }
   ],
   "source": [
    "data = BI.as_matrix(columns=[\"GPA\",\"WtFeelNum\",\"SeatNum\"])\n",
    "target = BI.as_matrix(columns=[\"GenderNum\"])\n",
    "\n",
    "Xtrain, Xtest, ytrain, ytest = train_test_split(data, target, test_size = 0.3)\n",
    "\n",
    "cls = SVC()\n",
    "cls.fit(Xtrain, ytrain.ravel())\n",
    "\n",
    "result = cls.predict([[3.8, 0, 1]])\n",
    "print(result)"
   ]
  },
  {
   "cell_type": "code",
   "execution_count": 175,
   "metadata": {
    "collapsed": false
   },
   "outputs": [
    {
     "name": "stdout",
     "output_type": "stream",
     "text": [
      "             precision    recall  f1-score   support\n",
      "\n",
      "          0       0.81      1.00      0.89        51\n",
      "          1       1.00      0.33      0.50        18\n",
      "\n",
      "avg / total       0.86      0.83      0.79        69\n",
      "\n"
     ]
    }
   ],
   "source": [
    "ypred = cls.predict(Xtest)\n",
    "print(classification_report(ytest, ypred))"
   ]
  },
  {
   "cell_type": "code",
   "execution_count": 176,
   "metadata": {
    "collapsed": false
   },
   "outputs": [
    {
     "name": "stdout",
     "output_type": "stream",
     "text": [
      "[[51  0]\n",
      " [12  6]]\n"
     ]
    },
    {
     "data": {
      "text/plain": [
       "<matplotlib.text.Text at 0x10cc1bcc0>"
      ]
     },
     "execution_count": 176,
     "metadata": {},
     "output_type": "execute_result"
    },
    {
     "data": {
      "image/png": "[encoded data removed]",
      "text/plain": [
       "<matplotlib.figure.Figure at 0x10ca035c0>"
      ]
     },
     "metadata": {},
     "output_type": "display_data"
    }
   ],
   "source": [
    "print(confusion_matrix(ytest, ypred))\n",
    "plt.imshow(np.log(confusion_matrix(ytest, ypred)), cmap=\"Blues\")\n",
    "plt.grid(False)\n",
    "plt.ylabel('true')\n",
    "plt.xlabel('predicted')"
   ]
  },
  {
   "cell_type": "code",
   "execution_count": 177,
   "metadata": {
    "collapsed": false
   },
   "outputs": [
    {
     "name": "stdout",
     "output_type": "stream",
     "text": [
      "0.0 -1 0.0 [1]\n",
      "0.0 0 0.0 [1]\n",
      "0.0 1 0.0 [1]\n",
      "0.0 -1 0.5 [1]\n",
      "0.0 0 0.5 [1]\n",
      "0.0 1 0.5 [1]\n",
      "0.0 -1 1.0 [1]\n",
      "0.0 0 1.0 [1]\n",
      "0.0 1 1.0 [1]\n",
      "0.1 -1 0.0 [1]\n",
      "0.1 0 0.0 [1]\n",
      "0.1 1 0.0 [1]\n",
      "0.1 -1 0.5 [1]\n",
      "0.1 0 0.5 [1]\n",
      "0.1 1 0.5 [1]\n",
      "0.1 -1 1.0 [1]\n",
      "0.1 0 1.0 [1]\n",
      "0.1 1 1.0 [1]\n",
      "0.2 -1 0.0 [1]\n",
      "0.2 0 0.0 [1]\n",
      "0.2 1 0.0 [1]\n",
      "0.2 -1 0.5 [1]\n",
      "0.2 0 0.5 [1]\n",
      "0.2 1 0.5 [1]\n",
      "0.2 -1 1.0 [1]\n",
      "0.2 0 1.0 [1]\n",
      "0.2 1 1.0 [1]\n",
      "0.3 -1 0.0 [1]\n",
      "0.3 0 0.0 [1]\n",
      "0.3 1 0.0 [1]\n",
      "0.3 -1 0.5 [1]\n",
      "0.3 0 0.5 [1]\n",
      "0.3 1 0.5 [1]\n",
      "0.3 -1 1.0 [1]\n",
      "0.3 0 1.0 [1]\n",
      "0.3 1 1.0 [1]\n",
      "0.4 -1 0.0 [1]\n",
      "0.4 0 0.0 [1]\n",
      "0.4 1 0.0 [1]\n",
      "0.4 -1 0.5 [1]\n",
      "0.4 0 0.5 [1]\n",
      "0.4 1 0.5 [1]\n",
      "0.4 -1 1.0 [1]\n",
      "0.4 0 1.0 [1]\n",
      "0.4 1 1.0 [1]\n",
      "0.5 -1 0.0 [1]\n",
      "0.5 0 0.0 [1]\n",
      "0.5 1 0.0 [1]\n",
      "0.5 -1 0.5 [1]\n",
      "0.5 0 0.5 [1]\n",
      "0.5 1 0.5 [1]\n",
      "0.5 -1 1.0 [1]\n",
      "0.5 0 1.0 [1]\n",
      "0.5 1 1.0 [1]\n",
      "0.6 -1 0.0 [1]\n",
      "0.6 0 0.0 [1]\n",
      "0.6 1 0.0 [1]\n",
      "0.6 -1 0.5 [1]\n",
      "0.6 0 0.5 [1]\n",
      "0.6 1 0.5 [1]\n",
      "0.6 -1 1.0 [1]\n",
      "0.6 0 1.0 [1]\n",
      "0.6 1 1.0 [1]\n",
      "0.7 -1 0.0 [1]\n",
      "0.7 0 0.0 [1]\n",
      "0.7 1 0.0 [1]\n",
      "0.7 -1 0.5 [1]\n",
      "0.7 0 0.5 [1]\n",
      "0.7 1 0.5 [1]\n",
      "0.7 -1 1.0 [1]\n",
      "0.7 0 1.0 [1]\n",
      "0.7 1 1.0 [1]\n",
      "0.8 -1 0.0 [1]\n",
      "0.8 0 0.0 [1]\n",
      "0.8 1 0.0 [1]\n",
      "0.8 -1 0.5 [1]\n",
      "0.8 0 0.5 [1]\n",
      "0.8 1 0.5 [1]\n",
      "0.8 -1 1.0 [1]\n",
      "0.8 0 1.0 [1]\n",
      "0.8 1 1.0 [1]\n",
      "0.9 -1 0.0 [1]\n",
      "0.9 0 0.0 [1]\n",
      "0.9 1 0.0 [1]\n",
      "0.9 -1 0.5 [1]\n",
      "0.9 0 0.5 [1]\n",
      "0.9 1 0.5 [1]\n",
      "0.9 -1 1.0 [1]\n",
      "0.9 0 1.0 [1]\n",
      "0.9 1 1.0 [1]\n",
      "1.0 -1 0.0 [1]\n",
      "1.0 0 0.0 [1]\n",
      "1.0 1 0.0 [1]\n",
      "1.0 -1 0.5 [1]\n",
      "1.0 0 0.5 [1]\n",
      "1.0 1 0.5 [1]\n",
      "1.0 -1 1.0 [1]\n",
      "1.0 0 1.0 [1]\n",
      "1.0 1 1.0 [1]\n",
      "1.1 -1 0.0 [1]\n",
      "1.1 0 0.0 [1]\n",
      "1.1 1 0.0 [1]\n",
      "1.1 -1 0.5 [1]\n",
      "1.1 0 0.5 [1]\n",
      "1.1 1 0.5 [1]\n",
      "1.1 -1 1.0 [1]\n",
      "1.1 0 1.0 [0]\n",
      "1.1 1 1.0 [1]\n",
      "1.2 -1 0.0 [1]\n",
      "1.2 0 0.0 [1]\n",
      "1.2 1 0.0 [1]\n",
      "1.2 -1 0.5 [1]\n",
      "1.2 0 0.5 [1]\n",
      "1.2 1 0.5 [1]\n",
      "1.2 -1 1.0 [1]\n",
      "1.2 0 1.0 [0]\n",
      "1.2 1 1.0 [1]\n",
      "1.3 -1 0.0 [1]\n",
      "1.3 0 0.0 [1]\n",
      "1.3 1 0.0 [1]\n",
      "1.3 -1 0.5 [1]\n",
      "1.3 0 0.5 [1]\n",
      "1.3 1 0.5 [1]\n",
      "1.3 -1 1.0 [1]\n",
      "1.3 0 1.0 [0]\n",
      "1.3 1 1.0 [1]\n",
      "1.4 -1 0.0 [1]\n",
      "1.4 0 0.0 [1]\n",
      "1.4 1 0.0 [1]\n",
      "1.4 -1 0.5 [1]\n",
      "1.4 0 0.5 [1]\n",
      "1.4 1 0.5 [1]\n",
      "1.4 -1 1.0 [0]\n",
      "1.4 0 1.0 [0]\n",
      "1.4 1 1.0 [1]\n",
      "1.5 -1 0.0 [1]\n",
      "1.5 0 0.0 [1]\n",
      "1.5 1 0.0 [1]\n",
      "1.5 -1 0.5 [1]\n",
      "1.5 0 0.5 [1]\n",
      "1.5 1 0.5 [1]\n",
      "1.5 -1 1.0 [0]\n",
      "1.5 0 1.0 [0]\n",
      "1.5 1 1.0 [0]\n",
      "1.6 -1 0.0 [1]\n",
      "1.6 0 0.0 [1]\n",
      "1.6 1 0.0 [1]\n",
      "1.6 -1 0.5 [1]\n",
      "1.6 0 0.5 [1]\n",
      "1.6 1 0.5 [1]\n",
      "1.6 -1 1.0 [0]\n",
      "1.6 0 1.0 [0]\n",
      "1.6 1 1.0 [0]\n",
      "1.7 -1 0.0 [1]\n",
      "1.7 0 0.0 [1]\n",
      "1.7 1 0.0 [1]\n",
      "1.7 -1 0.5 [1]\n",
      "1.7 0 0.5 [0]\n",
      "1.7 1 0.5 [1]\n",
      "1.7 -1 1.0 [0]\n",
      "1.7 0 1.0 [0]\n",
      "1.7 1 1.0 [0]\n",
      "1.8 -1 0.0 [1]\n",
      "1.8 0 0.0 [1]\n",
      "1.8 1 0.0 [1]\n",
      "1.8 -1 0.5 [1]\n",
      "1.8 0 0.5 [0]\n",
      "1.8 1 0.5 [1]\n",
      "1.8 -1 1.0 [0]\n",
      "1.8 0 1.0 [0]\n",
      "1.8 1 1.0 [0]\n",
      "1.9 -1 0.0 [1]\n",
      "1.9 0 0.0 [1]\n",
      "1.9 1 0.0 [1]\n",
      "1.9 -1 0.5 [1]\n",
      "1.9 0 0.5 [0]\n",
      "1.9 1 0.5 [0]\n",
      "1.9 -1 1.0 [0]\n",
      "1.9 0 1.0 [0]\n",
      "1.9 1 1.0 [0]\n",
      "2.0 -1 0.0 [1]\n",
      "2.0 0 0.0 [1]\n",
      "2.0 1 0.0 [1]\n",
      "2.0 -1 0.5 [1]\n",
      "2.0 0 0.5 [0]\n",
      "2.0 1 0.5 [0]\n",
      "2.0 -1 1.0 [0]\n",
      "2.0 0 1.0 [0]\n",
      "2.0 1 1.0 [0]\n",
      "2.1 -1 0.0 [1]\n",
      "2.1 0 0.0 [1]\n",
      "2.1 1 0.0 [1]\n",
      "2.1 -1 0.5 [1]\n",
      "2.1 0 0.5 [0]\n",
      "2.1 1 0.5 [0]\n",
      "2.1 -1 1.0 [0]\n",
      "2.1 0 1.0 [0]\n",
      "2.1 1 1.0 [0]\n",
      "2.2 -1 0.0 [1]\n",
      "2.2 0 0.0 [1]\n",
      "2.2 1 0.0 [1]\n",
      "2.2 -1 0.5 [1]\n",
      "2.2 0 0.5 [0]\n",
      "2.2 1 0.5 [0]\n",
      "2.2 -1 1.0 [0]\n",
      "2.2 0 1.0 [0]\n",
      "2.2 1 1.0 [0]\n",
      "2.3 -1 0.0 [1]\n",
      "2.3 0 0.0 [1]\n",
      "2.3 1 0.0 [1]\n",
      "2.3 -1 0.5 [1]\n",
      "2.3 0 0.5 [0]\n",
      "2.3 1 0.5 [0]\n",
      "2.3 -1 1.0 [0]\n",
      "2.3 0 1.0 [0]\n",
      "2.3 1 1.0 [0]\n",
      "2.4 -1 0.0 [1]\n",
      "2.4 0 0.0 [1]\n",
      "2.4 1 0.0 [0]\n",
      "2.4 -1 0.5 [1]\n",
      "2.4 0 0.5 [0]\n",
      "2.4 1 0.5 [0]\n",
      "2.4 -1 1.0 [0]\n",
      "2.4 0 1.0 [0]\n",
      "2.4 1 1.0 [0]\n",
      "2.5 -1 0.0 [1]\n",
      "2.5 0 0.0 [0]\n",
      "2.5 1 0.0 [0]\n",
      "2.5 -1 0.5 [1]\n",
      "2.5 0 0.5 [0]\n",
      "2.5 1 0.5 [0]\n",
      "2.5 -1 1.0 [0]\n",
      "2.5 0 1.0 [0]\n",
      "2.5 1 1.0 [0]\n",
      "2.6 -1 0.0 [1]\n",
      "2.6 0 0.0 [0]\n",
      "2.6 1 0.0 [0]\n",
      "2.6 -1 0.5 [1]\n",
      "2.6 0 0.5 [0]\n",
      "2.6 1 0.5 [0]\n",
      "2.6 -1 1.0 [0]\n",
      "2.6 0 1.0 [0]\n",
      "2.6 1 1.0 [0]\n",
      "2.7 -1 0.0 [1]\n",
      "2.7 0 0.0 [0]\n",
      "2.7 1 0.0 [0]\n",
      "2.7 -1 0.5 [1]\n",
      "2.7 0 0.5 [0]\n",
      "2.7 1 0.5 [0]\n",
      "2.7 -1 1.0 [0]\n",
      "2.7 0 1.0 [0]\n",
      "2.7 1 1.0 [0]\n",
      "2.8 -1 0.0 [1]\n",
      "2.8 0 0.0 [0]\n",
      "2.8 1 0.0 [0]\n",
      "2.8 -1 0.5 [1]\n",
      "2.8 0 0.5 [0]\n",
      "2.8 1 0.5 [0]\n",
      "2.8 -1 1.0 [1]\n",
      "2.8 0 1.0 [0]\n",
      "2.8 1 1.0 [0]\n",
      "2.9 -1 0.0 [1]\n",
      "2.9 0 0.0 [0]\n",
      "2.9 1 0.0 [0]\n",
      "2.9 -1 0.5 [1]\n",
      "2.9 0 0.5 [0]\n",
      "2.9 1 0.5 [0]\n",
      "2.9 -1 1.0 [1]\n",
      "2.9 0 1.0 [0]\n",
      "2.9 1 1.0 [0]\n",
      "3.0 -1 0.0 [1]\n",
      "3.0 0 0.0 [0]\n",
      "3.0 1 0.0 [0]\n",
      "3.0 -1 0.5 [1]\n",
      "3.0 0 0.5 [0]\n",
      "3.0 1 0.5 [0]\n",
      "3.0 -1 1.0 [1]\n",
      "3.0 0 1.0 [0]\n",
      "3.0 1 1.0 [0]\n",
      "3.1 -1 0.0 [1]\n",
      "3.1 0 0.0 [0]\n",
      "3.1 1 0.0 [0]\n",
      "3.1 -1 0.5 [1]\n",
      "3.1 0 0.5 [0]\n",
      "3.1 1 0.5 [0]\n",
      "3.1 -1 1.0 [1]\n",
      "3.1 0 1.0 [0]\n",
      "3.1 1 1.0 [0]\n",
      "3.2 -1 0.0 [1]\n",
      "3.2 0 0.0 [0]\n",
      "3.2 1 0.0 [0]\n",
      "3.2 -1 0.5 [1]\n",
      "3.2 0 0.5 [0]\n",
      "3.2 1 0.5 [0]\n",
      "3.2 -1 1.0 [1]\n",
      "3.2 0 1.0 [0]\n",
      "3.2 1 1.0 [0]\n",
      "3.3 -1 0.0 [1]\n",
      "3.3 0 0.0 [0]\n",
      "3.3 1 0.0 [0]\n",
      "3.3 -1 0.5 [1]\n",
      "3.3 0 0.5 [0]\n",
      "3.3 1 0.5 [0]\n",
      "3.3 -1 1.0 [1]\n",
      "3.3 0 1.0 [0]\n",
      "3.3 1 1.0 [0]\n",
      "3.4 -1 0.0 [1]\n",
      "3.4 0 0.0 [0]\n",
      "3.4 1 0.0 [0]\n",
      "3.4 -1 0.5 [1]\n",
      "3.4 0 0.5 [0]\n",
      "3.4 1 0.5 [0]\n",
      "3.4 -1 1.0 [1]\n",
      "3.4 0 1.0 [0]\n",
      "3.4 1 1.0 [0]\n",
      "3.5 -1 0.0 [1]\n",
      "3.5 0 0.0 [0]\n",
      "3.5 1 0.0 [0]\n",
      "3.5 -1 0.5 [1]\n",
      "3.5 0 0.5 [0]\n",
      "3.5 1 0.5 [0]\n",
      "3.5 -1 1.0 [1]\n",
      "3.5 0 1.0 [0]\n",
      "3.5 1 1.0 [0]\n",
      "3.6 -1 0.0 [1]\n",
      "3.6 0 0.0 [0]\n",
      "3.6 1 0.0 [0]\n",
      "3.6 -1 0.5 [1]\n",
      "3.6 0 0.5 [0]\n",
      "3.6 1 0.5 [0]\n",
      "3.6 -1 1.0 [1]\n",
      "3.6 0 1.0 [0]\n",
      "3.6 1 1.0 [0]\n",
      "3.7 -1 0.0 [1]\n",
      "3.7 0 0.0 [0]\n",
      "3.7 1 0.0 [0]\n",
      "3.7 -1 0.5 [1]\n",
      "3.7 0 0.5 [0]\n",
      "3.7 1 0.5 [0]\n",
      "3.7 -1 1.0 [1]\n",
      "3.7 0 1.0 [0]\n",
      "3.7 1 1.0 [0]\n",
      "3.8 -1 0.0 [1]\n",
      "3.8 0 0.0 [0]\n",
      "3.8 1 0.0 [0]\n",
      "3.8 -1 0.5 [1]\n",
      "3.8 0 0.5 [0]\n",
      "3.8 1 0.5 [0]\n",
      "3.8 -1 1.0 [1]\n",
      "3.8 0 1.0 [0]\n",
      "3.8 1 1.0 [0]\n",
      "3.9 -1 0.0 [1]\n",
      "3.9 0 0.0 [0]\n",
      "3.9 1 0.0 [0]\n",
      "3.9 -1 0.5 [1]\n",
      "3.9 0 0.5 [0]\n",
      "3.9 1 0.5 [0]\n",
      "3.9 -1 1.0 [1]\n",
      "3.9 0 1.0 [0]\n",
      "3.9 1 1.0 [0]\n"
     ]
    }
   ],
   "source": [
    "for base in range(0,4,1):\n",
    "    for point in range(10):\n",
    "        GPA =  float(str(base) + \".\" + str(point))\n",
    "        for seat in range(3):\n",
    "            seatNum = (seat/2)\n",
    "            for wtFeel in range(-1,2,1):\n",
    "                res = cls.predict([GPA, wtFeel, seatNum])\n",
    "                print(GPA, wtFeel, seatNum, res)"
   ]
  },
  {
   "cell_type": "markdown",
   "metadata": {},
   "source": [
    "# Perceptron"
   ]
  },
  {
   "cell_type": "code",
   "execution_count": 200,
   "metadata": {
    "collapsed": false
   },
   "outputs": [
    {
     "name": "stdout",
     "output_type": "stream",
     "text": [
      "[0]\n"
     ]
    }
   ],
   "source": [
    "data = BI.as_matrix(columns=[\"GPA\",\"WtFeelNum\",\"SeatNum\"])\n",
    "target = BI.as_matrix(columns=[\"GenderNum\"])\n",
    "\n",
    "Xtrain, Xtest, ytrain, ytest = train_test_split(data, target, test_size = 0.3)\n",
    "\n",
    "cls = Perceptron()\n",
    "cls.fit(Xtrain, ytrain.ravel())\n",
    "\n",
    "result = cls.predict([[3.8, 0, 1]])\n",
    "print(result)"
   ]
  },
  {
   "cell_type": "code",
   "execution_count": 201,
   "metadata": {
    "collapsed": false
   },
   "outputs": [
    {
     "name": "stdout",
     "output_type": "stream",
     "text": [
      "             precision    recall  f1-score   support\n",
      "\n",
      "          0       0.63      0.93      0.75        42\n",
      "          1       0.57      0.15      0.24        27\n",
      "\n",
      "avg / total       0.61      0.62      0.55        69\n",
      "\n"
     ]
    }
   ],
   "source": [
    "ypred = cls.predict(Xtest)\n",
    "print(classification_report(ytest, ypred))"
   ]
  },
  {
   "cell_type": "code",
   "execution_count": 202,
   "metadata": {
    "collapsed": false
   },
   "outputs": [
    {
     "name": "stdout",
     "output_type": "stream",
     "text": [
      "[[39  3]\n",
      " [23  4]]\n"
     ]
    },
    {
     "data": {
      "text/plain": [
       "<matplotlib.text.Text at 0x10ceeaeb8>"
      ]
     },
     "execution_count": 202,
     "metadata": {},
     "output_type": "execute_result"
    },
    {
     "data": {
      "image/png": "[encoded data removed]",
      "text/plain": [
       "<matplotlib.figure.Figure at 0x10cc3a7b8>"
      ]
     },
     "metadata": {},
     "output_type": "display_data"
    }
   ],
   "source": [
    "print(confusion_matrix(ytest, ypred))\n",
    "plt.imshow(np.log(confusion_matrix(ytest, ypred)), cmap=\"Blues\")\n",
    "plt.grid(False)\n",
    "plt.ylabel('true')\n",
    "plt.xlabel('predicted')"
   ]
  },
  {
   "cell_type": "markdown",
   "metadata": {},
   "source": [
    "# Linear Regression"
   ]
  },
  {
   "cell_type": "code",
   "execution_count": 204,
   "metadata": {
    "collapsed": false
   },
   "outputs": [
    {
     "name": "stdout",
     "output_type": "stream",
     "text": [
      "[ 0.20853868]\n"
     ]
    }
   ],
   "source": [
    "data = BI.as_matrix(columns=[\"GPA\",\"WtFeelNum\",\"SeatNum\"])\n",
    "target = BI.as_matrix(columns=[\"GenderNum\"])\n",
    "\n",
    "Xtrain, Xtest, ytrain, ytest = train_test_split(data, target, test_size = 0.3)\n",
    "\n",
    "cls = LinearRegression()\n",
    "cls.fit(Xtrain, ytrain.ravel())\n",
    "\n",
    "result = cls.predict([[3.8, 0, 1]])\n",
    "print(result)"
   ]
  },
  {
   "cell_type": "code",
   "execution_count": 205,
   "metadata": {
    "collapsed": false
   },
   "outputs": [
    {
     "name": "stdout",
     "output_type": "stream",
     "text": [
      "0.0074747392982\n",
      "[-0.12807537 -0.14437494 -0.22816654] 0.923391626312\n"
     ]
    }
   ],
   "source": [
    "print (cls.score(Xtest,ytest))\n",
    "print(cls.coef_,cls.intercept_)"
   ]
  },
  {
   "cell_type": "code",
   "execution_count": 206,
   "metadata": {
    "collapsed": false
   },
   "outputs": [
    {
     "name": "stdout",
     "output_type": "stream",
     "text": [
      "0.0 -1 0.0 [ 1.06776656]\n",
      "0.0 0 0.0 [ 0.92339163]\n",
      "0.0 1 0.0 [ 0.77901669]\n",
      "0.0 -1 0.5 [ 0.95368329]\n",
      "0.0 0 0.5 [ 0.80930835]\n",
      "0.0 1 0.5 [ 0.66493342]\n",
      "0.0 -1 1.0 [ 0.83960002]\n",
      "0.0 0 1.0 [ 0.69522508]\n",
      "0.0 1 1.0 [ 0.55085015]\n",
      "0.1 -1 0.0 [ 1.05495903]\n",
      "0.1 0 0.0 [ 0.91058409]\n",
      "0.1 1 0.0 [ 0.76620915]\n",
      "0.1 -1 0.5 [ 0.94087575]\n",
      "0.1 0 0.5 [ 0.79650082]\n",
      "0.1 1 0.5 [ 0.65212588]\n",
      "0.1 -1 1.0 [ 0.82679248]\n",
      "0.1 0 1.0 [ 0.68241755]\n",
      "0.1 1 1.0 [ 0.53804261]\n",
      "0.2 -1 0.0 [ 1.04215149]\n",
      "0.2 0 0.0 [ 0.89777655]\n",
      "0.2 1 0.0 [ 0.75340162]\n",
      "0.2 -1 0.5 [ 0.92806822]\n",
      "0.2 0 0.5 [ 0.78369328]\n",
      "0.2 1 0.5 [ 0.63931834]\n",
      "0.2 -1 1.0 [ 0.81398495]\n",
      "0.2 0 1.0 [ 0.66961001]\n",
      "0.2 1 1.0 [ 0.52523507]\n",
      "0.3 -1 0.0 [ 1.02934395]\n",
      "0.3 0 0.0 [ 0.88496902]\n",
      "0.3 1 0.0 [ 0.74059408]\n",
      "0.3 -1 0.5 [ 0.91526068]\n",
      "0.3 0 0.5 [ 0.77088574]\n",
      "0.3 1 0.5 [ 0.62651081]\n",
      "0.3 -1 1.0 [ 0.80117741]\n",
      "0.3 0 1.0 [ 0.65680247]\n",
      "0.3 1 1.0 [ 0.51242754]\n",
      "0.4 -1 0.0 [ 1.01653641]\n",
      "0.4 0 0.0 [ 0.87216148]\n",
      "0.4 1 0.0 [ 0.72778654]\n",
      "0.4 -1 0.5 [ 0.90245314]\n",
      "0.4 0 0.5 [ 0.75807821]\n",
      "0.4 1 0.5 [ 0.61370327]\n",
      "0.4 -1 1.0 [ 0.78836987]\n",
      "0.4 0 1.0 [ 0.64399494]\n",
      "0.4 1 1.0 [ 0.49962]\n",
      "0.5 -1 0.0 [ 1.00372888]\n",
      "0.5 0 0.0 [ 0.85935394]\n",
      "0.5 1 0.0 [ 0.71497901]\n",
      "0.5 -1 0.5 [ 0.88964561]\n",
      "0.5 0 0.5 [ 0.74527067]\n",
      "0.5 1 0.5 [ 0.60089573]\n",
      "0.5 -1 1.0 [ 0.77556233]\n",
      "0.5 0 1.0 [ 0.6311874]\n",
      "0.5 1 1.0 [ 0.48681246]\n",
      "0.6 -1 0.0 [ 0.99092134]\n",
      "0.6 0 0.0 [ 0.8465464]\n",
      "0.6 1 0.0 [ 0.70217147]\n",
      "0.6 -1 0.5 [ 0.87683807]\n",
      "0.6 0 0.5 [ 0.73246313]\n",
      "0.6 1 0.5 [ 0.5880882]\n",
      "0.6 -1 1.0 [ 0.7627548]\n",
      "0.6 0 1.0 [ 0.61837986]\n",
      "0.6 1 1.0 [ 0.47400492]\n",
      "0.7 -1 0.0 [ 0.9781138]\n",
      "0.7 0 0.0 [ 0.83373887]\n",
      "0.7 1 0.0 [ 0.68936393]\n",
      "0.7 -1 0.5 [ 0.86403053]\n",
      "0.7 0 0.5 [ 0.7196556]\n",
      "0.7 1 0.5 [ 0.57528066]\n",
      "0.7 -1 1.0 [ 0.74994726]\n",
      "0.7 0 1.0 [ 0.60557232]\n",
      "0.7 1 1.0 [ 0.46119739]\n",
      "0.8 -1 0.0 [ 0.96530627]\n",
      "0.8 0 0.0 [ 0.82093133]\n",
      "0.8 1 0.0 [ 0.67655639]\n",
      "0.8 -1 0.5 [ 0.851223]\n",
      "0.8 0 0.5 [ 0.70684806]\n",
      "0.8 1 0.5 [ 0.56247312]\n",
      "0.8 -1 1.0 [ 0.73713972]\n",
      "0.8 0 1.0 [ 0.59276479]\n",
      "0.8 1 1.0 [ 0.44838985]\n",
      "0.9 -1 0.0 [ 0.95249873]\n",
      "0.9 0 0.0 [ 0.80812379]\n",
      "0.9 1 0.0 [ 0.66374886]\n",
      "0.9 -1 0.5 [ 0.83841546]\n",
      "0.9 0 0.5 [ 0.69404052]\n",
      "0.9 1 0.5 [ 0.54966559]\n",
      "0.9 -1 1.0 [ 0.72433219]\n",
      "0.9 0 1.0 [ 0.57995725]\n",
      "0.9 1 1.0 [ 0.43558231]\n",
      "1.0 -1 0.0 [ 0.93969119]\n",
      "1.0 0 0.0 [ 0.79531626]\n",
      "1.0 1 0.0 [ 0.65094132]\n",
      "1.0 -1 0.5 [ 0.82560792]\n",
      "1.0 0 0.5 [ 0.68123299]\n",
      "1.0 1 0.5 [ 0.53685805]\n",
      "1.0 -1 1.0 [ 0.71152465]\n",
      "1.0 0 1.0 [ 0.56714971]\n",
      "1.0 1 1.0 [ 0.42277478]\n",
      "1.1 -1 0.0 [ 0.92688366]\n",
      "1.1 0 0.0 [ 0.78250872]\n",
      "1.1 1 0.0 [ 0.63813378]\n",
      "1.1 -1 0.5 [ 0.81280038]\n",
      "1.1 0 0.5 [ 0.66842545]\n",
      "1.1 1 0.5 [ 0.52405051]\n",
      "1.1 -1 1.0 [ 0.69871711]\n",
      "1.1 0 1.0 [ 0.55434218]\n",
      "1.1 1 1.0 [ 0.40996724]\n",
      "1.2 -1 0.0 [ 0.91407612]\n",
      "1.2 0 0.0 [ 0.76970118]\n",
      "1.2 1 0.0 [ 0.62532625]\n",
      "1.2 -1 0.5 [ 0.79999285]\n",
      "1.2 0 0.5 [ 0.65561791]\n",
      "1.2 1 0.5 [ 0.51124297]\n",
      "1.2 -1 1.0 [ 0.68590958]\n",
      "1.2 0 1.0 [ 0.54153464]\n",
      "1.2 1 1.0 [ 0.3971597]\n",
      "1.3 -1 0.0 [ 0.90126858]\n",
      "1.3 0 0.0 [ 0.75689365]\n",
      "1.3 1 0.0 [ 0.61251871]\n",
      "1.3 -1 0.5 [ 0.78718531]\n",
      "1.3 0 0.5 [ 0.64281037]\n",
      "1.3 1 0.5 [ 0.49843544]\n",
      "1.3 -1 1.0 [ 0.67310204]\n",
      "1.3 0 1.0 [ 0.5287271]\n",
      "1.3 1 1.0 [ 0.38435217]\n",
      "1.4 -1 0.0 [ 0.88846105]\n",
      "1.4 0 0.0 [ 0.74408611]\n",
      "1.4 1 0.0 [ 0.59971117]\n",
      "1.4 -1 0.5 [ 0.77437777]\n",
      "1.4 0 0.5 [ 0.63000284]\n",
      "1.4 1 0.5 [ 0.4856279]\n",
      "1.4 -1 1.0 [ 0.6602945]\n",
      "1.4 0 1.0 [ 0.51591957]\n",
      "1.4 1 1.0 [ 0.37154463]\n",
      "1.5 -1 0.0 [ 0.87565351]\n",
      "1.5 0 0.0 [ 0.73127857]\n",
      "1.5 1 0.0 [ 0.58690364]\n",
      "1.5 -1 0.5 [ 0.76157024]\n",
      "1.5 0 0.5 [ 0.6171953]\n",
      "1.5 1 0.5 [ 0.47282036]\n",
      "1.5 -1 1.0 [ 0.64748696]\n",
      "1.5 0 1.0 [ 0.50311203]\n",
      "1.5 1 1.0 [ 0.35873709]\n",
      "1.6 -1 0.0 [ 0.86284597]\n",
      "1.6 0 0.0 [ 0.71847104]\n",
      "1.6 1 0.0 [ 0.5740961]\n",
      "1.6 -1 0.5 [ 0.7487627]\n",
      "1.6 0 0.5 [ 0.60438776]\n",
      "1.6 1 0.5 [ 0.46001283]\n",
      "1.6 -1 1.0 [ 0.63467943]\n",
      "1.6 0 1.0 [ 0.49030449]\n",
      "1.6 1 1.0 [ 0.34592956]\n",
      "1.7 -1 0.0 [ 0.85003843]\n",
      "1.7 0 0.0 [ 0.7056635]\n",
      "1.7 1 0.0 [ 0.56128856]\n",
      "1.7 -1 0.5 [ 0.73595516]\n",
      "1.7 0 0.5 [ 0.59158023]\n",
      "1.7 1 0.5 [ 0.44720529]\n",
      "1.7 -1 1.0 [ 0.62187189]\n",
      "1.7 0 1.0 [ 0.47749695]\n",
      "1.7 1 1.0 [ 0.33312202]\n",
      "1.8 -1 0.0 [ 0.8372309]\n",
      "1.8 0 0.0 [ 0.69285596]\n",
      "1.8 1 0.0 [ 0.54848102]\n",
      "1.8 -1 0.5 [ 0.72314763]\n",
      "1.8 0 0.5 [ 0.57877269]\n",
      "1.8 1 0.5 [ 0.43439775]\n",
      "1.8 -1 1.0 [ 0.60906435]\n",
      "1.8 0 1.0 [ 0.46468942]\n",
      "1.8 1 1.0 [ 0.32031448]\n",
      "1.9 -1 0.0 [ 0.82442336]\n",
      "1.9 0 0.0 [ 0.68004842]\n",
      "1.9 1 0.0 [ 0.53567349]\n",
      "1.9 -1 0.5 [ 0.71034009]\n",
      "1.9 0 0.5 [ 0.56596515]\n",
      "1.9 1 0.5 [ 0.42159022]\n",
      "1.9 -1 1.0 [ 0.59625682]\n",
      "1.9 0 1.0 [ 0.45188188]\n",
      "1.9 1 1.0 [ 0.30750694]\n",
      "2.0 -1 0.0 [ 0.81161582]\n",
      "2.0 0 0.0 [ 0.66724089]\n",
      "2.0 1 0.0 [ 0.52286595]\n",
      "2.0 -1 0.5 [ 0.69753255]\n",
      "2.0 0 0.5 [ 0.55315762]\n",
      "2.0 1 0.5 [ 0.40878268]\n",
      "2.0 -1 1.0 [ 0.58344928]\n",
      "2.0 0 1.0 [ 0.43907434]\n",
      "2.0 1 1.0 [ 0.29469941]\n",
      "2.1 -1 0.0 [ 0.79880829]\n",
      "2.1 0 0.0 [ 0.65443335]\n",
      "2.1 1 0.0 [ 0.51005841]\n",
      "2.1 -1 0.5 [ 0.68472501]\n",
      "2.1 0 0.5 [ 0.54035008]\n",
      "2.1 1 0.5 [ 0.39597514]\n",
      "2.1 -1 1.0 [ 0.57064174]\n",
      "2.1 0 1.0 [ 0.42626681]\n",
      "2.1 1 1.0 [ 0.28189187]\n",
      "2.2 -1 0.0 [ 0.78600075]\n",
      "2.2 0 0.0 [ 0.64162581]\n",
      "2.2 1 0.0 [ 0.49725088]\n",
      "2.2 -1 0.5 [ 0.67191748]\n",
      "2.2 0 0.5 [ 0.52754254]\n",
      "2.2 1 0.5 [ 0.38316761]\n",
      "2.2 -1 1.0 [ 0.55783421]\n",
      "2.2 0 1.0 [ 0.41345927]\n",
      "2.2 1 1.0 [ 0.26908433]\n",
      "2.3 -1 0.0 [ 0.77319321]\n",
      "2.3 0 0.0 [ 0.62881828]\n",
      "2.3 1 0.0 [ 0.48444334]\n",
      "2.3 -1 0.5 [ 0.65910994]\n",
      "2.3 0 0.5 [ 0.514735]\n",
      "2.3 1 0.5 [ 0.37036007]\n",
      "2.3 -1 1.0 [ 0.54502667]\n",
      "2.3 0 1.0 [ 0.40065173]\n",
      "2.3 1 1.0 [ 0.2562768]\n",
      "2.4 -1 0.0 [ 0.76038568]\n",
      "2.4 0 0.0 [ 0.61601074]\n",
      "2.4 1 0.0 [ 0.4716358]\n",
      "2.4 -1 0.5 [ 0.6463024]\n",
      "2.4 0 0.5 [ 0.50192747]\n",
      "2.4 1 0.5 [ 0.35755253]\n",
      "2.4 -1 1.0 [ 0.53221913]\n",
      "2.4 0 1.0 [ 0.3878442]\n",
      "2.4 1 1.0 [ 0.24346926]\n",
      "2.5 -1 0.0 [ 0.74757814]\n",
      "2.5 0 0.0 [ 0.6032032]\n",
      "2.5 1 0.0 [ 0.45882827]\n",
      "2.5 -1 0.5 [ 0.63349487]\n",
      "2.5 0 0.5 [ 0.48911993]\n",
      "2.5 1 0.5 [ 0.34474499]\n",
      "2.5 -1 1.0 [ 0.5194116]\n",
      "2.5 0 1.0 [ 0.37503666]\n",
      "2.5 1 1.0 [ 0.23066172]\n",
      "2.6 -1 0.0 [ 0.7347706]\n",
      "2.6 0 0.0 [ 0.59039567]\n",
      "2.6 1 0.0 [ 0.44602073]\n",
      "2.6 -1 0.5 [ 0.62068733]\n",
      "2.6 0 0.5 [ 0.47631239]\n",
      "2.6 1 0.5 [ 0.33193746]\n",
      "2.6 -1 1.0 [ 0.50660406]\n",
      "2.6 0 1.0 [ 0.36222912]\n",
      "2.6 1 1.0 [ 0.21785419]\n",
      "2.7 -1 0.0 [ 0.72196306]\n",
      "2.7 0 0.0 [ 0.57758813]\n",
      "2.7 1 0.0 [ 0.43321319]\n",
      "2.7 -1 0.5 [ 0.60787979]\n",
      "2.7 0 0.5 [ 0.46350486]\n",
      "2.7 1 0.5 [ 0.31912992]\n",
      "2.7 -1 1.0 [ 0.49379652]\n",
      "2.7 0 1.0 [ 0.34942159]\n",
      "2.7 1 1.0 [ 0.20504665]\n",
      "2.8 -1 0.0 [ 0.70915553]\n",
      "2.8 0 0.0 [ 0.56478059]\n",
      "2.8 1 0.0 [ 0.42040566]\n",
      "2.8 -1 0.5 [ 0.59507226]\n",
      "2.8 0 0.5 [ 0.45069732]\n",
      "2.8 1 0.5 [ 0.30632238]\n",
      "2.8 -1 1.0 [ 0.48098898]\n",
      "2.8 0 1.0 [ 0.33661405]\n",
      "2.8 1 1.0 [ 0.19223911]\n",
      "2.9 -1 0.0 [ 0.69634799]\n",
      "2.9 0 0.0 [ 0.55197305]\n",
      "2.9 1 0.0 [ 0.40759812]\n",
      "2.9 -1 0.5 [ 0.58226472]\n",
      "2.9 0 0.5 [ 0.43788978]\n",
      "2.9 1 0.5 [ 0.29351485]\n",
      "2.9 -1 1.0 [ 0.46818145]\n",
      "2.9 0 1.0 [ 0.32380651]\n",
      "2.9 1 1.0 [ 0.17943157]\n",
      "3.0 -1 0.0 [ 0.68354045]\n",
      "3.0 0 0.0 [ 0.53916552]\n",
      "3.0 1 0.0 [ 0.39479058]\n",
      "3.0 -1 0.5 [ 0.56945718]\n",
      "3.0 0 0.5 [ 0.42508225]\n",
      "3.0 1 0.5 [ 0.28070731]\n",
      "3.0 -1 1.0 [ 0.45537391]\n",
      "3.0 0 1.0 [ 0.31099897]\n",
      "3.0 1 1.0 [ 0.16662404]\n",
      "3.1 -1 0.0 [ 0.67073292]\n",
      "3.1 0 0.0 [ 0.52635798]\n",
      "3.1 1 0.0 [ 0.38198304]\n",
      "3.1 -1 0.5 [ 0.55664965]\n",
      "3.1 0 0.5 [ 0.41227471]\n",
      "3.1 1 0.5 [ 0.26789977]\n",
      "3.1 -1 1.0 [ 0.44256637]\n",
      "3.1 0 1.0 [ 0.29819144]\n",
      "3.1 1 1.0 [ 0.1538165]\n",
      "3.2 -1 0.0 [ 0.65792538]\n",
      "3.2 0 0.0 [ 0.51355044]\n",
      "3.2 1 0.0 [ 0.36917551]\n",
      "3.2 -1 0.5 [ 0.54384211]\n",
      "3.2 0 0.5 [ 0.39946717]\n",
      "3.2 1 0.5 [ 0.25509224]\n",
      "3.2 -1 1.0 [ 0.42975884]\n",
      "3.2 0 1.0 [ 0.2853839]\n",
      "3.2 1 1.0 [ 0.14100896]\n",
      "3.3 -1 0.0 [ 0.64511784]\n",
      "3.3 0 0.0 [ 0.50074291]\n",
      "3.3 1 0.0 [ 0.35636797]\n",
      "3.3 -1 0.5 [ 0.53103457]\n",
      "3.3 0 0.5 [ 0.38665964]\n",
      "3.3 1 0.5 [ 0.2422847]\n",
      "3.3 -1 1.0 [ 0.4169513]\n",
      "3.3 0 1.0 [ 0.27257636]\n",
      "3.3 1 1.0 [ 0.12820143]\n",
      "3.4 -1 0.0 [ 0.63231031]\n",
      "3.4 0 0.0 [ 0.48793537]\n",
      "3.4 1 0.0 [ 0.34356043]\n",
      "3.4 -1 0.5 [ 0.51822703]\n",
      "3.4 0 0.5 [ 0.3738521]\n",
      "3.4 1 0.5 [ 0.22947716]\n",
      "3.4 -1 1.0 [ 0.40414376]\n",
      "3.4 0 1.0 [ 0.25976883]\n",
      "3.4 1 1.0 [ 0.11539389]\n",
      "3.5 -1 0.0 [ 0.61950277]\n",
      "3.5 0 0.0 [ 0.47512783]\n",
      "3.5 1 0.0 [ 0.3307529]\n",
      "3.5 -1 0.5 [ 0.5054195]\n",
      "3.5 0 0.5 [ 0.36104456]\n",
      "3.5 1 0.5 [ 0.21666962]\n",
      "3.5 -1 1.0 [ 0.39133623]\n",
      "3.5 0 1.0 [ 0.24696129]\n",
      "3.5 1 1.0 [ 0.10258635]\n",
      "3.6 -1 0.0 [ 0.60669523]\n",
      "3.6 0 0.0 [ 0.4623203]\n",
      "3.6 1 0.0 [ 0.31794536]\n",
      "3.6 -1 0.5 [ 0.49261196]\n",
      "3.6 0 0.5 [ 0.34823702]\n",
      "3.6 1 0.5 [ 0.20386209]\n",
      "3.6 -1 1.0 [ 0.37852869]\n",
      "3.6 0 1.0 [ 0.23415375]\n",
      "3.6 1 1.0 [ 0.08977882]\n",
      "3.7 -1 0.0 [ 0.5938877]\n",
      "3.7 0 0.0 [ 0.44951276]\n",
      "3.7 1 0.0 [ 0.30513782]\n",
      "3.7 -1 0.5 [ 0.47980442]\n",
      "3.7 0 0.5 [ 0.33542949]\n",
      "3.7 1 0.5 [ 0.19105455]\n",
      "3.7 -1 1.0 [ 0.36572115]\n",
      "3.7 0 1.0 [ 0.22134622]\n",
      "3.7 1 1.0 [ 0.07697128]\n",
      "3.8 -1 0.0 [ 0.58108016]\n",
      "3.8 0 0.0 [ 0.43670522]\n",
      "3.8 1 0.0 [ 0.29233029]\n",
      "3.8 -1 0.5 [ 0.46699689]\n",
      "3.8 0 0.5 [ 0.32262195]\n",
      "3.8 1 0.5 [ 0.17824701]\n",
      "3.8 -1 1.0 [ 0.35291362]\n",
      "3.8 0 1.0 [ 0.20853868]\n",
      "3.8 1 1.0 [ 0.06416374]\n",
      "3.9 -1 0.0 [ 0.56827262]\n",
      "3.9 0 0.0 [ 0.42389769]\n",
      "3.9 1 0.0 [ 0.27952275]\n",
      "3.9 -1 0.5 [ 0.45418935]\n",
      "3.9 0 0.5 [ 0.30981441]\n",
      "3.9 1 0.5 [ 0.16543948]\n",
      "3.9 -1 1.0 [ 0.34010608]\n",
      "3.9 0 1.0 [ 0.19573114]\n",
      "3.9 1 1.0 [ 0.05135621]\n"
     ]
    }
   ],
   "source": [
    "for base in range(0,4,1):\n",
    "    for point in range(10):\n",
    "        GPA =  float(str(base) + \".\" + str(point))\n",
    "        for seat in range(3):\n",
    "            seatNum = (seat/2)\n",
    "            for wtFeel in range(-1,2,1):\n",
    "                res = cls.predict([GPA, wtFeel, seatNum])\n",
    "                print(GPA, wtFeel, seatNum, res)"
   ]
  },
  {
   "cell_type": "markdown",
   "metadata": {},
   "source": [
    "# Decision Tree"
   ]
  },
  {
   "cell_type": "code",
   "execution_count": 223,
   "metadata": {
    "collapsed": false
   },
   "outputs": [
    {
     "name": "stdout",
     "output_type": "stream",
     "text": [
      "[1]\n"
     ]
    }
   ],
   "source": [
    "data = BI.as_matrix(columns=[\"GPA\",\"WtFeelNum\",\"SeatNum\"])\n",
    "target = BI.as_matrix(columns=[\"GenderNum\"])\n",
    "\n",
    "Xtrain, Xtest, ytrain, ytest = train_test_split(data, target, test_size = 0.3)\n",
    "\n",
    "cls = DecisionTreeClassifier()\n",
    "cls.fit(Xtrain, ytrain.ravel())\n",
    "\n",
    "result = cls.predict([[3.8, 0, 1]])\n",
    "print(result)"
   ]
  },
  {
   "cell_type": "code",
   "execution_count": 224,
   "metadata": {
    "collapsed": false
   },
   "outputs": [
    {
     "name": "stdout",
     "output_type": "stream",
     "text": [
      "             precision    recall  f1-score   support\n",
      "\n",
      "          0       0.78      0.70      0.74        50\n",
      "          1       0.38      0.47      0.42        19\n",
      "\n",
      "avg / total       0.67      0.64      0.65        69\n",
      "\n"
     ]
    }
   ],
   "source": [
    "ypred = cls.predict(Xtest)\n",
    "print(classification_report(ytest, ypred))"
   ]
  },
  {
   "cell_type": "code",
   "execution_count": 225,
   "metadata": {
    "collapsed": false
   },
   "outputs": [
    {
     "name": "stdout",
     "output_type": "stream",
     "text": [
      "[[35 15]\n",
      " [10  9]]\n"
     ]
    },
    {
     "data": {
      "text/plain": [
       "<matplotlib.text.Text at 0x10cc2e208>"
      ]
     },
     "execution_count": 225,
     "metadata": {},
     "output_type": "execute_result"
    },
    {
     "data": {
      "image/png": "[encoded data removed]",
      "text/plain": [
       "<matplotlib.figure.Figure at 0x10c2645c0>"
      ]
     },
     "metadata": {},
     "output_type": "display_data"
    }
   ],
   "source": [
    "print(confusion_matrix(ytest, ypred))\n",
    "plt.imshow(np.log(confusion_matrix(ytest, ypred)), cmap=\"Blues\")\n",
    "plt.grid(False)\n",
    "plt.ylabel('true')\n",
    "plt.xlabel('predicted')"
   ]
  },
  {
   "cell_type": "code",
   "execution_count": 226,
   "metadata": {
    "collapsed": false
   },
   "outputs": [
    {
     "name": "stdout",
     "output_type": "stream",
     "text": [
      "0.0 -1 0.0 [1]\n",
      "0.0 0 0.0 [1]\n",
      "0.0 1 0.0 [1]\n",
      "0.0 -1 0.5 [1]\n",
      "0.0 0 0.5 [1]\n",
      "0.0 1 0.5 [1]\n",
      "0.0 -1 1.0 [1]\n",
      "0.0 0 1.0 [1]\n",
      "0.0 1 1.0 [1]\n",
      "0.1 -1 0.0 [1]\n",
      "0.1 0 0.0 [1]\n",
      "0.1 1 0.0 [1]\n",
      "0.1 -1 0.5 [1]\n",
      "0.1 0 0.5 [1]\n",
      "0.1 1 0.5 [1]\n",
      "0.1 -1 1.0 [1]\n",
      "0.1 0 1.0 [1]\n",
      "0.1 1 1.0 [1]\n",
      "0.2 -1 0.0 [1]\n",
      "0.2 0 0.0 [1]\n",
      "0.2 1 0.0 [1]\n",
      "0.2 -1 0.5 [1]\n",
      "0.2 0 0.5 [1]\n",
      "0.2 1 0.5 [1]\n",
      "0.2 -1 1.0 [1]\n",
      "0.2 0 1.0 [1]\n",
      "0.2 1 1.0 [1]\n",
      "0.3 -1 0.0 [1]\n",
      "0.3 0 0.0 [1]\n",
      "0.3 1 0.0 [1]\n",
      "0.3 -1 0.5 [1]\n",
      "0.3 0 0.5 [1]\n",
      "0.3 1 0.5 [1]\n",
      "0.3 -1 1.0 [1]\n",
      "0.3 0 1.0 [1]\n",
      "0.3 1 1.0 [1]\n",
      "0.4 -1 0.0 [1]\n",
      "0.4 0 0.0 [1]\n",
      "0.4 1 0.0 [1]\n",
      "0.4 -1 0.5 [1]\n",
      "0.4 0 0.5 [1]\n",
      "0.4 1 0.5 [1]\n",
      "0.4 -1 1.0 [1]\n",
      "0.4 0 1.0 [1]\n",
      "0.4 1 1.0 [1]\n",
      "0.5 -1 0.0 [1]\n",
      "0.5 0 0.0 [1]\n",
      "0.5 1 0.0 [1]\n",
      "0.5 -1 0.5 [1]\n",
      "0.5 0 0.5 [1]\n",
      "0.5 1 0.5 [1]\n",
      "0.5 -1 1.0 [1]\n",
      "0.5 0 1.0 [1]\n",
      "0.5 1 1.0 [1]\n",
      "0.6 -1 0.0 [1]\n",
      "0.6 0 0.0 [1]\n",
      "0.6 1 0.0 [1]\n",
      "0.6 -1 0.5 [1]\n",
      "0.6 0 0.5 [1]\n",
      "0.6 1 0.5 [1]\n",
      "0.6 -1 1.0 [1]\n",
      "0.6 0 1.0 [1]\n",
      "0.6 1 1.0 [1]\n",
      "0.7 -1 0.0 [1]\n",
      "0.7 0 0.0 [1]\n",
      "0.7 1 0.0 [1]\n",
      "0.7 -1 0.5 [1]\n",
      "0.7 0 0.5 [1]\n",
      "0.7 1 0.5 [1]\n",
      "0.7 -1 1.0 [1]\n",
      "0.7 0 1.0 [1]\n",
      "0.7 1 1.0 [1]\n",
      "0.8 -1 0.0 [1]\n",
      "0.8 0 0.0 [1]\n",
      "0.8 1 0.0 [1]\n",
      "0.8 -1 0.5 [1]\n",
      "0.8 0 0.5 [1]\n",
      "0.8 1 0.5 [1]\n",
      "0.8 -1 1.0 [1]\n",
      "0.8 0 1.0 [1]\n",
      "0.8 1 1.0 [1]\n",
      "0.9 -1 0.0 [1]\n",
      "0.9 0 0.0 [1]\n",
      "0.9 1 0.0 [1]\n",
      "0.9 -1 0.5 [1]\n",
      "0.9 0 0.5 [1]\n",
      "0.9 1 0.5 [1]\n",
      "0.9 -1 1.0 [1]\n",
      "0.9 0 1.0 [1]\n",
      "0.9 1 1.0 [1]\n",
      "1.0 -1 0.0 [1]\n",
      "1.0 0 0.0 [1]\n",
      "1.0 1 0.0 [1]\n",
      "1.0 -1 0.5 [1]\n",
      "1.0 0 0.5 [1]\n",
      "1.0 1 0.5 [1]\n",
      "1.0 -1 1.0 [1]\n",
      "1.0 0 1.0 [1]\n",
      "1.0 1 1.0 [1]\n",
      "1.1 -1 0.0 [1]\n",
      "1.1 0 0.0 [1]\n",
      "1.1 1 0.0 [1]\n",
      "1.1 -1 0.5 [1]\n",
      "1.1 0 0.5 [1]\n",
      "1.1 1 0.5 [1]\n",
      "1.1 -1 1.0 [1]\n",
      "1.1 0 1.0 [1]\n",
      "1.1 1 1.0 [1]\n",
      "1.2 -1 0.0 [1]\n",
      "1.2 0 0.0 [1]\n",
      "1.2 1 0.0 [1]\n",
      "1.2 -1 0.5 [1]\n",
      "1.2 0 0.5 [1]\n",
      "1.2 1 0.5 [1]\n",
      "1.2 -1 1.0 [1]\n",
      "1.2 0 1.0 [1]\n",
      "1.2 1 1.0 [1]\n",
      "1.3 -1 0.0 [1]\n",
      "1.3 0 0.0 [1]\n",
      "1.3 1 0.0 [1]\n",
      "1.3 -1 0.5 [1]\n",
      "1.3 0 0.5 [1]\n",
      "1.3 1 0.5 [1]\n",
      "1.3 -1 1.0 [1]\n",
      "1.3 0 1.0 [1]\n",
      "1.3 1 1.0 [1]\n",
      "1.4 -1 0.0 [1]\n",
      "1.4 0 0.0 [1]\n",
      "1.4 1 0.0 [1]\n",
      "1.4 -1 0.5 [1]\n",
      "1.4 0 0.5 [1]\n",
      "1.4 1 0.5 [1]\n",
      "1.4 -1 1.0 [1]\n",
      "1.4 0 1.0 [1]\n",
      "1.4 1 1.0 [1]\n",
      "1.5 -1 0.0 [1]\n",
      "1.5 0 0.0 [1]\n",
      "1.5 1 0.0 [1]\n",
      "1.5 -1 0.5 [1]\n",
      "1.5 0 0.5 [1]\n",
      "1.5 1 0.5 [1]\n",
      "1.5 -1 1.0 [1]\n",
      "1.5 0 1.0 [1]\n",
      "1.5 1 1.0 [1]\n",
      "1.6 -1 0.0 [1]\n",
      "1.6 0 0.0 [1]\n",
      "1.6 1 0.0 [1]\n",
      "1.6 -1 0.5 [1]\n",
      "1.6 0 0.5 [1]\n",
      "1.6 1 0.5 [1]\n",
      "1.6 -1 1.0 [1]\n",
      "1.6 0 1.0 [1]\n",
      "1.6 1 1.0 [1]\n",
      "1.7 -1 0.0 [1]\n",
      "1.7 0 0.0 [1]\n",
      "1.7 1 0.0 [1]\n",
      "1.7 -1 0.5 [1]\n",
      "1.7 0 0.5 [1]\n",
      "1.7 1 0.5 [1]\n",
      "1.7 -1 1.0 [1]\n",
      "1.7 0 1.0 [1]\n",
      "1.7 1 1.0 [1]\n",
      "1.8 -1 0.0 [1]\n",
      "1.8 0 0.0 [1]\n",
      "1.8 1 0.0 [1]\n",
      "1.8 -1 0.5 [1]\n",
      "1.8 0 0.5 [1]\n",
      "1.8 1 0.5 [1]\n",
      "1.8 -1 1.0 [1]\n",
      "1.8 0 1.0 [1]\n",
      "1.8 1 1.0 [1]\n",
      "1.9 -1 0.0 [1]\n",
      "1.9 0 0.0 [1]\n",
      "1.9 1 0.0 [1]\n",
      "1.9 -1 0.5 [1]\n",
      "1.9 0 0.5 [1]\n",
      "1.9 1 0.5 [1]\n",
      "1.9 -1 1.0 [1]\n",
      "1.9 0 1.0 [1]\n",
      "1.9 1 1.0 [1]\n",
      "2.0 -1 0.0 [1]\n",
      "2.0 0 0.0 [1]\n",
      "2.0 1 0.0 [1]\n",
      "2.0 -1 0.5 [1]\n",
      "2.0 0 0.5 [1]\n",
      "2.0 1 0.5 [1]\n",
      "2.0 -1 1.0 [1]\n",
      "2.0 0 1.0 [1]\n",
      "2.0 1 1.0 [1]\n",
      "2.1 -1 0.0 [1]\n",
      "2.1 0 0.0 [1]\n",
      "2.1 1 0.0 [1]\n",
      "2.1 -1 0.5 [1]\n",
      "2.1 0 0.5 [1]\n",
      "2.1 1 0.5 [1]\n",
      "2.1 -1 1.0 [0]\n",
      "2.1 0 1.0 [0]\n",
      "2.1 1 1.0 [0]\n",
      "2.2 -1 0.0 [1]\n",
      "2.2 0 0.0 [0]\n",
      "2.2 1 0.0 [0]\n",
      "2.2 -1 0.5 [1]\n",
      "2.2 0 0.5 [0]\n",
      "2.2 1 0.5 [0]\n",
      "2.2 -1 1.0 [1]\n",
      "2.2 0 1.0 [0]\n",
      "2.2 1 1.0 [0]\n",
      "2.3 -1 0.0 [1]\n",
      "2.3 0 0.0 [0]\n",
      "2.3 1 0.0 [0]\n",
      "2.3 -1 0.5 [1]\n",
      "2.3 0 0.5 [0]\n",
      "2.3 1 0.5 [0]\n",
      "2.3 -1 1.0 [1]\n",
      "2.3 0 1.0 [0]\n",
      "2.3 1 1.0 [0]\n",
      "2.4 -1 0.0 [1]\n",
      "2.4 0 0.0 [0]\n",
      "2.4 1 0.0 [0]\n",
      "2.4 -1 0.5 [1]\n",
      "2.4 0 0.5 [0]\n",
      "2.4 1 0.5 [0]\n",
      "2.4 -1 1.0 [1]\n",
      "2.4 0 1.0 [0]\n",
      "2.4 1 1.0 [0]\n",
      "2.5 -1 0.0 [0]\n",
      "2.5 0 0.0 [1]\n",
      "2.5 1 0.0 [1]\n",
      "2.5 -1 0.5 [0]\n",
      "2.5 0 0.5 [0]\n",
      "2.5 1 0.5 [0]\n",
      "2.5 -1 1.0 [0]\n",
      "2.5 0 1.0 [1]\n",
      "2.5 1 1.0 [1]\n",
      "2.6 -1 0.0 [0]\n",
      "2.6 0 0.0 [0]\n",
      "2.6 1 0.0 [0]\n",
      "2.6 -1 0.5 [0]\n",
      "2.6 0 0.5 [0]\n",
      "2.6 1 0.5 [0]\n",
      "2.6 -1 1.0 [0]\n",
      "2.6 0 1.0 [1]\n",
      "2.6 1 1.0 [1]\n",
      "2.7 -1 0.0 [1]\n",
      "2.7 0 0.0 [1]\n",
      "2.7 1 0.0 [1]\n",
      "2.7 -1 0.5 [1]\n",
      "2.7 0 0.5 [0]\n",
      "2.7 1 0.5 [0]\n",
      "2.7 -1 1.0 [1]\n",
      "2.7 0 1.0 [1]\n",
      "2.7 1 1.0 [1]\n",
      "2.8 -1 0.0 [1]\n",
      "2.8 0 0.0 [1]\n",
      "2.8 1 0.0 [1]\n",
      "2.8 -1 0.5 [1]\n",
      "2.8 0 0.5 [1]\n",
      "2.8 1 0.5 [0]\n",
      "2.8 -1 1.0 [1]\n",
      "2.8 0 1.0 [0]\n",
      "2.8 1 1.0 [0]\n",
      "2.9 -1 0.0 [1]\n",
      "2.9 0 0.0 [0]\n",
      "2.9 1 0.0 [0]\n",
      "2.9 -1 0.5 [1]\n",
      "2.9 0 0.5 [0]\n",
      "2.9 1 0.5 [0]\n",
      "2.9 -1 1.0 [1]\n",
      "2.9 0 1.0 [0]\n",
      "2.9 1 1.0 [0]\n",
      "3.0 -1 0.0 [1]\n",
      "3.0 0 0.0 [0]\n",
      "3.0 1 0.0 [1]\n",
      "3.0 -1 0.5 [0]\n",
      "3.0 0 0.5 [0]\n",
      "3.0 1 0.5 [0]\n",
      "3.0 -1 1.0 [0]\n",
      "3.0 0 1.0 [0]\n",
      "3.0 1 1.0 [1]\n",
      "3.1 -1 0.0 [1]\n",
      "3.1 0 0.0 [1]\n",
      "3.1 1 0.0 [1]\n",
      "3.1 -1 0.5 [0]\n",
      "3.1 0 0.5 [0]\n",
      "3.1 1 0.5 [0]\n",
      "3.1 -1 1.0 [0]\n",
      "3.1 0 1.0 [0]\n",
      "3.1 1 1.0 [1]\n",
      "3.2 -1 0.0 [1]\n",
      "3.2 0 0.0 [1]\n",
      "3.2 1 0.0 [1]\n",
      "3.2 -1 0.5 [1]\n",
      "3.2 0 0.5 [0]\n",
      "3.2 1 0.5 [0]\n",
      "3.2 -1 1.0 [1]\n",
      "3.2 0 1.0 [0]\n",
      "3.2 1 1.0 [0]\n",
      "3.3 -1 0.0 [1]\n",
      "3.3 0 0.0 [1]\n",
      "3.3 1 0.0 [1]\n",
      "3.3 -1 0.5 [1]\n",
      "3.3 0 0.5 [1]\n",
      "3.3 1 0.5 [1]\n",
      "3.3 -1 1.0 [1]\n",
      "3.3 0 1.0 [1]\n",
      "3.3 1 1.0 [1]\n",
      "3.4 -1 0.0 [1]\n",
      "3.4 0 0.0 [1]\n",
      "3.4 1 0.0 [1]\n",
      "3.4 -1 0.5 [1]\n",
      "3.4 0 0.5 [0]\n",
      "3.4 1 0.5 [0]\n",
      "3.4 -1 1.0 [1]\n",
      "3.4 0 1.0 [0]\n",
      "3.4 1 1.0 [0]\n",
      "3.5 -1 0.0 [1]\n",
      "3.5 0 0.0 [0]\n",
      "3.5 1 0.0 [0]\n",
      "3.5 -1 0.5 [1]\n",
      "3.5 0 0.5 [0]\n",
      "3.5 1 0.5 [1]\n",
      "3.5 -1 1.0 [1]\n",
      "3.5 0 1.0 [0]\n",
      "3.5 1 1.0 [1]\n",
      "3.6 -1 0.0 [1]\n",
      "3.6 0 0.0 [0]\n",
      "3.6 1 0.0 [0]\n",
      "3.6 -1 0.5 [1]\n",
      "3.6 0 0.5 [1]\n",
      "3.6 1 0.5 [0]\n",
      "3.6 -1 1.0 [1]\n",
      "3.6 0 1.0 [1]\n",
      "3.6 1 1.0 [0]\n",
      "3.7 -1 0.0 [1]\n",
      "3.7 0 0.0 [1]\n",
      "3.7 1 0.0 [1]\n",
      "3.7 -1 0.5 [1]\n",
      "3.7 0 0.5 [1]\n",
      "3.7 1 0.5 [0]\n",
      "3.7 -1 1.0 [1]\n",
      "3.7 0 1.0 [1]\n",
      "3.7 1 1.0 [0]\n",
      "3.8 -1 0.0 [1]\n",
      "3.8 0 0.0 [1]\n",
      "3.8 1 0.0 [1]\n",
      "3.8 -1 0.5 [1]\n",
      "3.8 0 0.5 [0]\n",
      "3.8 1 0.5 [0]\n",
      "3.8 -1 1.0 [1]\n",
      "3.8 0 1.0 [1]\n",
      "3.8 1 1.0 [0]\n",
      "3.9 -1 0.0 [1]\n",
      "3.9 0 0.0 [0]\n",
      "3.9 1 0.0 [0]\n",
      "3.9 -1 0.5 [1]\n",
      "3.9 0 0.5 [0]\n",
      "3.9 1 0.5 [0]\n",
      "3.9 -1 1.0 [1]\n",
      "3.9 0 1.0 [0]\n",
      "3.9 1 1.0 [0]\n"
     ]
    }
   ],
   "source": [
    "for base in range(0,4,1):\n",
    "    for point in range(10):\n",
    "        GPA =  float(str(base) + \".\" + str(point))\n",
    "        for seat in range(3):\n",
    "            seatNum = (seat/2)\n",
    "            for wtFeel in range(-1,2,1):\n",
    "                res = cls.predict([GPA, wtFeel, seatNum])\n",
    "                print(GPA, wtFeel, seatNum, res)"
   ]
  },
  {
   "cell_type": "markdown",
   "metadata": {},
   "source": [
    "# Random Forest"
   ]
  },
  {
   "cell_type": "code",
   "execution_count": 236,
   "metadata": {
    "collapsed": false
   },
   "outputs": [
    {
     "name": "stdout",
     "output_type": "stream",
     "text": [
      "[1]\n"
     ]
    }
   ],
   "source": [
    "data = BI.as_matrix(columns=[\"GPA\",\"WtFeelNum\",\"SeatNum\"])\n",
    "target = BI.as_matrix(columns=[\"GenderNum\"])\n",
    "\n",
    "Xtrain, Xtest, ytrain, ytest = train_test_split(data, target, test_size = 0.3)\n",
    "\n",
    "cls = RandomForestClassifier()\n",
    "cls.fit(Xtrain, ytrain.ravel())\n",
    "\n",
    "result = cls.predict([[3.8, 0, 1]])\n",
    "print(result)"
   ]
  },
  {
   "cell_type": "code",
   "execution_count": 237,
   "metadata": {
    "collapsed": false
   },
   "outputs": [
    {
     "name": "stdout",
     "output_type": "stream",
     "text": [
      "             precision    recall  f1-score   support\n",
      "\n",
      "          0       0.74      0.71      0.73        49\n",
      "          1       0.36      0.40      0.38        20\n",
      "\n",
      "avg / total       0.63      0.62      0.63        69\n",
      "\n"
     ]
    }
   ],
   "source": [
    "ypred = cls.predict(Xtest)\n",
    "print(classification_report(ytest, ypred))"
   ]
  },
  {
   "cell_type": "code",
   "execution_count": 239,
   "metadata": {
    "collapsed": false
   },
   "outputs": [
    {
     "name": "stdout",
     "output_type": "stream",
     "text": [
      "[[35 14]\n",
      " [12  8]]\n"
     ]
    },
    {
     "data": {
      "text/plain": [
       "<matplotlib.text.Text at 0x10c8b8048>"
      ]
     },
     "execution_count": 239,
     "metadata": {},
     "output_type": "execute_result"
    },
    {
     "data": {
      "image/png": "[encoded data removed]",
      "text/plain": [
       "<matplotlib.figure.Figure at 0x10d029a20>"
      ]
     },
     "metadata": {},
     "output_type": "display_data"
    }
   ],
   "source": [
    "print(confusion_matrix(ytest, ypred))\n",
    "plt.imshow(np.log(confusion_matrix(ytest, ypred)), cmap=\"Blues\")\n",
    "plt.grid(False)\n",
    "plt.ylabel('true')\n",
    "plt.xlabel('predicted')"
   ]
  },
  {
   "cell_type": "code",
   "execution_count": 240,
   "metadata": {
    "collapsed": false
   },
   "outputs": [
    {
     "name": "stdout",
     "output_type": "stream",
     "text": [
      "0.0 -1 0.0 [1]\n",
      "0.0 0 0.0 [1]\n",
      "0.0 1 0.0 [1]\n",
      "0.0 -1 0.5 [1]\n",
      "0.0 0 0.5 [1]\n",
      "0.0 1 0.5 [1]\n",
      "0.0 -1 1.0 [0]\n",
      "0.0 0 1.0 [1]\n",
      "0.0 1 1.0 [1]\n",
      "0.1 -1 0.0 [1]\n",
      "0.1 0 0.0 [1]\n",
      "0.1 1 0.0 [1]\n",
      "0.1 -1 0.5 [1]\n",
      "0.1 0 0.5 [1]\n",
      "0.1 1 0.5 [1]\n",
      "0.1 -1 1.0 [0]\n",
      "0.1 0 1.0 [1]\n",
      "0.1 1 1.0 [1]\n",
      "0.2 -1 0.0 [1]\n",
      "0.2 0 0.0 [1]\n",
      "0.2 1 0.0 [1]\n",
      "0.2 -1 0.5 [1]\n",
      "0.2 0 0.5 [1]\n",
      "0.2 1 0.5 [1]\n",
      "0.2 -1 1.0 [0]\n",
      "0.2 0 1.0 [1]\n",
      "0.2 1 1.0 [1]\n",
      "0.3 -1 0.0 [1]\n",
      "0.3 0 0.0 [1]\n",
      "0.3 1 0.0 [1]\n",
      "0.3 -1 0.5 [1]\n",
      "0.3 0 0.5 [1]\n",
      "0.3 1 0.5 [1]\n",
      "0.3 -1 1.0 [0]\n",
      "0.3 0 1.0 [1]\n",
      "0.3 1 1.0 [1]\n",
      "0.4 -1 0.0 [1]\n",
      "0.4 0 0.0 [1]\n",
      "0.4 1 0.0 [1]\n",
      "0.4 -1 0.5 [1]\n",
      "0.4 0 0.5 [1]\n",
      "0.4 1 0.5 [1]\n",
      "0.4 -1 1.0 [0]\n",
      "0.4 0 1.0 [1]\n",
      "0.4 1 1.0 [1]\n",
      "0.5 -1 0.0 [1]\n",
      "0.5 0 0.0 [1]\n",
      "0.5 1 0.0 [1]\n",
      "0.5 -1 0.5 [1]\n",
      "0.5 0 0.5 [1]\n",
      "0.5 1 0.5 [1]\n",
      "0.5 -1 1.0 [0]\n",
      "0.5 0 1.0 [1]\n",
      "0.5 1 1.0 [1]\n",
      "0.6 -1 0.0 [1]\n",
      "0.6 0 0.0 [1]\n",
      "0.6 1 0.0 [1]\n",
      "0.6 -1 0.5 [1]\n",
      "0.6 0 0.5 [1]\n",
      "0.6 1 0.5 [1]\n",
      "0.6 -1 1.0 [0]\n",
      "0.6 0 1.0 [1]\n",
      "0.6 1 1.0 [1]\n",
      "0.7 -1 0.0 [1]\n",
      "0.7 0 0.0 [1]\n",
      "0.7 1 0.0 [1]\n",
      "0.7 -1 0.5 [1]\n",
      "0.7 0 0.5 [1]\n",
      "0.7 1 0.5 [1]\n",
      "0.7 -1 1.0 [0]\n",
      "0.7 0 1.0 [1]\n",
      "0.7 1 1.0 [1]\n",
      "0.8 -1 0.0 [1]\n",
      "0.8 0 0.0 [1]\n",
      "0.8 1 0.0 [1]\n",
      "0.8 -1 0.5 [1]\n",
      "0.8 0 0.5 [1]\n",
      "0.8 1 0.5 [1]\n",
      "0.8 -1 1.0 [0]\n",
      "0.8 0 1.0 [1]\n",
      "0.8 1 1.0 [1]\n",
      "0.9 -1 0.0 [1]\n",
      "0.9 0 0.0 [1]\n",
      "0.9 1 0.0 [1]\n",
      "0.9 -1 0.5 [1]\n",
      "0.9 0 0.5 [1]\n",
      "0.9 1 0.5 [1]\n",
      "0.9 -1 1.0 [0]\n",
      "0.9 0 1.0 [1]\n",
      "0.9 1 1.0 [1]\n",
      "1.0 -1 0.0 [1]\n",
      "1.0 0 0.0 [1]\n",
      "1.0 1 0.0 [1]\n",
      "1.0 -1 0.5 [1]\n",
      "1.0 0 0.5 [1]\n",
      "1.0 1 0.5 [1]\n",
      "1.0 -1 1.0 [0]\n",
      "1.0 0 1.0 [1]\n",
      "1.0 1 1.0 [1]\n",
      "1.1 -1 0.0 [1]\n",
      "1.1 0 0.0 [1]\n",
      "1.1 1 0.0 [1]\n",
      "1.1 -1 0.5 [1]\n",
      "1.1 0 0.5 [1]\n",
      "1.1 1 0.5 [1]\n",
      "1.1 -1 1.0 [0]\n",
      "1.1 0 1.0 [1]\n",
      "1.1 1 1.0 [1]\n",
      "1.2 -1 0.0 [1]\n",
      "1.2 0 0.0 [1]\n",
      "1.2 1 0.0 [1]\n",
      "1.2 -1 0.5 [1]\n",
      "1.2 0 0.5 [1]\n",
      "1.2 1 0.5 [1]\n",
      "1.2 -1 1.0 [0]\n",
      "1.2 0 1.0 [1]\n",
      "1.2 1 1.0 [1]\n",
      "1.3 -1 0.0 [1]\n",
      "1.3 0 0.0 [1]\n",
      "1.3 1 0.0 [1]\n",
      "1.3 -1 0.5 [1]\n",
      "1.3 0 0.5 [1]\n",
      "1.3 1 0.5 [1]\n",
      "1.3 -1 1.0 [0]\n",
      "1.3 0 1.0 [1]\n",
      "1.3 1 1.0 [1]\n",
      "1.4 -1 0.0 [1]\n",
      "1.4 0 0.0 [1]\n",
      "1.4 1 0.0 [1]\n",
      "1.4 -1 0.5 [1]\n",
      "1.4 0 0.5 [1]\n",
      "1.4 1 0.5 [1]\n",
      "1.4 -1 1.0 [0]\n",
      "1.4 0 1.0 [1]\n",
      "1.4 1 1.0 [1]\n",
      "1.5 -1 0.0 [1]\n",
      "1.5 0 0.0 [1]\n",
      "1.5 1 0.0 [1]\n",
      "1.5 -1 0.5 [1]\n",
      "1.5 0 0.5 [1]\n",
      "1.5 1 0.5 [1]\n",
      "1.5 -1 1.0 [0]\n",
      "1.5 0 1.0 [1]\n",
      "1.5 1 1.0 [1]\n",
      "1.6 -1 0.0 [1]\n",
      "1.6 0 0.0 [1]\n",
      "1.6 1 0.0 [1]\n",
      "1.6 -1 0.5 [1]\n",
      "1.6 0 0.5 [1]\n",
      "1.6 1 0.5 [1]\n",
      "1.6 -1 1.0 [0]\n",
      "1.6 0 1.0 [1]\n",
      "1.6 1 1.0 [1]\n",
      "1.7 -1 0.0 [1]\n",
      "1.7 0 0.0 [1]\n",
      "1.7 1 0.0 [1]\n",
      "1.7 -1 0.5 [1]\n",
      "1.7 0 0.5 [1]\n",
      "1.7 1 0.5 [1]\n",
      "1.7 -1 1.0 [0]\n",
      "1.7 0 1.0 [1]\n",
      "1.7 1 1.0 [1]\n",
      "1.8 -1 0.0 [1]\n",
      "1.8 0 0.0 [1]\n",
      "1.8 1 0.0 [1]\n",
      "1.8 -1 0.5 [1]\n",
      "1.8 0 0.5 [1]\n",
      "1.8 1 0.5 [1]\n",
      "1.8 -1 1.0 [0]\n",
      "1.8 0 1.0 [1]\n",
      "1.8 1 1.0 [1]\n",
      "1.9 -1 0.0 [1]\n",
      "1.9 0 0.0 [1]\n",
      "1.9 1 0.0 [1]\n",
      "1.9 -1 0.5 [1]\n",
      "1.9 0 0.5 [1]\n",
      "1.9 1 0.5 [1]\n",
      "1.9 -1 1.0 [0]\n",
      "1.9 0 1.0 [1]\n",
      "1.9 1 1.0 [1]\n",
      "2.0 -1 0.0 [1]\n",
      "2.0 0 0.0 [1]\n",
      "2.0 1 0.0 [1]\n",
      "2.0 -1 0.5 [1]\n",
      "2.0 0 0.5 [1]\n",
      "2.0 1 0.5 [1]\n",
      "2.0 -1 1.0 [0]\n",
      "2.0 0 1.0 [1]\n",
      "2.0 1 1.0 [1]\n",
      "2.1 -1 0.0 [1]\n",
      "2.1 0 0.0 [1]\n",
      "2.1 1 0.0 [1]\n",
      "2.1 -1 0.5 [1]\n",
      "2.1 0 0.5 [1]\n",
      "2.1 1 0.5 [1]\n",
      "2.1 -1 1.0 [0]\n",
      "2.1 0 1.0 [0]\n",
      "2.1 1 1.0 [1]\n",
      "2.2 -1 0.0 [1]\n",
      "2.2 0 0.0 [1]\n",
      "2.2 1 0.0 [1]\n",
      "2.2 -1 0.5 [1]\n",
      "2.2 0 0.5 [0]\n",
      "2.2 1 0.5 [1]\n",
      "2.2 -1 1.0 [0]\n",
      "2.2 0 1.0 [0]\n",
      "2.2 1 1.0 [1]\n",
      "2.3 -1 0.0 [1]\n",
      "2.3 0 0.0 [0]\n",
      "2.3 1 0.0 [1]\n",
      "2.3 -1 0.5 [1]\n",
      "2.3 0 0.5 [0]\n",
      "2.3 1 0.5 [1]\n",
      "2.3 -1 1.0 [0]\n",
      "2.3 0 1.0 [1]\n",
      "2.3 1 1.0 [1]\n",
      "2.4 -1 0.0 [1]\n",
      "2.4 0 0.0 [0]\n",
      "2.4 1 0.0 [1]\n",
      "2.4 -1 0.5 [1]\n",
      "2.4 0 0.5 [0]\n",
      "2.4 1 0.5 [1]\n",
      "2.4 -1 1.0 [0]\n",
      "2.4 0 1.0 [1]\n",
      "2.4 1 1.0 [1]\n",
      "2.5 -1 0.0 [1]\n",
      "2.5 0 0.0 [1]\n",
      "2.5 1 0.0 [0]\n",
      "2.5 -1 0.5 [1]\n",
      "2.5 0 0.5 [0]\n",
      "2.5 1 0.5 [1]\n",
      "2.5 -1 1.0 [0]\n",
      "2.5 0 1.0 [1]\n",
      "2.5 1 1.0 [1]\n",
      "2.6 -1 0.0 [1]\n",
      "2.6 0 0.0 [1]\n",
      "2.6 1 0.0 [0]\n",
      "2.6 -1 0.5 [1]\n",
      "2.6 0 0.5 [0]\n",
      "2.6 1 0.5 [0]\n",
      "2.6 -1 1.0 [0]\n",
      "2.6 0 1.0 [0]\n",
      "2.6 1 1.0 [1]\n",
      "2.7 -1 0.0 [1]\n",
      "2.7 0 0.0 [1]\n",
      "2.7 1 0.0 [1]\n",
      "2.7 -1 0.5 [1]\n",
      "2.7 0 0.5 [0]\n",
      "2.7 1 0.5 [0]\n",
      "2.7 -1 1.0 [0]\n",
      "2.7 0 1.0 [0]\n",
      "2.7 1 1.0 [1]\n",
      "2.8 -1 0.0 [0]\n",
      "2.8 0 0.0 [1]\n",
      "2.8 1 0.0 [0]\n",
      "2.8 -1 0.5 [1]\n",
      "2.8 0 0.5 [0]\n",
      "2.8 1 0.5 [0]\n",
      "2.8 -1 1.0 [0]\n",
      "2.8 0 1.0 [0]\n",
      "2.8 1 1.0 [1]\n",
      "2.9 -1 0.0 [0]\n",
      "2.9 0 0.0 [0]\n",
      "2.9 1 0.0 [0]\n",
      "2.9 -1 0.5 [1]\n",
      "2.9 0 0.5 [0]\n",
      "2.9 1 0.5 [0]\n",
      "2.9 -1 1.0 [0]\n",
      "2.9 0 1.0 [0]\n",
      "2.9 1 1.0 [1]\n",
      "3.0 -1 0.0 [1]\n",
      "3.0 0 0.0 [0]\n",
      "3.0 1 0.0 [1]\n",
      "3.0 -1 0.5 [0]\n",
      "3.0 0 0.5 [0]\n",
      "3.0 1 0.5 [1]\n",
      "3.0 -1 1.0 [0]\n",
      "3.0 0 1.0 [0]\n",
      "3.0 1 1.0 [1]\n",
      "3.1 -1 0.0 [1]\n",
      "3.1 0 0.0 [1]\n",
      "3.1 1 0.0 [1]\n",
      "3.1 -1 0.5 [0]\n",
      "3.1 0 0.5 [1]\n",
      "3.1 1 0.5 [0]\n",
      "3.1 -1 1.0 [0]\n",
      "3.1 0 1.0 [0]\n",
      "3.1 1 1.0 [0]\n",
      "3.2 -1 0.0 [1]\n",
      "3.2 0 0.0 [1]\n",
      "3.2 1 0.0 [1]\n",
      "3.2 -1 0.5 [1]\n",
      "3.2 0 0.5 [0]\n",
      "3.2 1 0.5 [0]\n",
      "3.2 -1 1.0 [0]\n",
      "3.2 0 1.0 [0]\n",
      "3.2 1 1.0 [0]\n",
      "3.3 -1 0.0 [1]\n",
      "3.3 0 0.0 [1]\n",
      "3.3 1 0.0 [1]\n",
      "3.3 -1 0.5 [1]\n",
      "3.3 0 0.5 [0]\n",
      "3.3 1 0.5 [0]\n",
      "3.3 -1 1.0 [0]\n",
      "3.3 0 1.0 [1]\n",
      "3.3 1 1.0 [0]\n",
      "3.4 -1 0.0 [1]\n",
      "3.4 0 0.0 [0]\n",
      "3.4 1 0.0 [0]\n",
      "3.4 -1 0.5 [1]\n",
      "3.4 0 0.5 [0]\n",
      "3.4 1 0.5 [0]\n",
      "3.4 -1 1.0 [0]\n",
      "3.4 0 1.0 [0]\n",
      "3.4 1 1.0 [0]\n",
      "3.5 -1 0.0 [1]\n",
      "3.5 0 0.0 [0]\n",
      "3.5 1 0.0 [0]\n",
      "3.5 -1 0.5 [1]\n",
      "3.5 0 0.5 [0]\n",
      "3.5 1 0.5 [1]\n",
      "3.5 -1 1.0 [0]\n",
      "3.5 0 1.0 [0]\n",
      "3.5 1 1.0 [0]\n",
      "3.6 -1 0.0 [1]\n",
      "3.6 0 0.0 [0]\n",
      "3.6 1 0.0 [0]\n",
      "3.6 -1 0.5 [1]\n",
      "3.6 0 0.5 [1]\n",
      "3.6 1 0.5 [0]\n",
      "3.6 -1 1.0 [0]\n",
      "3.6 0 1.0 [0]\n",
      "3.6 1 1.0 [0]\n",
      "3.7 -1 0.0 [1]\n",
      "3.7 0 0.0 [0]\n",
      "3.7 1 0.0 [0]\n",
      "3.7 -1 0.5 [0]\n",
      "3.7 0 0.5 [1]\n",
      "3.7 1 0.5 [0]\n",
      "3.7 -1 1.0 [0]\n",
      "3.7 0 1.0 [1]\n",
      "3.7 1 1.0 [0]\n",
      "3.8 -1 0.0 [1]\n",
      "3.8 0 0.0 [0]\n",
      "3.8 1 0.0 [0]\n",
      "3.8 -1 0.5 [1]\n",
      "3.8 0 0.5 [0]\n",
      "3.8 1 0.5 [0]\n",
      "3.8 -1 1.0 [0]\n",
      "3.8 0 1.0 [1]\n",
      "3.8 1 1.0 [0]\n",
      "3.9 -1 0.0 [1]\n",
      "3.9 0 0.0 [0]\n",
      "3.9 1 0.0 [0]\n",
      "3.9 -1 0.5 [1]\n",
      "3.9 0 0.5 [0]\n",
      "3.9 1 0.5 [1]\n",
      "3.9 -1 1.0 [0]\n",
      "3.9 0 1.0 [0]\n",
      "3.9 1 1.0 [0]\n"
     ]
    }
   ],
   "source": [
    "for base in range(0,4,1):\n",
    "    for point in range(10):\n",
    "        GPA =  float(str(base) + \".\" + str(point))\n",
    "        for seat in range(3):\n",
    "            seatNum = (seat/2)\n",
    "            for wtFeel in range(-1,2,1):\n",
    "                res = cls.predict([GPA, wtFeel, seatNum])\n",
    "                print(GPA, wtFeel, seatNum, res)\n"
   ]
  },
  {
   "cell_type": "code",
   "execution_count": 241,
   "metadata": {
    "collapsed": false
   },
   "outputs": [
    {
     "data": {
      "text/html": [
       "<div>\n",
       "<table border=\"1\" class=\"dataframe\">\n",
       "  <thead>\n",
       "    <tr style=\"text-align: right;\">\n",
       "      <th></th>\n",
       "      <th>Gender</th>\n",
       "      <th>Height</th>\n",
       "      <th>GPA</th>\n",
       "      <th>HS_GPA</th>\n",
       "      <th>Seat</th>\n",
       "      <th>WtFeel</th>\n",
       "      <th>Cheat</th>\n",
       "      <th>SeatNum</th>\n",
       "      <th>WtFeelNum</th>\n",
       "      <th>GenderNum</th>\n",
       "      <th>CheatNum</th>\n",
       "    </tr>\n",
       "  </thead>\n",
       "  <tbody>\n",
       "    <tr>\n",
       "      <th>0</th>\n",
       "      <td>Female</td>\n",
       "      <td>64.0</td>\n",
       "      <td>2.60</td>\n",
       "      <td>2.63</td>\n",
       "      <td>M</td>\n",
       "      <td>AboutRt</td>\n",
       "      <td>No</td>\n",
       "      <td>0.5</td>\n",
       "      <td>0</td>\n",
       "      <td>0</td>\n",
       "      <td>0</td>\n",
       "    </tr>\n",
       "    <tr>\n",
       "      <th>1</th>\n",
       "      <td>Male</td>\n",
       "      <td>69.0</td>\n",
       "      <td>2.70</td>\n",
       "      <td>3.72</td>\n",
       "      <td>M</td>\n",
       "      <td>AboutRt</td>\n",
       "      <td>No</td>\n",
       "      <td>0.5</td>\n",
       "      <td>0</td>\n",
       "      <td>1</td>\n",
       "      <td>0</td>\n",
       "    </tr>\n",
       "    <tr>\n",
       "      <th>2</th>\n",
       "      <td>Female</td>\n",
       "      <td>66.0</td>\n",
       "      <td>3.00</td>\n",
       "      <td>3.44</td>\n",
       "      <td>F</td>\n",
       "      <td>AboutRt</td>\n",
       "      <td>No</td>\n",
       "      <td>1.0</td>\n",
       "      <td>0</td>\n",
       "      <td>0</td>\n",
       "      <td>0</td>\n",
       "    </tr>\n",
       "    <tr>\n",
       "      <th>3</th>\n",
       "      <td>Female</td>\n",
       "      <td>63.0</td>\n",
       "      <td>3.11</td>\n",
       "      <td>2.73</td>\n",
       "      <td>F</td>\n",
       "      <td>AboutRt</td>\n",
       "      <td>No</td>\n",
       "      <td>1.0</td>\n",
       "      <td>0</td>\n",
       "      <td>0</td>\n",
       "      <td>0</td>\n",
       "    </tr>\n",
       "    <tr>\n",
       "      <th>4</th>\n",
       "      <td>Male</td>\n",
       "      <td>72.0</td>\n",
       "      <td>3.40</td>\n",
       "      <td>2.35</td>\n",
       "      <td>B</td>\n",
       "      <td>OverWt</td>\n",
       "      <td>No</td>\n",
       "      <td>0.0</td>\n",
       "      <td>1</td>\n",
       "      <td>1</td>\n",
       "      <td>0</td>\n",
       "    </tr>\n",
       "    <tr>\n",
       "      <th>5</th>\n",
       "      <td>Female</td>\n",
       "      <td>67.0</td>\n",
       "      <td>3.43</td>\n",
       "      <td>3.84</td>\n",
       "      <td>M</td>\n",
       "      <td>AboutRt</td>\n",
       "      <td>No</td>\n",
       "      <td>0.5</td>\n",
       "      <td>0</td>\n",
       "      <td>0</td>\n",
       "      <td>0</td>\n",
       "    </tr>\n",
       "    <tr>\n",
       "      <th>6</th>\n",
       "      <td>Male</td>\n",
       "      <td>69.0</td>\n",
       "      <td>3.70</td>\n",
       "      <td>4.00</td>\n",
       "      <td>F</td>\n",
       "      <td>AboutRt</td>\n",
       "      <td>No</td>\n",
       "      <td>1.0</td>\n",
       "      <td>0</td>\n",
       "      <td>1</td>\n",
       "      <td>0</td>\n",
       "    </tr>\n",
       "    <tr>\n",
       "      <th>7</th>\n",
       "      <td>Male</td>\n",
       "      <td>74.0</td>\n",
       "      <td>3.70</td>\n",
       "      <td>3.92</td>\n",
       "      <td>B</td>\n",
       "      <td>AboutRt</td>\n",
       "      <td>No</td>\n",
       "      <td>0.0</td>\n",
       "      <td>0</td>\n",
       "      <td>1</td>\n",
       "      <td>0</td>\n",
       "    </tr>\n",
       "    <tr>\n",
       "      <th>8</th>\n",
       "      <td>Male</td>\n",
       "      <td>72.0</td>\n",
       "      <td>3.77</td>\n",
       "      <td>3.09</td>\n",
       "      <td>M</td>\n",
       "      <td>UnderWt</td>\n",
       "      <td>No</td>\n",
       "      <td>0.5</td>\n",
       "      <td>-1</td>\n",
       "      <td>1</td>\n",
       "      <td>0</td>\n",
       "    </tr>\n",
       "    <tr>\n",
       "      <th>9</th>\n",
       "      <td>Female</td>\n",
       "      <td>63.0</td>\n",
       "      <td>3.50</td>\n",
       "      <td>4.00</td>\n",
       "      <td>F</td>\n",
       "      <td>AboutRt</td>\n",
       "      <td>No</td>\n",
       "      <td>1.0</td>\n",
       "      <td>0</td>\n",
       "      <td>0</td>\n",
       "      <td>0</td>\n",
       "    </tr>\n",
       "    <tr>\n",
       "      <th>10</th>\n",
       "      <td>Male</td>\n",
       "      <td>68.5</td>\n",
       "      <td>3.00</td>\n",
       "      <td>3.43</td>\n",
       "      <td>F</td>\n",
       "      <td>OverWt</td>\n",
       "      <td>No</td>\n",
       "      <td>1.0</td>\n",
       "      <td>1</td>\n",
       "      <td>1</td>\n",
       "      <td>0</td>\n",
       "    </tr>\n",
       "    <tr>\n",
       "      <th>11</th>\n",
       "      <td>Male</td>\n",
       "      <td>70.0</td>\n",
       "      <td>3.00</td>\n",
       "      <td>3.62</td>\n",
       "      <td>M</td>\n",
       "      <td>AboutRt</td>\n",
       "      <td>No</td>\n",
       "      <td>0.5</td>\n",
       "      <td>0</td>\n",
       "      <td>1</td>\n",
       "      <td>0</td>\n",
       "    </tr>\n",
       "    <tr>\n",
       "      <th>12</th>\n",
       "      <td>Male</td>\n",
       "      <td>71.0</td>\n",
       "      <td>3.50</td>\n",
       "      <td>3.49</td>\n",
       "      <td>F</td>\n",
       "      <td>AboutRt</td>\n",
       "      <td>No</td>\n",
       "      <td>1.0</td>\n",
       "      <td>0</td>\n",
       "      <td>1</td>\n",
       "      <td>0</td>\n",
       "    </tr>\n",
       "    <tr>\n",
       "      <th>13</th>\n",
       "      <td>Male</td>\n",
       "      <td>68.0</td>\n",
       "      <td>3.25</td>\n",
       "      <td>3.09</td>\n",
       "      <td>M</td>\n",
       "      <td>UnderWt</td>\n",
       "      <td>No</td>\n",
       "      <td>0.5</td>\n",
       "      <td>-1</td>\n",
       "      <td>1</td>\n",
       "      <td>0</td>\n",
       "    </tr>\n",
       "    <tr>\n",
       "      <th>14</th>\n",
       "      <td>Female</td>\n",
       "      <td>60.0</td>\n",
       "      <td>2.83</td>\n",
       "      <td>3.22</td>\n",
       "      <td>M</td>\n",
       "      <td>AboutRt</td>\n",
       "      <td>No</td>\n",
       "      <td>0.5</td>\n",
       "      <td>0</td>\n",
       "      <td>0</td>\n",
       "      <td>0</td>\n",
       "    </tr>\n",
       "    <tr>\n",
       "      <th>15</th>\n",
       "      <td>Male</td>\n",
       "      <td>71.0</td>\n",
       "      <td>2.62</td>\n",
       "      <td>2.52</td>\n",
       "      <td>F</td>\n",
       "      <td>OverWt</td>\n",
       "      <td>No</td>\n",
       "      <td>1.0</td>\n",
       "      <td>1</td>\n",
       "      <td>1</td>\n",
       "      <td>0</td>\n",
       "    </tr>\n",
       "    <tr>\n",
       "      <th>16</th>\n",
       "      <td>Female</td>\n",
       "      <td>68.0</td>\n",
       "      <td>3.15</td>\n",
       "      <td>2.36</td>\n",
       "      <td>M</td>\n",
       "      <td>AboutRt</td>\n",
       "      <td>No</td>\n",
       "      <td>0.5</td>\n",
       "      <td>0</td>\n",
       "      <td>0</td>\n",
       "      <td>0</td>\n",
       "    </tr>\n",
       "    <tr>\n",
       "      <th>17</th>\n",
       "      <td>Female</td>\n",
       "      <td>67.0</td>\n",
       "      <td>4.20</td>\n",
       "      <td>4.00</td>\n",
       "      <td>M</td>\n",
       "      <td>AboutRt</td>\n",
       "      <td>Yes</td>\n",
       "      <td>0.5</td>\n",
       "      <td>0</td>\n",
       "      <td>0</td>\n",
       "      <td>1</td>\n",
       "    </tr>\n",
       "    <tr>\n",
       "      <th>18</th>\n",
       "      <td>Female</td>\n",
       "      <td>66.0</td>\n",
       "      <td>3.70</td>\n",
       "      <td>4.00</td>\n",
       "      <td>F</td>\n",
       "      <td>OverWt</td>\n",
       "      <td>Yes</td>\n",
       "      <td>1.0</td>\n",
       "      <td>1</td>\n",
       "      <td>0</td>\n",
       "      <td>1</td>\n",
       "    </tr>\n",
       "    <tr>\n",
       "      <th>19</th>\n",
       "      <td>Male</td>\n",
       "      <td>69.0</td>\n",
       "      <td>4.38</td>\n",
       "      <td>4.00</td>\n",
       "      <td>M</td>\n",
       "      <td>UnderWt</td>\n",
       "      <td>No</td>\n",
       "      <td>0.5</td>\n",
       "      <td>-1</td>\n",
       "      <td>1</td>\n",
       "      <td>0</td>\n",
       "    </tr>\n",
       "  </tbody>\n",
       "</table>\n",
       "</div>"
      ],
      "text/plain": [
       "    Gender  Height   GPA  HS_GPA Seat   WtFeel Cheat  SeatNum  WtFeelNum  \\\n",
       "0   Female    64.0  2.60    2.63    M  AboutRt    No      0.5          0   \n",
       "1     Male    69.0  2.70    3.72    M  AboutRt    No      0.5          0   \n",
       "2   Female    66.0  3.00    3.44    F  AboutRt    No      1.0          0   \n",
       "3   Female    63.0  3.11    2.73    F  AboutRt    No      1.0          0   \n",
       "4     Male    72.0  3.40    2.35    B   OverWt    No      0.0          1   \n",
       "5   Female    67.0  3.43    3.84    M  AboutRt    No      0.5          0   \n",
       "6     Male    69.0  3.70    4.00    F  AboutRt    No      1.0          0   \n",
       "7     Male    74.0  3.70    3.92    B  AboutRt    No      0.0          0   \n",
       "8     Male    72.0  3.77    3.09    M  UnderWt    No      0.5         -1   \n",
       "9   Female    63.0  3.50    4.00    F  AboutRt    No      1.0          0   \n",
       "10    Male    68.5  3.00    3.43    F   OverWt    No      1.0          1   \n",
       "11    Male    70.0  3.00    3.62    M  AboutRt    No      0.5          0   \n",
       "12    Male    71.0  3.50    3.49    F  AboutRt    No      1.0          0   \n",
       "13    Male    68.0  3.25    3.09    M  UnderWt    No      0.5         -1   \n",
       "14  Female    60.0  2.83    3.22    M  AboutRt    No      0.5          0   \n",
       "15    Male    71.0  2.62    2.52    F   OverWt    No      1.0          1   \n",
       "16  Female    68.0  3.15    2.36    M  AboutRt    No      0.5          0   \n",
       "17  Female    67.0  4.20    4.00    M  AboutRt   Yes      0.5          0   \n",
       "18  Female    66.0  3.70    4.00    F   OverWt   Yes      1.0          1   \n",
       "19    Male    69.0  4.38    4.00    M  UnderWt    No      0.5         -1   \n",
       "\n",
       "    GenderNum  CheatNum  \n",
       "0           0         0  \n",
       "1           1         0  \n",
       "2           0         0  \n",
       "3           0         0  \n",
       "4           1         0  \n",
       "5           0         0  \n",
       "6           1         0  \n",
       "7           1         0  \n",
       "8           1         0  \n",
       "9           0         0  \n",
       "10          1         0  \n",
       "11          1         0  \n",
       "12          1         0  \n",
       "13          1         0  \n",
       "14          0         0  \n",
       "15          1         0  \n",
       "16          0         0  \n",
       "17          0         1  \n",
       "18          0         1  \n",
       "19          1         0  "
      ]
     },
     "execution_count": 241,
     "metadata": {},
     "output_type": "execute_result"
    }
   ],
   "source": [
    "BI.head(20)"
   ]
  },
  {
   "cell_type": "code",
   "execution_count": null,
   "metadata": {
    "collapsed": false
   },
   "outputs": [],
   "source": []
  },
  {
   "cell_type": "code",
   "execution_count": null,
   "metadata": {
    "collapsed": true
   },
   "outputs": [],
   "source": []
  },
  {
   "cell_type": "code",
   "execution_count": null,
   "metadata": {
    "collapsed": true
   },
   "outputs": [],
   "source": []
  },
  {
   "cell_type": "code",
   "execution_count": null,
   "metadata": {
    "collapsed": true
   },
   "outputs": [],
   "source": []
  },
  {
   "cell_type": "code",
   "execution_count": null,
   "metadata": {
    "collapsed": true
   },
   "outputs": [],
   "source": []
  },
  {
   "cell_type": "code",
   "execution_count": null,
   "metadata": {
    "collapsed": false
   },
   "outputs": [],
   "source": [
    "   "
   ]
  },
  {
   "cell_type": "code",
   "execution_count": null,
   "metadata": {
    "collapsed": false
   },
   "outputs": [],
   "source": []
  },
  {
   "cell_type": "code",
   "execution_count": null,
   "metadata": {
    "collapsed": true
   },
   "outputs": [],
   "source": []
  },
  {
   "cell_type": "code",
   "execution_count": null,
   "metadata": {
    "collapsed": true
   },
   "outputs": [],
   "source": []
  },
  {
   "cell_type": "code",
   "execution_count": null,
   "metadata": {
    "collapsed": true
   },
   "outputs": [],
   "source": []
  },
  {
   "cell_type": "code",
   "execution_count": null,
   "metadata": {
    "collapsed": true
   },
   "outputs": [],
   "source": []
  },
  {
   "cell_type": "code",
   "execution_count": null,
   "metadata": {
    "collapsed": true
   },
   "outputs": [],
   "source": []
  }
 ],
 "metadata": {
  "kernelspec": {
   "display_name": "Python 3",
   "language": "python",
   "name": "python3"
  },
  "language_info": {
   "codemirror_mode": {
    "name": "ipython",
    "version": 3
   },
   "file_extension": ".py",
   "mimetype": "text/x-python",
   "name": "python",
   "nbconvert_exporter": "python",
   "pygments_lexer": "ipython3",
   "version": "3.4.2"
  }
 },
 "nbformat": 4,
 "nbformat_minor": 0
}
